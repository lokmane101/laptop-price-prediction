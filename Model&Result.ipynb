{
 "cells": [
  {
   "cell_type": "code",
   "execution_count": 1,
   "id": "c93deeb1-0372-4f5f-97a3-4fc2313aae7d",
   "metadata": {},
   "outputs": [],
   "source": [
    "from sklearn.linear_model import LinearRegression,Ridge,Lasso,ElasticNet\n",
    "from sklearn.neighbors import KNeighborsRegressor\n",
    "from sklearn.metrics import mean_squared_error\n",
    "from sklearn.tree import DecisionTreeRegressor\n",
    "import matplotlib.pyplot as plt\n",
    "from xgboost import XGBRegressor\n",
    "from sklearn.ensemble import RandomForestRegressor,GradientBoostingRegressor,AdaBoostRegressor,ExtraTreesRegressor\n",
    "from sklearn.svm import SVR\n",
    "from xgboost import XGBRegressor\n",
    "from sklearn.compose import ColumnTransformer\n",
    "from sklearn.pipeline import Pipeline\n",
    "from sklearn.model_selection import GridSearchCV\n",
    "from sklearn.metrics import r2_score,mean_absolute_error\n",
    "from sklearn.model_selection import train_test_split \n",
    "import numpy as np\n",
    "import pandas as pd"
   ]
  },
  {
   "cell_type": "code",
   "execution_count": 2,
   "id": "4003304e-83d4-4ae0-aba1-76172671abfa",
   "metadata": {},
   "outputs": [],
   "source": [
    "df = pd.read_csv(\"DATA/Final_data.csv\")"
   ]
  },
  {
   "cell_type": "code",
   "execution_count": 3,
   "id": "6f371dbe-9e03-4a5e-9d4d-d50d1db82ac4",
   "metadata": {},
   "outputs": [],
   "source": [
    "X = df.drop(columns=['PRIX'])\n",
    "y = np.log(df['PRIX'])"
   ]
  },
  {
   "cell_type": "code",
   "execution_count": 4,
   "id": "95ade4f4-7c2e-4142-8df3-486465033e4e",
   "metadata": {},
   "outputs": [],
   "source": [
    "X_train,X_test,y_train,y_test=train_test_split(X,y,test_size=0.2, random_state=2)"
   ]
  },
  {
   "cell_type": "markdown",
   "id": "922d8b04-11a1-4390-8dd7-aed0f1f65d09",
   "metadata": {},
   "source": [
    " # LinearRegression "
   ]
  },
  {
   "cell_type": "code",
   "execution_count": 5,
   "id": "8a8a138c-3109-4093-9223-9846b490fc19",
   "metadata": {},
   "outputs": [
    {
     "name": "stdout",
     "output_type": "stream",
     "text": [
      "Best parameters for Linear Regression: {'fit_intercept': False}\n",
      "Best score for Linear Regression: 0.7413050664126344\n"
     ]
    }
   ],
   "source": [
    "\n",
    "from sklearn.linear_model import LinearRegression\n",
    "\n",
    "\n",
    "# Define the model\n",
    "model = LinearRegression()\n",
    "\n",
    "# Define the parameters for grid search\n",
    "param_grid = { \n",
    "    'fit_intercept': [True, False],\n",
    "    \n",
    "}\n",
    "\n",
    "# Perform grid search\n",
    "grid_search = GridSearchCV(estimator=model, param_grid=param_grid, cv=5)\n",
    "grid_search.fit(X_train, y_train)\n",
    "\n",
    "# Print the best parameters and the best score\n",
    "print(f\"Best parameters for Linear Regression: {grid_search.best_params_}\")\n",
    "print(f\"Best score for Linear Regression: {grid_search.best_score_}\")\n",
    "\n"
   ]
  },
  {
   "cell_type": "code",
   "execution_count": 6,
   "id": "d41c80b4-0725-420d-8bfe-ca0b9d913440",
   "metadata": {},
   "outputs": [
    {
     "data": {
      "text/html": [
       "<style>#sk-container-id-1 {color: black;}#sk-container-id-1 pre{padding: 0;}#sk-container-id-1 div.sk-toggleable {background-color: white;}#sk-container-id-1 label.sk-toggleable__label {cursor: pointer;display: block;width: 100%;margin-bottom: 0;padding: 0.3em;box-sizing: border-box;text-align: center;}#sk-container-id-1 label.sk-toggleable__label-arrow:before {content: \"▸\";float: left;margin-right: 0.25em;color: #696969;}#sk-container-id-1 label.sk-toggleable__label-arrow:hover:before {color: black;}#sk-container-id-1 div.sk-estimator:hover label.sk-toggleable__label-arrow:before {color: black;}#sk-container-id-1 div.sk-toggleable__content {max-height: 0;max-width: 0;overflow: hidden;text-align: left;background-color: #f0f8ff;}#sk-container-id-1 div.sk-toggleable__content pre {margin: 0.2em;color: black;border-radius: 0.25em;background-color: #f0f8ff;}#sk-container-id-1 input.sk-toggleable__control:checked~div.sk-toggleable__content {max-height: 200px;max-width: 100%;overflow: auto;}#sk-container-id-1 input.sk-toggleable__control:checked~label.sk-toggleable__label-arrow:before {content: \"▾\";}#sk-container-id-1 div.sk-estimator input.sk-toggleable__control:checked~label.sk-toggleable__label {background-color: #d4ebff;}#sk-container-id-1 div.sk-label input.sk-toggleable__control:checked~label.sk-toggleable__label {background-color: #d4ebff;}#sk-container-id-1 input.sk-hidden--visually {border: 0;clip: rect(1px 1px 1px 1px);clip: rect(1px, 1px, 1px, 1px);height: 1px;margin: -1px;overflow: hidden;padding: 0;position: absolute;width: 1px;}#sk-container-id-1 div.sk-estimator {font-family: monospace;background-color: #f0f8ff;border: 1px dotted black;border-radius: 0.25em;box-sizing: border-box;margin-bottom: 0.5em;}#sk-container-id-1 div.sk-estimator:hover {background-color: #d4ebff;}#sk-container-id-1 div.sk-parallel-item::after {content: \"\";width: 100%;border-bottom: 1px solid gray;flex-grow: 1;}#sk-container-id-1 div.sk-label:hover label.sk-toggleable__label {background-color: #d4ebff;}#sk-container-id-1 div.sk-serial::before {content: \"\";position: absolute;border-left: 1px solid gray;box-sizing: border-box;top: 0;bottom: 0;left: 50%;z-index: 0;}#sk-container-id-1 div.sk-serial {display: flex;flex-direction: column;align-items: center;background-color: white;padding-right: 0.2em;padding-left: 0.2em;position: relative;}#sk-container-id-1 div.sk-item {position: relative;z-index: 1;}#sk-container-id-1 div.sk-parallel {display: flex;align-items: stretch;justify-content: center;background-color: white;position: relative;}#sk-container-id-1 div.sk-item::before, #sk-container-id-1 div.sk-parallel-item::before {content: \"\";position: absolute;border-left: 1px solid gray;box-sizing: border-box;top: 0;bottom: 0;left: 50%;z-index: -1;}#sk-container-id-1 div.sk-parallel-item {display: flex;flex-direction: column;z-index: 1;position: relative;background-color: white;}#sk-container-id-1 div.sk-parallel-item:first-child::after {align-self: flex-end;width: 50%;}#sk-container-id-1 div.sk-parallel-item:last-child::after {align-self: flex-start;width: 50%;}#sk-container-id-1 div.sk-parallel-item:only-child::after {width: 0;}#sk-container-id-1 div.sk-dashed-wrapped {border: 1px dashed gray;margin: 0 0.4em 0.5em 0.4em;box-sizing: border-box;padding-bottom: 0.4em;background-color: white;}#sk-container-id-1 div.sk-label label {font-family: monospace;font-weight: bold;display: inline-block;line-height: 1.2em;}#sk-container-id-1 div.sk-label-container {text-align: center;}#sk-container-id-1 div.sk-container {/* jupyter's `normalize.less` sets `[hidden] { display: none; }` but bootstrap.min.css set `[hidden] { display: none !important; }` so we also need the `!important` here to be able to override the default hidden behavior on the sphinx rendered scikit-learn.org. See: https://github.com/scikit-learn/scikit-learn/issues/21755 */display: inline-block !important;position: relative;}#sk-container-id-1 div.sk-text-repr-fallback {display: none;}</style><div id=\"sk-container-id-1\" class=\"sk-top-container\"><div class=\"sk-text-repr-fallback\"><pre>LinearRegression()</pre><b>In a Jupyter environment, please rerun this cell to show the HTML representation or trust the notebook. <br />On GitHub, the HTML representation is unable to render, please try loading this page with nbviewer.org.</b></div><div class=\"sk-container\" hidden><div class=\"sk-item\"><div class=\"sk-estimator sk-toggleable\"><input class=\"sk-toggleable__control sk-hidden--visually\" id=\"sk-estimator-id-1\" type=\"checkbox\" checked><label for=\"sk-estimator-id-1\" class=\"sk-toggleable__label sk-toggleable__label-arrow\">LinearRegression</label><div class=\"sk-toggleable__content\"><pre>LinearRegression()</pre></div></div></div></div></div>"
      ],
      "text/plain": [
       "LinearRegression()"
      ]
     },
     "execution_count": 6,
     "metadata": {},
     "output_type": "execute_result"
    }
   ],
   "source": [
    "LR_best_model=LinearRegression(fit_intercept=False)\n",
    "LR_best_model.fit(X_train,y_train)\n",
    "\n",
    "LR_model = LinearRegression()\n",
    "LR_model.fit(X_train,y_train)"
   ]
  },
  {
   "cell_type": "code",
   "execution_count": 10,
   "id": "00f78e09-49dc-40fd-a7bb-e97e42687b22",
   "metadata": {},
   "outputs": [],
   "source": [
    "#--------------------train set ----------------------------------------\n",
    "LR_y_pred_default=LR_model.predict(X_train)\n",
    "LR_mse_default_train = mean_squared_error(y_train, LR_y_pred_default)\n",
    "LR_r2_default_train = r2_score(y_train, LR_y_pred_default)\n",
    "\n",
    "LR_y_pred = LR_best_model.predict(X_train)\n",
    "LR_mse_train = mean_squared_error(y_train, LR_y_pred)\n",
    "LR_r2_train = r2_score(y_train, LR_y_pred)\n",
    "\n",
    "#--------------------test set ----------------------------------------\n",
    "LR_y_pred_default=LR_model.predict(X_test)\n",
    "LR_mse_default = mean_squared_error(y_test, LR_y_pred_default)\n",
    "LR_r2_default = r2_score(y_test, LR_y_pred_default)\n",
    "\n",
    "LR_y_pred = LR_best_model.predict(X_test)\n",
    "LR_mse = mean_squared_error(y_test, LR_y_pred)\n",
    "LR_r2 = r2_score(y_test, LR_y_pred)"
   ]
  },
  {
   "cell_type": "code",
   "execution_count": 12,
   "id": "1fcec70e-f3bd-477b-9673-7219246e02a1",
   "metadata": {},
   "outputs": [
    {
     "name": "stdout",
     "output_type": "stream",
     "text": [
      "Training scores\n",
      "R-squared  default score: 0.76\n",
      "mse dfault for DecisionTreeRegressor: 0.10\n",
      "R-squared score: 0.76\n",
      "Error for DecisionTreeRegressor: 0.10\n",
      "_______________________________________\n",
      "\n",
      "Testing scores\n",
      "R-squared  default score: 0.72\n",
      "mse dfault for DecisionTreeRegressor: 0.11\n",
      "R-squared score: 0.72\n",
      "mse for DecisionTreeRegressor: 0.11\n"
     ]
    }
   ],
   "source": [
    "#--------------------train set ----------------------------------------\n",
    "print(\"Training scores\")\n",
    "print(f\"R-squared  default score: {LR_r2_default_train:.2f}\")\n",
    "print(f\"mse dfault for DecisionTreeRegressor: {LR_mse_default_train:.2f}\")\n",
    "\n",
    "print(f\"R-squared score: {LR_r2_train:.2f}\")\n",
    "print(f\"Error for DecisionTreeRegressor: {LR_mse_train:.2f}\")\n",
    "\n",
    "print(\"_______________________________________\\n\")\n",
    "#--------------------test set ----------------------------------------\n",
    "print(\"Testing scores\")\n",
    "print(f\"R-squared  default score: {LR_r2_default:.2f}\")\n",
    "print(f\"mse dfault for DecisionTreeRegressor: {LR_mse_default:.2f}\")\n",
    "\n",
    "print(f\"R-squared score: {LR_r2:.2f}\")\n",
    "print(f\"mse for DecisionTreeRegressor: {LR_mse:.2f}\")"
   ]
  },
  {
   "cell_type": "markdown",
   "id": "119ae905-9500-4517-85cf-95e6ca39d0e8",
   "metadata": {},
   "source": [
    "# Dicision Tree"
   ]
  },
  {
   "cell_type": "code",
   "execution_count": 13,
   "id": "27dfaf39-8e5f-489f-a0e2-8d62e60e8f76",
   "metadata": {},
   "outputs": [
    {
     "name": "stdout",
     "output_type": "stream",
     "text": [
      "Best parameters for DecisionTreeRegressor: {'max_depth': 40, 'min_samples_leaf': 2, 'min_samples_split': 10}\n",
      "Best score for DecisionTreeRegressor: 0.7900244472816056\n"
     ]
    }
   ],
   "source": [
    "model = DecisionTreeRegressor()\n",
    "\n",
    "# Define the parameters for grid search\n",
    "param_grid = { 'max_depth': [None, 10, 20, 30, 40], 'min_samples_split': [2, 5, 10], 'min_samples_leaf': [1, 2, 4] }\n",
    "\n",
    "# Perform grid search\n",
    "grid_search = GridSearchCV(estimator=model, param_grid=param_grid, cv=5)\n",
    "grid_search.fit(X_train, y_train)\n",
    "\n",
    "# Print the best parameters and the best score\n",
    "print(f\"Best parameters for DecisionTreeRegressor: {grid_search.best_params_}\")\n",
    "print(f\"Best score for DecisionTreeRegressor: {grid_search.best_score_}\")\n",
    "\n",
    "\n"
   ]
  },
  {
   "cell_type": "markdown",
   "id": "5cd31ea8-41e5-4b7e-8ddb-1835ab592db5",
   "metadata": {},
   "source": [
    "Train two models, one with the best parametres and onather one with default parametr and compare results"
   ]
  },
  {
   "cell_type": "code",
   "execution_count": 14,
   "id": "65cf328c-5348-41f7-ab42-abd44a48faa5",
   "metadata": {},
   "outputs": [
    {
     "data": {
      "text/html": [
       "<style>#sk-container-id-2 {color: black;}#sk-container-id-2 pre{padding: 0;}#sk-container-id-2 div.sk-toggleable {background-color: white;}#sk-container-id-2 label.sk-toggleable__label {cursor: pointer;display: block;width: 100%;margin-bottom: 0;padding: 0.3em;box-sizing: border-box;text-align: center;}#sk-container-id-2 label.sk-toggleable__label-arrow:before {content: \"▸\";float: left;margin-right: 0.25em;color: #696969;}#sk-container-id-2 label.sk-toggleable__label-arrow:hover:before {color: black;}#sk-container-id-2 div.sk-estimator:hover label.sk-toggleable__label-arrow:before {color: black;}#sk-container-id-2 div.sk-toggleable__content {max-height: 0;max-width: 0;overflow: hidden;text-align: left;background-color: #f0f8ff;}#sk-container-id-2 div.sk-toggleable__content pre {margin: 0.2em;color: black;border-radius: 0.25em;background-color: #f0f8ff;}#sk-container-id-2 input.sk-toggleable__control:checked~div.sk-toggleable__content {max-height: 200px;max-width: 100%;overflow: auto;}#sk-container-id-2 input.sk-toggleable__control:checked~label.sk-toggleable__label-arrow:before {content: \"▾\";}#sk-container-id-2 div.sk-estimator input.sk-toggleable__control:checked~label.sk-toggleable__label {background-color: #d4ebff;}#sk-container-id-2 div.sk-label input.sk-toggleable__control:checked~label.sk-toggleable__label {background-color: #d4ebff;}#sk-container-id-2 input.sk-hidden--visually {border: 0;clip: rect(1px 1px 1px 1px);clip: rect(1px, 1px, 1px, 1px);height: 1px;margin: -1px;overflow: hidden;padding: 0;position: absolute;width: 1px;}#sk-container-id-2 div.sk-estimator {font-family: monospace;background-color: #f0f8ff;border: 1px dotted black;border-radius: 0.25em;box-sizing: border-box;margin-bottom: 0.5em;}#sk-container-id-2 div.sk-estimator:hover {background-color: #d4ebff;}#sk-container-id-2 div.sk-parallel-item::after {content: \"\";width: 100%;border-bottom: 1px solid gray;flex-grow: 1;}#sk-container-id-2 div.sk-label:hover label.sk-toggleable__label {background-color: #d4ebff;}#sk-container-id-2 div.sk-serial::before {content: \"\";position: absolute;border-left: 1px solid gray;box-sizing: border-box;top: 0;bottom: 0;left: 50%;z-index: 0;}#sk-container-id-2 div.sk-serial {display: flex;flex-direction: column;align-items: center;background-color: white;padding-right: 0.2em;padding-left: 0.2em;position: relative;}#sk-container-id-2 div.sk-item {position: relative;z-index: 1;}#sk-container-id-2 div.sk-parallel {display: flex;align-items: stretch;justify-content: center;background-color: white;position: relative;}#sk-container-id-2 div.sk-item::before, #sk-container-id-2 div.sk-parallel-item::before {content: \"\";position: absolute;border-left: 1px solid gray;box-sizing: border-box;top: 0;bottom: 0;left: 50%;z-index: -1;}#sk-container-id-2 div.sk-parallel-item {display: flex;flex-direction: column;z-index: 1;position: relative;background-color: white;}#sk-container-id-2 div.sk-parallel-item:first-child::after {align-self: flex-end;width: 50%;}#sk-container-id-2 div.sk-parallel-item:last-child::after {align-self: flex-start;width: 50%;}#sk-container-id-2 div.sk-parallel-item:only-child::after {width: 0;}#sk-container-id-2 div.sk-dashed-wrapped {border: 1px dashed gray;margin: 0 0.4em 0.5em 0.4em;box-sizing: border-box;padding-bottom: 0.4em;background-color: white;}#sk-container-id-2 div.sk-label label {font-family: monospace;font-weight: bold;display: inline-block;line-height: 1.2em;}#sk-container-id-2 div.sk-label-container {text-align: center;}#sk-container-id-2 div.sk-container {/* jupyter's `normalize.less` sets `[hidden] { display: none; }` but bootstrap.min.css set `[hidden] { display: none !important; }` so we also need the `!important` here to be able to override the default hidden behavior on the sphinx rendered scikit-learn.org. See: https://github.com/scikit-learn/scikit-learn/issues/21755 */display: inline-block !important;position: relative;}#sk-container-id-2 div.sk-text-repr-fallback {display: none;}</style><div id=\"sk-container-id-2\" class=\"sk-top-container\"><div class=\"sk-text-repr-fallback\"><pre>DecisionTreeRegressor()</pre><b>In a Jupyter environment, please rerun this cell to show the HTML representation or trust the notebook. <br />On GitHub, the HTML representation is unable to render, please try loading this page with nbviewer.org.</b></div><div class=\"sk-container\" hidden><div class=\"sk-item\"><div class=\"sk-estimator sk-toggleable\"><input class=\"sk-toggleable__control sk-hidden--visually\" id=\"sk-estimator-id-2\" type=\"checkbox\" checked><label for=\"sk-estimator-id-2\" class=\"sk-toggleable__label sk-toggleable__label-arrow\">DecisionTreeRegressor</label><div class=\"sk-toggleable__content\"><pre>DecisionTreeRegressor()</pre></div></div></div></div></div>"
      ],
      "text/plain": [
       "DecisionTreeRegressor()"
      ]
     },
     "execution_count": 14,
     "metadata": {},
     "output_type": "execute_result"
    }
   ],
   "source": [
    "DT_best_model=DecisionTreeRegressor(max_depth= 10, min_samples_leaf=2,min_samples_split=10)\n",
    "DT_best_model.fit(X_train,y_train)\n",
    "\n",
    "DT_model = DecisionTreeRegressor()\n",
    "DT_model.fit(X_train,y_train)"
   ]
  },
  {
   "cell_type": "code",
   "execution_count": 15,
   "id": "81fe5248-6a93-4cf8-9f99-7952959ea307",
   "metadata": {},
   "outputs": [],
   "source": [
    "#--------------------train set ----------------------------------------\n",
    "DT_y_pred_default=DT_model.predict(X_train)\n",
    "DT_mse_default_train = mean_squared_error(y_train, DT_y_pred_default)\n",
    "DT_r2_default_train = r2_score(y_train, DT_y_pred_default)\n",
    "\n",
    "DT_y_pred = DT_best_model.predict(X_train)\n",
    "DT_mse_train = mean_squared_error(y_train, DT_y_pred)\n",
    "DT_r2_train = r2_score(y_train, DT_y_pred)\n",
    "\n",
    "#--------------------test set ----------------------------------------\n",
    "DT_y_pred_default=DT_model.predict(X_test)\n",
    "DT_mse_default = mean_squared_error(y_test, DT_y_pred_default)\n",
    "DT_r2_default = r2_score(y_test, DT_y_pred_default)\n",
    "\n",
    "DT_y_pred = DT_best_model.predict(X_test)\n",
    "DT_mse = mean_squared_error(y_test, DT_y_pred)\n",
    "DT_r2 = r2_score(y_test, DT_y_pred)\n"
   ]
  },
  {
   "cell_type": "code",
   "execution_count": 16,
   "id": "ef26ffd2-6257-4ba4-b344-ee1fa0c6d287",
   "metadata": {},
   "outputs": [
    {
     "name": "stdout",
     "output_type": "stream",
     "text": [
      "Training scores\n",
      "R-squared  default score: 0.99\n",
      "mse dfault for DecisionTreeRegressor: 0.00\n",
      "R-squared score: 0.89\n",
      "Error for DecisionTreeRegressor: 0.04\n",
      "_______________________________________\n",
      "\n",
      "Testing scores\n",
      "R-squared  default score: 0.72\n",
      "mse dfault for DecisionTreeRegressor: 0.11\n",
      "R-squared score: 0.73\n",
      "mse for DecisionTreeRegressor: 0.11\n"
     ]
    }
   ],
   "source": [
    "#--------------------train set ----------------------------------------\n",
    "print(\"Training scores\")\n",
    "print(f\"R-squared  default score: {DT_r2_default_train:.2f}\")\n",
    "print(f\"mse dfault for DecisionTreeRegressor: {DT_mse_default_train:.2f}\")\n",
    "\n",
    "print(f\"R-squared score: {DT_r2_train:.2f}\")\n",
    "print(f\"Error for DecisionTreeRegressor: {DT_mse_train:.2f}\")\n",
    "\n",
    "print(\"_______________________________________\\n\")\n",
    "#--------------------test set ----------------------------------------\n",
    "print(\"Testing scores\")\n",
    "print(f\"R-squared  default score: {DT_r2_default:.2f}\")\n",
    "print(f\"mse dfault for DecisionTreeRegressor: {DT_mse_default:.2f}\")\n",
    "\n",
    "print(f\"R-squared score: {DT_r2:.2f}\")\n",
    "print(f\"mse for DecisionTreeRegressor: {DT_mse:.2f}\")\n"
   ]
  },
  {
   "cell_type": "markdown",
   "id": "06073140-cc07-4928-8420-29c9db9dfb7d",
   "metadata": {},
   "source": [
    "## RandomForestRegressor"
   ]
  },
  {
   "cell_type": "code",
   "execution_count": 17,
   "id": "25527517-88a2-4816-aea7-080f18b07616",
   "metadata": {},
   "outputs": [
    {
     "name": "stdout",
     "output_type": "stream",
     "text": [
      "Best parameters for RandomForestRegressor: {'max_depth': 20, 'n_estimators': 100}\n",
      "Best score for RandomForestRegressor: 0.8462450847684055\n"
     ]
    }
   ],
   "source": [
    "\n",
    "model = RandomForestRegressor()\n",
    "\n",
    "param_grid = { 'n_estimators': [10, 50, 100], 'max_depth': [None, 10, 20, 30] }\n",
    "\n",
    "# Perform grid search\n",
    "grid_search = GridSearchCV(estimator=model, param_grid=param_grid, cv=5)\n",
    "grid_search.fit(X_train, y_train)\n",
    "\n",
    "# Print the best parameters and the best score\n",
    "print(f\"Best parameters for RandomForestRegressor: {grid_search.best_params_}\")\n",
    "print(f\"Best score for RandomForestRegressor: {grid_search.best_score_}\")\n",
    "\n"
   ]
  },
  {
   "cell_type": "code",
   "execution_count": 18,
   "id": "c3ba76e4-4e7b-4dcd-a37a-a272d318196b",
   "metadata": {},
   "outputs": [
    {
     "data": {
      "text/html": [
       "<style>#sk-container-id-3 {color: black;}#sk-container-id-3 pre{padding: 0;}#sk-container-id-3 div.sk-toggleable {background-color: white;}#sk-container-id-3 label.sk-toggleable__label {cursor: pointer;display: block;width: 100%;margin-bottom: 0;padding: 0.3em;box-sizing: border-box;text-align: center;}#sk-container-id-3 label.sk-toggleable__label-arrow:before {content: \"▸\";float: left;margin-right: 0.25em;color: #696969;}#sk-container-id-3 label.sk-toggleable__label-arrow:hover:before {color: black;}#sk-container-id-3 div.sk-estimator:hover label.sk-toggleable__label-arrow:before {color: black;}#sk-container-id-3 div.sk-toggleable__content {max-height: 0;max-width: 0;overflow: hidden;text-align: left;background-color: #f0f8ff;}#sk-container-id-3 div.sk-toggleable__content pre {margin: 0.2em;color: black;border-radius: 0.25em;background-color: #f0f8ff;}#sk-container-id-3 input.sk-toggleable__control:checked~div.sk-toggleable__content {max-height: 200px;max-width: 100%;overflow: auto;}#sk-container-id-3 input.sk-toggleable__control:checked~label.sk-toggleable__label-arrow:before {content: \"▾\";}#sk-container-id-3 div.sk-estimator input.sk-toggleable__control:checked~label.sk-toggleable__label {background-color: #d4ebff;}#sk-container-id-3 div.sk-label input.sk-toggleable__control:checked~label.sk-toggleable__label {background-color: #d4ebff;}#sk-container-id-3 input.sk-hidden--visually {border: 0;clip: rect(1px 1px 1px 1px);clip: rect(1px, 1px, 1px, 1px);height: 1px;margin: -1px;overflow: hidden;padding: 0;position: absolute;width: 1px;}#sk-container-id-3 div.sk-estimator {font-family: monospace;background-color: #f0f8ff;border: 1px dotted black;border-radius: 0.25em;box-sizing: border-box;margin-bottom: 0.5em;}#sk-container-id-3 div.sk-estimator:hover {background-color: #d4ebff;}#sk-container-id-3 div.sk-parallel-item::after {content: \"\";width: 100%;border-bottom: 1px solid gray;flex-grow: 1;}#sk-container-id-3 div.sk-label:hover label.sk-toggleable__label {background-color: #d4ebff;}#sk-container-id-3 div.sk-serial::before {content: \"\";position: absolute;border-left: 1px solid gray;box-sizing: border-box;top: 0;bottom: 0;left: 50%;z-index: 0;}#sk-container-id-3 div.sk-serial {display: flex;flex-direction: column;align-items: center;background-color: white;padding-right: 0.2em;padding-left: 0.2em;position: relative;}#sk-container-id-3 div.sk-item {position: relative;z-index: 1;}#sk-container-id-3 div.sk-parallel {display: flex;align-items: stretch;justify-content: center;background-color: white;position: relative;}#sk-container-id-3 div.sk-item::before, #sk-container-id-3 div.sk-parallel-item::before {content: \"\";position: absolute;border-left: 1px solid gray;box-sizing: border-box;top: 0;bottom: 0;left: 50%;z-index: -1;}#sk-container-id-3 div.sk-parallel-item {display: flex;flex-direction: column;z-index: 1;position: relative;background-color: white;}#sk-container-id-3 div.sk-parallel-item:first-child::after {align-self: flex-end;width: 50%;}#sk-container-id-3 div.sk-parallel-item:last-child::after {align-self: flex-start;width: 50%;}#sk-container-id-3 div.sk-parallel-item:only-child::after {width: 0;}#sk-container-id-3 div.sk-dashed-wrapped {border: 1px dashed gray;margin: 0 0.4em 0.5em 0.4em;box-sizing: border-box;padding-bottom: 0.4em;background-color: white;}#sk-container-id-3 div.sk-label label {font-family: monospace;font-weight: bold;display: inline-block;line-height: 1.2em;}#sk-container-id-3 div.sk-label-container {text-align: center;}#sk-container-id-3 div.sk-container {/* jupyter's `normalize.less` sets `[hidden] { display: none; }` but bootstrap.min.css set `[hidden] { display: none !important; }` so we also need the `!important` here to be able to override the default hidden behavior on the sphinx rendered scikit-learn.org. See: https://github.com/scikit-learn/scikit-learn/issues/21755 */display: inline-block !important;position: relative;}#sk-container-id-3 div.sk-text-repr-fallback {display: none;}</style><div id=\"sk-container-id-3\" class=\"sk-top-container\"><div class=\"sk-text-repr-fallback\"><pre>RandomForestRegressor()</pre><b>In a Jupyter environment, please rerun this cell to show the HTML representation or trust the notebook. <br />On GitHub, the HTML representation is unable to render, please try loading this page with nbviewer.org.</b></div><div class=\"sk-container\" hidden><div class=\"sk-item\"><div class=\"sk-estimator sk-toggleable\"><input class=\"sk-toggleable__control sk-hidden--visually\" id=\"sk-estimator-id-3\" type=\"checkbox\" checked><label for=\"sk-estimator-id-3\" class=\"sk-toggleable__label sk-toggleable__label-arrow\">RandomForestRegressor</label><div class=\"sk-toggleable__content\"><pre>RandomForestRegressor()</pre></div></div></div></div></div>"
      ],
      "text/plain": [
       "RandomForestRegressor()"
      ]
     },
     "execution_count": 18,
     "metadata": {},
     "output_type": "execute_result"
    }
   ],
   "source": [
    "RF_best_model=RandomForestRegressor(max_depth= 20, n_estimators=100)\n",
    "RF_best_model.fit(X_train,y_train)\n",
    "\n",
    "RF_model = RandomForestRegressor()\n",
    "RF_model.fit(X_train,y_train)"
   ]
  },
  {
   "cell_type": "code",
   "execution_count": 20,
   "id": "54a3bc4f-34e7-4566-879c-2882c554b5c1",
   "metadata": {},
   "outputs": [],
   "source": [
    "#--------------------train set ----------------------------------------\n",
    "RF_y_pred_default=RF_model.predict(X_train)\n",
    "RF_mse_default_train = mean_squared_error(y_train, RF_y_pred_default)\n",
    "RF_r2_default_train = r2_score(y_train, RF_y_pred_default)\n",
    "\n",
    "RF_y_pred = RF_best_model.predict(X_train)\n",
    "RF_mse_train = mean_squared_error(y_train, RF_y_pred)\n",
    "RF_r2_train = r2_score(y_train, RF_y_pred)\n",
    "\n",
    "#--------------------test set ----------------------------------------\n",
    "RF_y_pred_default=RF_model.predict(X_test)\n",
    "RF_mse_default = mean_squared_error(y_test, RF_y_pred_default)\n",
    "RF_r2_default = r2_score(y_test, RF_y_pred_default)\n",
    "\n",
    "RF_y_pred = RF_best_model.predict(X_test)\n",
    "RF_mse = mean_squared_error(y_test, RF_y_pred)\n",
    "RF_r2 = r2_score(y_test, RF_y_pred)\n"
   ]
  },
  {
   "cell_type": "code",
   "execution_count": 21,
   "id": "5b75db94-552a-4373-b745-341a4bf3f287",
   "metadata": {},
   "outputs": [
    {
     "name": "stdout",
     "output_type": "stream",
     "text": [
      "Training scores\n",
      "R-squared  default score: 0.973145501284371\n",
      "mse dfault for DecisionTreeRegressor: 0.011096659766195005\n",
      "R-squared score: 0.9740218618647862\n",
      "Error for DecisionTreeRegressor: 0.010734535144307627\n",
      "_______________________________________\n",
      "\n",
      "Testing scores\n",
      "R-squared  default score: 0.8291582800277342\n",
      "mse dfault for DecisionTreeRegressor: 0.06829384360666207\n",
      "R-squared score: 0.8254429738464828\n",
      "mse for DecisionTreeRegressor: 0.06977903433954885\n"
     ]
    }
   ],
   "source": [
    "#--------------------train set ----------------------------------------\n",
    "print(\"Training scores\")\n",
    "print(f\"R-squared  default score: {RF_r2_default_train}\")\n",
    "print(f\"mse dfault for DecisionTreeRegressor: {RF_mse_default_train}\")\n",
    "\n",
    "print(f\"R-squared score: {RF_r2_train}\")\n",
    "print(f\"Error for DecisionTreeRegressor: {RF_mse_train}\")\n",
    "\n",
    "print(\"_______________________________________\\n\")\n",
    "#--------------------test set ----------------------------------------\n",
    "print(\"Testing scores\")\n",
    "print(f\"R-squared  default score: {RF_r2_default}\")\n",
    "print(f\"mse dfault for DecisionTreeRegressor: {RF_mse_default}\")\n",
    "\n",
    "print(f\"R-squared score: {RF_r2}\")\n",
    "print(f\"mse for DecisionTreeRegressor: {RF_mse}\")"
   ]
  },
  {
   "cell_type": "markdown",
   "id": "8790a073-91a2-4ae0-b8e3-eeaefc387277",
   "metadata": {},
   "source": [
    "# ElasticNet"
   ]
  },
  {
   "cell_type": "code",
   "execution_count": 22,
   "id": "884233f4-bff5-4a1e-984e-3270a5830dd0",
   "metadata": {},
   "outputs": [
    {
     "name": "stdout",
     "output_type": "stream",
     "text": [
      "Best parameters for ElasticNet: {'alpha': 0.1, 'l1_ratio': 0.1}\n",
      "Best score for ElasticNet: 0.6691849018104072\n"
     ]
    }
   ],
   "source": [
    "model = ElasticNet()\n",
    "\n",
    "param_grid = { 'alpha': [0.1, 0.5, 1, 2, 5], 'l1_ratio': [0.1, 0.3, 0.5, 0.7, 0.9] }\n",
    "\n",
    "grid_search = GridSearchCV(estimator=model, param_grid=param_grid, cv=5)\n",
    "grid_search.fit(X_train, y_train)\n",
    "\n",
    "print(f\"Best parameters for ElasticNet: {grid_search.best_params_}\")\n",
    "print(f\"Best score for ElasticNet: {grid_search.best_score_}\")\n",
    "\n"
   ]
  },
  {
   "cell_type": "code",
   "execution_count": 23,
   "id": "1080d08a-2622-4b2b-b780-d57ac44df060",
   "metadata": {},
   "outputs": [
    {
     "data": {
      "text/html": [
       "<style>#sk-container-id-4 {color: black;}#sk-container-id-4 pre{padding: 0;}#sk-container-id-4 div.sk-toggleable {background-color: white;}#sk-container-id-4 label.sk-toggleable__label {cursor: pointer;display: block;width: 100%;margin-bottom: 0;padding: 0.3em;box-sizing: border-box;text-align: center;}#sk-container-id-4 label.sk-toggleable__label-arrow:before {content: \"▸\";float: left;margin-right: 0.25em;color: #696969;}#sk-container-id-4 label.sk-toggleable__label-arrow:hover:before {color: black;}#sk-container-id-4 div.sk-estimator:hover label.sk-toggleable__label-arrow:before {color: black;}#sk-container-id-4 div.sk-toggleable__content {max-height: 0;max-width: 0;overflow: hidden;text-align: left;background-color: #f0f8ff;}#sk-container-id-4 div.sk-toggleable__content pre {margin: 0.2em;color: black;border-radius: 0.25em;background-color: #f0f8ff;}#sk-container-id-4 input.sk-toggleable__control:checked~div.sk-toggleable__content {max-height: 200px;max-width: 100%;overflow: auto;}#sk-container-id-4 input.sk-toggleable__control:checked~label.sk-toggleable__label-arrow:before {content: \"▾\";}#sk-container-id-4 div.sk-estimator input.sk-toggleable__control:checked~label.sk-toggleable__label {background-color: #d4ebff;}#sk-container-id-4 div.sk-label input.sk-toggleable__control:checked~label.sk-toggleable__label {background-color: #d4ebff;}#sk-container-id-4 input.sk-hidden--visually {border: 0;clip: rect(1px 1px 1px 1px);clip: rect(1px, 1px, 1px, 1px);height: 1px;margin: -1px;overflow: hidden;padding: 0;position: absolute;width: 1px;}#sk-container-id-4 div.sk-estimator {font-family: monospace;background-color: #f0f8ff;border: 1px dotted black;border-radius: 0.25em;box-sizing: border-box;margin-bottom: 0.5em;}#sk-container-id-4 div.sk-estimator:hover {background-color: #d4ebff;}#sk-container-id-4 div.sk-parallel-item::after {content: \"\";width: 100%;border-bottom: 1px solid gray;flex-grow: 1;}#sk-container-id-4 div.sk-label:hover label.sk-toggleable__label {background-color: #d4ebff;}#sk-container-id-4 div.sk-serial::before {content: \"\";position: absolute;border-left: 1px solid gray;box-sizing: border-box;top: 0;bottom: 0;left: 50%;z-index: 0;}#sk-container-id-4 div.sk-serial {display: flex;flex-direction: column;align-items: center;background-color: white;padding-right: 0.2em;padding-left: 0.2em;position: relative;}#sk-container-id-4 div.sk-item {position: relative;z-index: 1;}#sk-container-id-4 div.sk-parallel {display: flex;align-items: stretch;justify-content: center;background-color: white;position: relative;}#sk-container-id-4 div.sk-item::before, #sk-container-id-4 div.sk-parallel-item::before {content: \"\";position: absolute;border-left: 1px solid gray;box-sizing: border-box;top: 0;bottom: 0;left: 50%;z-index: -1;}#sk-container-id-4 div.sk-parallel-item {display: flex;flex-direction: column;z-index: 1;position: relative;background-color: white;}#sk-container-id-4 div.sk-parallel-item:first-child::after {align-self: flex-end;width: 50%;}#sk-container-id-4 div.sk-parallel-item:last-child::after {align-self: flex-start;width: 50%;}#sk-container-id-4 div.sk-parallel-item:only-child::after {width: 0;}#sk-container-id-4 div.sk-dashed-wrapped {border: 1px dashed gray;margin: 0 0.4em 0.5em 0.4em;box-sizing: border-box;padding-bottom: 0.4em;background-color: white;}#sk-container-id-4 div.sk-label label {font-family: monospace;font-weight: bold;display: inline-block;line-height: 1.2em;}#sk-container-id-4 div.sk-label-container {text-align: center;}#sk-container-id-4 div.sk-container {/* jupyter's `normalize.less` sets `[hidden] { display: none; }` but bootstrap.min.css set `[hidden] { display: none !important; }` so we also need the `!important` here to be able to override the default hidden behavior on the sphinx rendered scikit-learn.org. See: https://github.com/scikit-learn/scikit-learn/issues/21755 */display: inline-block !important;position: relative;}#sk-container-id-4 div.sk-text-repr-fallback {display: none;}</style><div id=\"sk-container-id-4\" class=\"sk-top-container\"><div class=\"sk-text-repr-fallback\"><pre>ElasticNet()</pre><b>In a Jupyter environment, please rerun this cell to show the HTML representation or trust the notebook. <br />On GitHub, the HTML representation is unable to render, please try loading this page with nbviewer.org.</b></div><div class=\"sk-container\" hidden><div class=\"sk-item\"><div class=\"sk-estimator sk-toggleable\"><input class=\"sk-toggleable__control sk-hidden--visually\" id=\"sk-estimator-id-4\" type=\"checkbox\" checked><label for=\"sk-estimator-id-4\" class=\"sk-toggleable__label sk-toggleable__label-arrow\">ElasticNet</label><div class=\"sk-toggleable__content\"><pre>ElasticNet()</pre></div></div></div></div></div>"
      ],
      "text/plain": [
       "ElasticNet()"
      ]
     },
     "execution_count": 23,
     "metadata": {},
     "output_type": "execute_result"
    }
   ],
   "source": [
    "EN_best_model=ElasticNet(alpha=0.1, l1_ratio= 0.1)\n",
    "EN_best_model.fit(X_train,y_train)\n",
    "\n",
    "EN_model = ElasticNet()\n",
    "EN_model.fit(X_train,y_train)"
   ]
  },
  {
   "cell_type": "code",
   "execution_count": 24,
   "id": "04613121-e131-44d8-932f-7903e5a899c3",
   "metadata": {},
   "outputs": [],
   "source": [
    "#--------------------train set ----------------------------------------\n",
    "EN_y_pred_default=EN_model.predict(X_train)\n",
    "EN_mse_default_train = mean_squared_error(y_train, EN_y_pred_default)\n",
    "EN_r2_default_train = r2_score(y_train, EN_y_pred_default)\n",
    "\n",
    "EN_y_pred = EN_best_model.predict(X_train)\n",
    "EN_mse_train = mean_squared_error(y_train, EN_y_pred)\n",
    "EN_r2_train = r2_score(y_train, EN_y_pred)\n",
    "\n",
    "#--------------------test set ----------------------------------------\n",
    "EN_y_pred_default=EN_model.predict(X_test)\n",
    "EN_mse_default = mean_squared_error(y_test, EN_y_pred_default)\n",
    "EN_r2_default = r2_score(y_test, EN_y_pred_default)\n",
    "\n",
    "EN_y_pred = EN_best_model.predict(X_test)\n",
    "EN_mse = mean_squared_error(y_test, EN_y_pred)\n",
    "EN_r2 = r2_score(y_test, EN_y_pred)"
   ]
  },
  {
   "cell_type": "code",
   "execution_count": 25,
   "id": "0bfd7500-e768-4e61-ba3b-d471b492ed6d",
   "metadata": {},
   "outputs": [
    {
     "name": "stdout",
     "output_type": "stream",
     "text": [
      "Training scores\n",
      "R-squared  default score: 0.44\n",
      "mse dfault for DecisionTreeRegressor: 0.23\n",
      "R-squared score: 0.68\n",
      "Error for DecisionTreeRegressor: 0.13\n",
      "_______________________________________\n",
      "\n",
      "Testing scores\n",
      "R-squared  default score: 0.44\n",
      "mse dfault for DecisionTreeRegressor: 0.22\n",
      "R-squared score: 0.66\n",
      "mse for DecisionTreeRegressor: 0.14\n"
     ]
    }
   ],
   "source": [
    "#--------------------train set ----------------------------------------\n",
    "print(\"Training scores\")\n",
    "print(f\"R-squared  default score: {EN_r2_default_train:.2f}\")\n",
    "print(f\"mse dfault for DecisionTreeRegressor: {EN_mse_default_train:.2f}\")\n",
    "\n",
    "print(f\"R-squared score: {EN_r2_train:.2f}\")\n",
    "print(f\"Error for DecisionTreeRegressor: {EN_mse_train:.2f}\")\n",
    "\n",
    "print(\"_______________________________________\\n\")\n",
    "#--------------------test set ----------------------------------------\n",
    "print(\"Testing scores\")\n",
    "print(f\"R-squared  default score: {EN_r2_default:.2f}\")\n",
    "print(f\"mse dfault for DecisionTreeRegressor: {EN_mse_default:.2f}\")\n",
    "\n",
    "print(f\"R-squared score: {EN_r2:.2f}\")\n",
    "print(f\"mse for DecisionTreeRegressor: {EN_mse:.2f}\")"
   ]
  },
  {
   "cell_type": "markdown",
   "id": "9b7d1cc0-cbc5-4049-be5d-81ff698ba358",
   "metadata": {},
   "source": [
    "# XGBRegressor"
   ]
  },
  {
   "cell_type": "code",
   "execution_count": 26,
   "id": "e245eacc-9c90-4a4d-ae43-56e69f56e7f1",
   "metadata": {},
   "outputs": [
    {
     "name": "stdout",
     "output_type": "stream",
     "text": [
      "Best parameters for XGBoost: {'alpha': 5, 'colsample_bytree': 0.7, 'learning_rate': 0.2, 'max_depth': 15, 'n_estimators': 50, 'objective': 'reg:squarederror'}\n",
      "Best score for XGBoost: 0.8243375170080623\n"
     ]
    }
   ],
   "source": [
    "model = XGBRegressor()\n",
    "\n",
    "# Define the parameters for grid search\n",
    "param_grid = { \n",
    "    'objective': ['reg:squarederror'],\n",
    "    'colsample_bytree': [0.3, 0.5, 0.7],\n",
    "    'learning_rate': [0.01, 0.1, 0.2],\n",
    "    'max_depth': [5, 10, 15],\n",
    "    'alpha': [5, 10, 15],\n",
    "    'n_estimators': [10, 50, 100]\n",
    "}\n",
    "\n",
    "# Perform grid search\n",
    "grid_search = GridSearchCV(estimator=model, param_grid=param_grid, cv=5)\n",
    "grid_search.fit(X_train, y_train)\n",
    "\n",
    "# Print the best parameters and the best score\n",
    "print(f\"Best parameters for XGBoost: {grid_search.best_params_}\")\n",
    "print(f\"Best score for XGBoost: {grid_search.best_score_}\")\n"
   ]
  },
  {
   "cell_type": "code",
   "execution_count": 27,
   "id": "b6170faf-87ff-4355-a9bc-a866840db5d4",
   "metadata": {},
   "outputs": [
    {
     "data": {
      "text/html": [
       "<style>#sk-container-id-5 {color: black;}#sk-container-id-5 pre{padding: 0;}#sk-container-id-5 div.sk-toggleable {background-color: white;}#sk-container-id-5 label.sk-toggleable__label {cursor: pointer;display: block;width: 100%;margin-bottom: 0;padding: 0.3em;box-sizing: border-box;text-align: center;}#sk-container-id-5 label.sk-toggleable__label-arrow:before {content: \"▸\";float: left;margin-right: 0.25em;color: #696969;}#sk-container-id-5 label.sk-toggleable__label-arrow:hover:before {color: black;}#sk-container-id-5 div.sk-estimator:hover label.sk-toggleable__label-arrow:before {color: black;}#sk-container-id-5 div.sk-toggleable__content {max-height: 0;max-width: 0;overflow: hidden;text-align: left;background-color: #f0f8ff;}#sk-container-id-5 div.sk-toggleable__content pre {margin: 0.2em;color: black;border-radius: 0.25em;background-color: #f0f8ff;}#sk-container-id-5 input.sk-toggleable__control:checked~div.sk-toggleable__content {max-height: 200px;max-width: 100%;overflow: auto;}#sk-container-id-5 input.sk-toggleable__control:checked~label.sk-toggleable__label-arrow:before {content: \"▾\";}#sk-container-id-5 div.sk-estimator input.sk-toggleable__control:checked~label.sk-toggleable__label {background-color: #d4ebff;}#sk-container-id-5 div.sk-label input.sk-toggleable__control:checked~label.sk-toggleable__label {background-color: #d4ebff;}#sk-container-id-5 input.sk-hidden--visually {border: 0;clip: rect(1px 1px 1px 1px);clip: rect(1px, 1px, 1px, 1px);height: 1px;margin: -1px;overflow: hidden;padding: 0;position: absolute;width: 1px;}#sk-container-id-5 div.sk-estimator {font-family: monospace;background-color: #f0f8ff;border: 1px dotted black;border-radius: 0.25em;box-sizing: border-box;margin-bottom: 0.5em;}#sk-container-id-5 div.sk-estimator:hover {background-color: #d4ebff;}#sk-container-id-5 div.sk-parallel-item::after {content: \"\";width: 100%;border-bottom: 1px solid gray;flex-grow: 1;}#sk-container-id-5 div.sk-label:hover label.sk-toggleable__label {background-color: #d4ebff;}#sk-container-id-5 div.sk-serial::before {content: \"\";position: absolute;border-left: 1px solid gray;box-sizing: border-box;top: 0;bottom: 0;left: 50%;z-index: 0;}#sk-container-id-5 div.sk-serial {display: flex;flex-direction: column;align-items: center;background-color: white;padding-right: 0.2em;padding-left: 0.2em;position: relative;}#sk-container-id-5 div.sk-item {position: relative;z-index: 1;}#sk-container-id-5 div.sk-parallel {display: flex;align-items: stretch;justify-content: center;background-color: white;position: relative;}#sk-container-id-5 div.sk-item::before, #sk-container-id-5 div.sk-parallel-item::before {content: \"\";position: absolute;border-left: 1px solid gray;box-sizing: border-box;top: 0;bottom: 0;left: 50%;z-index: -1;}#sk-container-id-5 div.sk-parallel-item {display: flex;flex-direction: column;z-index: 1;position: relative;background-color: white;}#sk-container-id-5 div.sk-parallel-item:first-child::after {align-self: flex-end;width: 50%;}#sk-container-id-5 div.sk-parallel-item:last-child::after {align-self: flex-start;width: 50%;}#sk-container-id-5 div.sk-parallel-item:only-child::after {width: 0;}#sk-container-id-5 div.sk-dashed-wrapped {border: 1px dashed gray;margin: 0 0.4em 0.5em 0.4em;box-sizing: border-box;padding-bottom: 0.4em;background-color: white;}#sk-container-id-5 div.sk-label label {font-family: monospace;font-weight: bold;display: inline-block;line-height: 1.2em;}#sk-container-id-5 div.sk-label-container {text-align: center;}#sk-container-id-5 div.sk-container {/* jupyter's `normalize.less` sets `[hidden] { display: none; }` but bootstrap.min.css set `[hidden] { display: none !important; }` so we also need the `!important` here to be able to override the default hidden behavior on the sphinx rendered scikit-learn.org. See: https://github.com/scikit-learn/scikit-learn/issues/21755 */display: inline-block !important;position: relative;}#sk-container-id-5 div.sk-text-repr-fallback {display: none;}</style><div id=\"sk-container-id-5\" class=\"sk-top-container\"><div class=\"sk-text-repr-fallback\"><pre>XGBRegressor(base_score=None, booster=None, callbacks=None,\n",
       "             colsample_bylevel=None, colsample_bynode=None,\n",
       "             colsample_bytree=None, device=None, early_stopping_rounds=None,\n",
       "             enable_categorical=False, eval_metric=None, feature_types=None,\n",
       "             gamma=None, grow_policy=None, importance_type=None,\n",
       "             interaction_constraints=None, learning_rate=None, max_bin=None,\n",
       "             max_cat_threshold=None, max_cat_to_onehot=None,\n",
       "             max_delta_step=None, max_depth=None, max_leaves=None,\n",
       "             min_child_weight=None, missing=nan, monotone_constraints=None,\n",
       "             multi_strategy=None, n_estimators=None, n_jobs=None,\n",
       "             num_parallel_tree=None, random_state=None, ...)</pre><b>In a Jupyter environment, please rerun this cell to show the HTML representation or trust the notebook. <br />On GitHub, the HTML representation is unable to render, please try loading this page with nbviewer.org.</b></div><div class=\"sk-container\" hidden><div class=\"sk-item\"><div class=\"sk-estimator sk-toggleable\"><input class=\"sk-toggleable__control sk-hidden--visually\" id=\"sk-estimator-id-5\" type=\"checkbox\" checked><label for=\"sk-estimator-id-5\" class=\"sk-toggleable__label sk-toggleable__label-arrow\">XGBRegressor</label><div class=\"sk-toggleable__content\"><pre>XGBRegressor(base_score=None, booster=None, callbacks=None,\n",
       "             colsample_bylevel=None, colsample_bynode=None,\n",
       "             colsample_bytree=None, device=None, early_stopping_rounds=None,\n",
       "             enable_categorical=False, eval_metric=None, feature_types=None,\n",
       "             gamma=None, grow_policy=None, importance_type=None,\n",
       "             interaction_constraints=None, learning_rate=None, max_bin=None,\n",
       "             max_cat_threshold=None, max_cat_to_onehot=None,\n",
       "             max_delta_step=None, max_depth=None, max_leaves=None,\n",
       "             min_child_weight=None, missing=nan, monotone_constraints=None,\n",
       "             multi_strategy=None, n_estimators=None, n_jobs=None,\n",
       "             num_parallel_tree=None, random_state=None, ...)</pre></div></div></div></div></div>"
      ],
      "text/plain": [
       "XGBRegressor(base_score=None, booster=None, callbacks=None,\n",
       "             colsample_bylevel=None, colsample_bynode=None,\n",
       "             colsample_bytree=None, device=None, early_stopping_rounds=None,\n",
       "             enable_categorical=False, eval_metric=None, feature_types=None,\n",
       "             gamma=None, grow_policy=None, importance_type=None,\n",
       "             interaction_constraints=None, learning_rate=None, max_bin=None,\n",
       "             max_cat_threshold=None, max_cat_to_onehot=None,\n",
       "             max_delta_step=None, max_depth=None, max_leaves=None,\n",
       "             min_child_weight=None, missing=nan, monotone_constraints=None,\n",
       "             multi_strategy=None, n_estimators=None, n_jobs=None,\n",
       "             num_parallel_tree=None, random_state=None, ...)"
      ]
     },
     "execution_count": 27,
     "metadata": {},
     "output_type": "execute_result"
    }
   ],
   "source": [
    "xgb_best_model=XGBRegressor(alpha=5,colsample_bytree=0.7,learning_rate=0.2, max_depth=15, n_estimators=50, objective= 'reg:squarederror')\n",
    "xgb_best_model.fit(X_train,y_train)\n",
    "\n",
    "xgb_model = XGBRegressor()\n",
    "xgb_model.fit(X_train,y_train)"
   ]
  },
  {
   "cell_type": "code",
   "execution_count": 28,
   "id": "b85f7ae1-e3c4-4a17-9b5f-289868e7b418",
   "metadata": {},
   "outputs": [],
   "source": [
    "#--------------------train set ----------------------------------------\n",
    "xgb_y_pred_default=xgb_model.predict(X_train)\n",
    "xgb_mse_default_train = mean_squared_error(y_train, xgb_y_pred_default)\n",
    "xgb_r2_default_train = r2_score(y_train, xgb_y_pred_default)\n",
    "\n",
    "xgb_y_pred = xgb_best_model.predict(X_train)\n",
    "xgb_mse_train = mean_squared_error(y_train, xgb_y_pred)\n",
    "xgb_r2_train = r2_score(y_train, xgb_y_pred)\n",
    "\n",
    "#--------------------test set ----------------------------------------\n",
    "xgb_y_pred_default=xgb_model.predict(X_test)\n",
    "xgb_mse_default = mean_squared_error(y_test, xgb_y_pred_default)\n",
    "xgb_r2_default = r2_score(y_test, xgb_y_pred_default)\n",
    "\n",
    "xgb_y_pred = xgb_best_model.predict(X_test)\n",
    "xgb_mse = mean_squared_error(y_test, xgb_y_pred)\n",
    "xgb_r2 = r2_score(y_test, xgb_y_pred)"
   ]
  },
  {
   "cell_type": "code",
   "execution_count": 29,
   "id": "44b7a9d1-ea08-45bf-b56c-d40f2dbe067e",
   "metadata": {},
   "outputs": [
    {
     "name": "stdout",
     "output_type": "stream",
     "text": [
      "Training scores\n",
      "R-squared  default score: 0.98\n",
      "mse dfault for DecisionTreeRegressor: 0.01\n",
      "R-squared score: 0.88\n",
      "Error for DecisionTreeRegressor: 0.05\n",
      "_______________________________________\n",
      "\n",
      "Testing scores\n",
      "R-squared  default score: 0.85\n",
      "mse dfault for DecisionTreeRegressor: 0.06\n",
      "R-squared score: 0.83\n",
      "mse for DecisionTreeRegressor: 0.07\n"
     ]
    }
   ],
   "source": [
    "#--------------------train set ----------------------------------------\n",
    "print(\"Training scores\")\n",
    "print(f\"R-squared  default score: {xgb_r2_default_train:.2f}\")\n",
    "print(f\"mse dfault for DecisionTreeRegressor: {xgb_mse_default_train:.2f}\")\n",
    "\n",
    "print(f\"R-squared score: {xgb_r2_train:.2f}\")\n",
    "print(f\"Error for DecisionTreeRegressor: {xgb_mse_train:.2f}\")\n",
    "\n",
    "print(\"_______________________________________\\n\")\n",
    "#--------------------test set ----------------------------------------\n",
    "print(\"Testing scores\")\n",
    "print(f\"R-squared  default score: {xgb_r2_default:.2f}\")\n",
    "print(f\"mse dfault for DecisionTreeRegressor: {xgb_mse_default:.2f}\")\n",
    "\n",
    "print(f\"R-squared score: {xgb_r2:.2f}\")\n",
    "print(f\"mse for DecisionTreeRegressor: {xgb_mse:.2f}\")"
   ]
  },
  {
   "cell_type": "markdown",
   "id": "7a751540-b287-4ce4-9a37-8893ea65a2a8",
   "metadata": {},
   "source": [
    "# GradientBoostingRegressor"
   ]
  },
  {
   "cell_type": "code",
   "execution_count": 30,
   "id": "0fe271da-47b3-432d-8778-0970bff63af3",
   "metadata": {},
   "outputs": [
    {
     "name": "stdout",
     "output_type": "stream",
     "text": [
      "Best parameters for Gradient Boosting: {'learning_rate': 0.1, 'max_depth': 5, 'n_estimators': 100}\n",
      "Best score for Gradient Boosting: 0.8589558655279884\n"
     ]
    }
   ],
   "source": [
    "\n",
    "model = GradientBoostingRegressor()\n",
    "\n",
    "# Define the parameters for grid search\n",
    "param_grid = { \n",
    "    'learning_rate': [0.01, 0.1, 0.8],\n",
    "    'n_estimators': [10, 50, 100],\n",
    "    'max_depth': [1, 5, 10]\n",
    "}\n",
    "\n",
    "# Perform grid search\n",
    "grid_search = GridSearchCV(estimator=model, param_grid=param_grid, cv=5)\n",
    "grid_search.fit(X_train, y_train)\n",
    "\n",
    "# Print the best parameters and the best score\n",
    "print(f\"Best parameters for Gradient Boosting: {grid_search.best_params_}\")\n",
    "print(f\"Best score for Gradient Boosting: {grid_search.best_score_}\")\n",
    "\n"
   ]
  },
  {
   "cell_type": "code",
   "execution_count": 31,
   "id": "d2ad0500-ac59-46aa-aec4-d3f859d6086b",
   "metadata": {},
   "outputs": [
    {
     "data": {
      "text/html": [
       "<style>#sk-container-id-6 {color: black;}#sk-container-id-6 pre{padding: 0;}#sk-container-id-6 div.sk-toggleable {background-color: white;}#sk-container-id-6 label.sk-toggleable__label {cursor: pointer;display: block;width: 100%;margin-bottom: 0;padding: 0.3em;box-sizing: border-box;text-align: center;}#sk-container-id-6 label.sk-toggleable__label-arrow:before {content: \"▸\";float: left;margin-right: 0.25em;color: #696969;}#sk-container-id-6 label.sk-toggleable__label-arrow:hover:before {color: black;}#sk-container-id-6 div.sk-estimator:hover label.sk-toggleable__label-arrow:before {color: black;}#sk-container-id-6 div.sk-toggleable__content {max-height: 0;max-width: 0;overflow: hidden;text-align: left;background-color: #f0f8ff;}#sk-container-id-6 div.sk-toggleable__content pre {margin: 0.2em;color: black;border-radius: 0.25em;background-color: #f0f8ff;}#sk-container-id-6 input.sk-toggleable__control:checked~div.sk-toggleable__content {max-height: 200px;max-width: 100%;overflow: auto;}#sk-container-id-6 input.sk-toggleable__control:checked~label.sk-toggleable__label-arrow:before {content: \"▾\";}#sk-container-id-6 div.sk-estimator input.sk-toggleable__control:checked~label.sk-toggleable__label {background-color: #d4ebff;}#sk-container-id-6 div.sk-label input.sk-toggleable__control:checked~label.sk-toggleable__label {background-color: #d4ebff;}#sk-container-id-6 input.sk-hidden--visually {border: 0;clip: rect(1px 1px 1px 1px);clip: rect(1px, 1px, 1px, 1px);height: 1px;margin: -1px;overflow: hidden;padding: 0;position: absolute;width: 1px;}#sk-container-id-6 div.sk-estimator {font-family: monospace;background-color: #f0f8ff;border: 1px dotted black;border-radius: 0.25em;box-sizing: border-box;margin-bottom: 0.5em;}#sk-container-id-6 div.sk-estimator:hover {background-color: #d4ebff;}#sk-container-id-6 div.sk-parallel-item::after {content: \"\";width: 100%;border-bottom: 1px solid gray;flex-grow: 1;}#sk-container-id-6 div.sk-label:hover label.sk-toggleable__label {background-color: #d4ebff;}#sk-container-id-6 div.sk-serial::before {content: \"\";position: absolute;border-left: 1px solid gray;box-sizing: border-box;top: 0;bottom: 0;left: 50%;z-index: 0;}#sk-container-id-6 div.sk-serial {display: flex;flex-direction: column;align-items: center;background-color: white;padding-right: 0.2em;padding-left: 0.2em;position: relative;}#sk-container-id-6 div.sk-item {position: relative;z-index: 1;}#sk-container-id-6 div.sk-parallel {display: flex;align-items: stretch;justify-content: center;background-color: white;position: relative;}#sk-container-id-6 div.sk-item::before, #sk-container-id-6 div.sk-parallel-item::before {content: \"\";position: absolute;border-left: 1px solid gray;box-sizing: border-box;top: 0;bottom: 0;left: 50%;z-index: -1;}#sk-container-id-6 div.sk-parallel-item {display: flex;flex-direction: column;z-index: 1;position: relative;background-color: white;}#sk-container-id-6 div.sk-parallel-item:first-child::after {align-self: flex-end;width: 50%;}#sk-container-id-6 div.sk-parallel-item:last-child::after {align-self: flex-start;width: 50%;}#sk-container-id-6 div.sk-parallel-item:only-child::after {width: 0;}#sk-container-id-6 div.sk-dashed-wrapped {border: 1px dashed gray;margin: 0 0.4em 0.5em 0.4em;box-sizing: border-box;padding-bottom: 0.4em;background-color: white;}#sk-container-id-6 div.sk-label label {font-family: monospace;font-weight: bold;display: inline-block;line-height: 1.2em;}#sk-container-id-6 div.sk-label-container {text-align: center;}#sk-container-id-6 div.sk-container {/* jupyter's `normalize.less` sets `[hidden] { display: none; }` but bootstrap.min.css set `[hidden] { display: none !important; }` so we also need the `!important` here to be able to override the default hidden behavior on the sphinx rendered scikit-learn.org. See: https://github.com/scikit-learn/scikit-learn/issues/21755 */display: inline-block !important;position: relative;}#sk-container-id-6 div.sk-text-repr-fallback {display: none;}</style><div id=\"sk-container-id-6\" class=\"sk-top-container\"><div class=\"sk-text-repr-fallback\"><pre>GradientBoostingRegressor()</pre><b>In a Jupyter environment, please rerun this cell to show the HTML representation or trust the notebook. <br />On GitHub, the HTML representation is unable to render, please try loading this page with nbviewer.org.</b></div><div class=\"sk-container\" hidden><div class=\"sk-item\"><div class=\"sk-estimator sk-toggleable\"><input class=\"sk-toggleable__control sk-hidden--visually\" id=\"sk-estimator-id-6\" type=\"checkbox\" checked><label for=\"sk-estimator-id-6\" class=\"sk-toggleable__label sk-toggleable__label-arrow\">GradientBoostingRegressor</label><div class=\"sk-toggleable__content\"><pre>GradientBoostingRegressor()</pre></div></div></div></div></div>"
      ],
      "text/plain": [
       "GradientBoostingRegressor()"
      ]
     },
     "execution_count": 31,
     "metadata": {},
     "output_type": "execute_result"
    }
   ],
   "source": [
    "gradianB_best_model=GradientBoostingRegressor(learning_rate= 0.1, max_depth=5,n_estimators=100)\n",
    "gradianB_best_model.fit(X_train,y_train)\n",
    "\n",
    "gradianB_model = GradientBoostingRegressor()\n",
    "gradianB_model.fit(X_train,y_train)"
   ]
  },
  {
   "cell_type": "code",
   "execution_count": 32,
   "id": "596e4cae-7cb4-4c1e-bf82-c04418c2e494",
   "metadata": {},
   "outputs": [],
   "source": [
    "#--------------------train set ----------------------------------------\n",
    "gradianB_y_pred_default=gradianB_model.predict(X_train)\n",
    "gradianB_mse_default_train = mean_squared_error(y_train, gradianB_y_pred_default)\n",
    "gradianB_r2_default_train = r2_score(y_train, gradianB_y_pred_default)\n",
    "\n",
    "gradianB_y_pred = gradianB_best_model.predict(X_train)\n",
    "gradianB_mse_train = mean_squared_error(y_train, gradianB_y_pred)\n",
    "gradianB_r2_train = r2_score(y_train, gradianB_y_pred)\n",
    "\n",
    "#--------------------test set ----------------------------------------\n",
    "gradianB_y_pred_default=gradianB_model.predict(X_test)\n",
    "gradianB_mse_default = mean_squared_error(y_test, gradianB_y_pred_default)\n",
    "gradianB_r2_default = r2_score(y_test, gradianB_y_pred_default)\n",
    "\n",
    "gradianB_y_pred = gradianB_best_model.predict(X_test)\n",
    "gradianB_mse = mean_squared_error(y_test, gradianB_y_pred)\n",
    "gradianB_r2 = r2_score(y_test, gradianB_y_pred)"
   ]
  },
  {
   "cell_type": "code",
   "execution_count": 33,
   "id": "f84ecaee-baf9-46c7-88a8-1d62e1abf753",
   "metadata": {},
   "outputs": [
    {
     "name": "stdout",
     "output_type": "stream",
     "text": [
      "Training scores\n",
      "R-squared  default score: 0.88\n",
      "mse dfault for DecisionTreeRegressor: 0.05\n",
      "R-squared score: 0.94\n",
      "Error for DecisionTreeRegressor: 0.02\n",
      "_______________________________________\n",
      "\n",
      "Testing scores\n",
      "R-squared  default score: 0.84\n",
      "mse dfault for DecisionTreeRegressor: 0.06\n",
      "R-squared score: 0.86\n",
      "mse for DecisionTreeRegressor: 0.06\n"
     ]
    }
   ],
   "source": [
    "#--------------------train set ----------------------------------------\n",
    "print(\"Training scores\")\n",
    "print(f\"R-squared  default score: {gradianB_r2_default_train:.2f}\")\n",
    "print(f\"mse dfault for DecisionTreeRegressor: {gradianB_mse_default_train:.2f}\")\n",
    "\n",
    "print(f\"R-squared score: {gradianB_r2_train:.2f}\")\n",
    "print(f\"Error for DecisionTreeRegressor: {gradianB_mse_train:.2f}\")\n",
    "\n",
    "print(\"_______________________________________\\n\")\n",
    "#--------------------test set ----------------------------------------\n",
    "print(\"Testing scores\")\n",
    "print(f\"R-squared  default score: {gradianB_r2_default:.2f}\")\n",
    "print(f\"mse dfault for DecisionTreeRegressor: {gradianB_mse_default:.2f}\")\n",
    "\n",
    "print(f\"R-squared score: {gradianB_r2:.2f}\")\n",
    "print(f\"mse for DecisionTreeRegressor: {gradianB_mse:.2f}\")"
   ]
  },
  {
   "cell_type": "markdown",
   "id": "668aa730-09e6-4146-8049-3144a973943e",
   "metadata": {},
   "source": [
    "# AdaBoostRegressor"
   ]
  },
  {
   "cell_type": "code",
   "execution_count": 34,
   "id": "01fdcc3d-9cef-4ab5-8e6d-8db81869f9c1",
   "metadata": {},
   "outputs": [
    {
     "name": "stdout",
     "output_type": "stream",
     "text": [
      "Best parameters for AdaBoost: {'learning_rate': 1, 'n_estimators': 100}\n",
      "Best score for AdaBoost: 0.6841651276702001\n"
     ]
    }
   ],
   "source": [
    "model = AdaBoostRegressor()\n",
    "\n",
    "# Define the parameters for grid search\n",
    "param_grid = { \n",
    "    'n_estimators': [10, 50, 100],\n",
    "    'learning_rate': [0.01, 0.1,1]\n",
    "}\n",
    "\n",
    "# Perform grid search\n",
    "grid_search = GridSearchCV(estimator=model, param_grid=param_grid, cv=5)\n",
    "grid_search.fit(X_train, y_train)\n",
    "\n",
    "# Print the best parameters and the best score\n",
    "print(f\"Best parameters for AdaBoost: {grid_search.best_params_}\")\n",
    "print(f\"Best score for AdaBoost: {grid_search.best_score_}\")\n"
   ]
  },
  {
   "cell_type": "code",
   "execution_count": 35,
   "id": "345c78f0-befb-4c44-8afe-f2c2d5d80706",
   "metadata": {},
   "outputs": [
    {
     "data": {
      "text/html": [
       "<style>#sk-container-id-7 {color: black;}#sk-container-id-7 pre{padding: 0;}#sk-container-id-7 div.sk-toggleable {background-color: white;}#sk-container-id-7 label.sk-toggleable__label {cursor: pointer;display: block;width: 100%;margin-bottom: 0;padding: 0.3em;box-sizing: border-box;text-align: center;}#sk-container-id-7 label.sk-toggleable__label-arrow:before {content: \"▸\";float: left;margin-right: 0.25em;color: #696969;}#sk-container-id-7 label.sk-toggleable__label-arrow:hover:before {color: black;}#sk-container-id-7 div.sk-estimator:hover label.sk-toggleable__label-arrow:before {color: black;}#sk-container-id-7 div.sk-toggleable__content {max-height: 0;max-width: 0;overflow: hidden;text-align: left;background-color: #f0f8ff;}#sk-container-id-7 div.sk-toggleable__content pre {margin: 0.2em;color: black;border-radius: 0.25em;background-color: #f0f8ff;}#sk-container-id-7 input.sk-toggleable__control:checked~div.sk-toggleable__content {max-height: 200px;max-width: 100%;overflow: auto;}#sk-container-id-7 input.sk-toggleable__control:checked~label.sk-toggleable__label-arrow:before {content: \"▾\";}#sk-container-id-7 div.sk-estimator input.sk-toggleable__control:checked~label.sk-toggleable__label {background-color: #d4ebff;}#sk-container-id-7 div.sk-label input.sk-toggleable__control:checked~label.sk-toggleable__label {background-color: #d4ebff;}#sk-container-id-7 input.sk-hidden--visually {border: 0;clip: rect(1px 1px 1px 1px);clip: rect(1px, 1px, 1px, 1px);height: 1px;margin: -1px;overflow: hidden;padding: 0;position: absolute;width: 1px;}#sk-container-id-7 div.sk-estimator {font-family: monospace;background-color: #f0f8ff;border: 1px dotted black;border-radius: 0.25em;box-sizing: border-box;margin-bottom: 0.5em;}#sk-container-id-7 div.sk-estimator:hover {background-color: #d4ebff;}#sk-container-id-7 div.sk-parallel-item::after {content: \"\";width: 100%;border-bottom: 1px solid gray;flex-grow: 1;}#sk-container-id-7 div.sk-label:hover label.sk-toggleable__label {background-color: #d4ebff;}#sk-container-id-7 div.sk-serial::before {content: \"\";position: absolute;border-left: 1px solid gray;box-sizing: border-box;top: 0;bottom: 0;left: 50%;z-index: 0;}#sk-container-id-7 div.sk-serial {display: flex;flex-direction: column;align-items: center;background-color: white;padding-right: 0.2em;padding-left: 0.2em;position: relative;}#sk-container-id-7 div.sk-item {position: relative;z-index: 1;}#sk-container-id-7 div.sk-parallel {display: flex;align-items: stretch;justify-content: center;background-color: white;position: relative;}#sk-container-id-7 div.sk-item::before, #sk-container-id-7 div.sk-parallel-item::before {content: \"\";position: absolute;border-left: 1px solid gray;box-sizing: border-box;top: 0;bottom: 0;left: 50%;z-index: -1;}#sk-container-id-7 div.sk-parallel-item {display: flex;flex-direction: column;z-index: 1;position: relative;background-color: white;}#sk-container-id-7 div.sk-parallel-item:first-child::after {align-self: flex-end;width: 50%;}#sk-container-id-7 div.sk-parallel-item:last-child::after {align-self: flex-start;width: 50%;}#sk-container-id-7 div.sk-parallel-item:only-child::after {width: 0;}#sk-container-id-7 div.sk-dashed-wrapped {border: 1px dashed gray;margin: 0 0.4em 0.5em 0.4em;box-sizing: border-box;padding-bottom: 0.4em;background-color: white;}#sk-container-id-7 div.sk-label label {font-family: monospace;font-weight: bold;display: inline-block;line-height: 1.2em;}#sk-container-id-7 div.sk-label-container {text-align: center;}#sk-container-id-7 div.sk-container {/* jupyter's `normalize.less` sets `[hidden] { display: none; }` but bootstrap.min.css set `[hidden] { display: none !important; }` so we also need the `!important` here to be able to override the default hidden behavior on the sphinx rendered scikit-learn.org. See: https://github.com/scikit-learn/scikit-learn/issues/21755 */display: inline-block !important;position: relative;}#sk-container-id-7 div.sk-text-repr-fallback {display: none;}</style><div id=\"sk-container-id-7\" class=\"sk-top-container\"><div class=\"sk-text-repr-fallback\"><pre>AdaBoostRegressor()</pre><b>In a Jupyter environment, please rerun this cell to show the HTML representation or trust the notebook. <br />On GitHub, the HTML representation is unable to render, please try loading this page with nbviewer.org.</b></div><div class=\"sk-container\" hidden><div class=\"sk-item\"><div class=\"sk-estimator sk-toggleable\"><input class=\"sk-toggleable__control sk-hidden--visually\" id=\"sk-estimator-id-7\" type=\"checkbox\" checked><label for=\"sk-estimator-id-7\" class=\"sk-toggleable__label sk-toggleable__label-arrow\">AdaBoostRegressor</label><div class=\"sk-toggleable__content\"><pre>AdaBoostRegressor()</pre></div></div></div></div></div>"
      ],
      "text/plain": [
       "AdaBoostRegressor()"
      ]
     },
     "execution_count": 35,
     "metadata": {},
     "output_type": "execute_result"
    }
   ],
   "source": [
    "ada_best_model=AdaBoostRegressor(learning_rate= 1,n_estimators= 100)\n",
    "ada_best_model.fit(X_train,y_train)\n",
    "\n",
    "ada_model = AdaBoostRegressor()\n",
    "ada_model.fit(X_train,y_train)"
   ]
  },
  {
   "cell_type": "code",
   "execution_count": 36,
   "id": "1c5f7fba-4fd7-4d3e-a4b6-1a569c6041e2",
   "metadata": {},
   "outputs": [],
   "source": [
    "#--------------------train set ----------------------------------------\n",
    "ada_y_pred_default=ada_model.predict(X_train)\n",
    "ada_mse_default_train = mean_squared_error(y_train, ada_y_pred_default)\n",
    "ada_r2_default_train = r2_score(y_train, ada_y_pred_default)\n",
    "\n",
    "ada_y_pred = ada_best_model.predict(X_train)\n",
    "ada_mse_train = mean_squared_error(y_train, ada_y_pred)\n",
    "ada_r2_train = r2_score(y_train, ada_y_pred)\n",
    "\n",
    "#--------------------test set ----------------------------------------\n",
    "ada_y_pred_default=ada_model.predict(X_test)\n",
    "ada_mse_default = mean_squared_error(y_test, ada_y_pred_default)\n",
    "ada_r2_default = r2_score(y_test, ada_y_pred_default)\n",
    "\n",
    "ada_y_pred = ada_best_model.predict(X_test)\n",
    "ada_mse = mean_squared_error(y_test, ada_y_pred)\n",
    "ada_r2 = r2_score(y_test, ada_y_pred)"
   ]
  },
  {
   "cell_type": "code",
   "execution_count": 37,
   "id": "02667a84-447b-422a-83a1-6f8c1d9f546d",
   "metadata": {},
   "outputs": [
    {
     "name": "stdout",
     "output_type": "stream",
     "text": [
      "Training scores\n",
      "R-squared  default score: 0.70\n",
      "mse dfault for DecisionTreeRegressor: 0.12\n",
      "R-squared score: 0.71\n",
      "Error for DecisionTreeRegressor: 0.12\n",
      "_______________________________________\n",
      "\n",
      "Testing scores\n",
      "R-squared  default score: 0.68\n",
      "mse dfault for DecisionTreeRegressor: 0.13\n",
      "R-squared score: 0.69\n",
      "mse for DecisionTreeRegressor: 0.12\n"
     ]
    }
   ],
   "source": [
    "#--------------------train set ----------------------------------------\n",
    "print(\"Training scores\")\n",
    "print(f\"R-squared  default score: {ada_r2_default_train:.2f}\")\n",
    "print(f\"mse dfault for DecisionTreeRegressor: {ada_mse_default_train:.2f}\")\n",
    "\n",
    "print(f\"R-squared score: {ada_r2_train:.2f}\")\n",
    "print(f\"Error for DecisionTreeRegressor: {ada_mse_train:.2f}\")\n",
    "\n",
    "print(\"_______________________________________\\n\")\n",
    "#--------------------test set ----------------------------------------\n",
    "print(\"Testing scores\")\n",
    "print(f\"R-squared  default score: {ada_r2_default:.2f}\")\n",
    "print(f\"mse dfault for DecisionTreeRegressor: {ada_mse_default:.2f}\")\n",
    "\n",
    "print(f\"R-squared score: {ada_r2:.2f}\")\n",
    "print(f\"mse for DecisionTreeRegressor: {ada_mse:.2f}\")"
   ]
  },
  {
   "cell_type": "markdown",
   "id": "2f72f150-3f2b-45d6-b153-ebf228374592",
   "metadata": {},
   "source": [
    "# Lasso"
   ]
  },
  {
   "cell_type": "code",
   "execution_count": 38,
   "id": "8daa14a6-0b05-4ff0-b3dc-57ea16daf61b",
   "metadata": {},
   "outputs": [
    {
     "name": "stdout",
     "output_type": "stream",
     "text": [
      "Best parameters for Lasso: {'alpha': 0.0001}\n",
      "Best score for Lasso: 0.7416474023150772\n",
      "Error for Lasso: 0.10984208911068685\n"
     ]
    }
   ],
   "source": [
    "\n",
    "model = Lasso()\n",
    "\n",
    "# Define the parameters for grid search\n",
    "param_grid = { \n",
    "    'alpha': [0.0001,0.001,0.1, 0.5, 1, 2, 5]\n",
    "}\n",
    "\n",
    "# Perform grid search\n",
    "grid_search = GridSearchCV(estimator=model, param_grid=param_grid, cv=5)\n",
    "grid_search.fit(X_train, y_train)\n",
    "\n",
    "# Print the best parameters and the best score\n",
    "print(f\"Best parameters for Lasso: {grid_search.best_params_}\")\n",
    "print(f\"Best score for Lasso: {grid_search.best_score_}\")\n",
    "\n",
    "# Predict on the test set and calculate the error\n",
    "y_pred = grid_search.predict(X_test)\n",
    "error = mean_squared_error(y_test, y_pred)\n",
    "print(f\"Error for Lasso: {error}\")\n"
   ]
  },
  {
   "cell_type": "code",
   "execution_count": 39,
   "id": "1f4012de-a3ac-49ac-b6a0-f2180e0b75a2",
   "metadata": {},
   "outputs": [
    {
     "data": {
      "text/html": [
       "<style>#sk-container-id-8 {color: black;}#sk-container-id-8 pre{padding: 0;}#sk-container-id-8 div.sk-toggleable {background-color: white;}#sk-container-id-8 label.sk-toggleable__label {cursor: pointer;display: block;width: 100%;margin-bottom: 0;padding: 0.3em;box-sizing: border-box;text-align: center;}#sk-container-id-8 label.sk-toggleable__label-arrow:before {content: \"▸\";float: left;margin-right: 0.25em;color: #696969;}#sk-container-id-8 label.sk-toggleable__label-arrow:hover:before {color: black;}#sk-container-id-8 div.sk-estimator:hover label.sk-toggleable__label-arrow:before {color: black;}#sk-container-id-8 div.sk-toggleable__content {max-height: 0;max-width: 0;overflow: hidden;text-align: left;background-color: #f0f8ff;}#sk-container-id-8 div.sk-toggleable__content pre {margin: 0.2em;color: black;border-radius: 0.25em;background-color: #f0f8ff;}#sk-container-id-8 input.sk-toggleable__control:checked~div.sk-toggleable__content {max-height: 200px;max-width: 100%;overflow: auto;}#sk-container-id-8 input.sk-toggleable__control:checked~label.sk-toggleable__label-arrow:before {content: \"▾\";}#sk-container-id-8 div.sk-estimator input.sk-toggleable__control:checked~label.sk-toggleable__label {background-color: #d4ebff;}#sk-container-id-8 div.sk-label input.sk-toggleable__control:checked~label.sk-toggleable__label {background-color: #d4ebff;}#sk-container-id-8 input.sk-hidden--visually {border: 0;clip: rect(1px 1px 1px 1px);clip: rect(1px, 1px, 1px, 1px);height: 1px;margin: -1px;overflow: hidden;padding: 0;position: absolute;width: 1px;}#sk-container-id-8 div.sk-estimator {font-family: monospace;background-color: #f0f8ff;border: 1px dotted black;border-radius: 0.25em;box-sizing: border-box;margin-bottom: 0.5em;}#sk-container-id-8 div.sk-estimator:hover {background-color: #d4ebff;}#sk-container-id-8 div.sk-parallel-item::after {content: \"\";width: 100%;border-bottom: 1px solid gray;flex-grow: 1;}#sk-container-id-8 div.sk-label:hover label.sk-toggleable__label {background-color: #d4ebff;}#sk-container-id-8 div.sk-serial::before {content: \"\";position: absolute;border-left: 1px solid gray;box-sizing: border-box;top: 0;bottom: 0;left: 50%;z-index: 0;}#sk-container-id-8 div.sk-serial {display: flex;flex-direction: column;align-items: center;background-color: white;padding-right: 0.2em;padding-left: 0.2em;position: relative;}#sk-container-id-8 div.sk-item {position: relative;z-index: 1;}#sk-container-id-8 div.sk-parallel {display: flex;align-items: stretch;justify-content: center;background-color: white;position: relative;}#sk-container-id-8 div.sk-item::before, #sk-container-id-8 div.sk-parallel-item::before {content: \"\";position: absolute;border-left: 1px solid gray;box-sizing: border-box;top: 0;bottom: 0;left: 50%;z-index: -1;}#sk-container-id-8 div.sk-parallel-item {display: flex;flex-direction: column;z-index: 1;position: relative;background-color: white;}#sk-container-id-8 div.sk-parallel-item:first-child::after {align-self: flex-end;width: 50%;}#sk-container-id-8 div.sk-parallel-item:last-child::after {align-self: flex-start;width: 50%;}#sk-container-id-8 div.sk-parallel-item:only-child::after {width: 0;}#sk-container-id-8 div.sk-dashed-wrapped {border: 1px dashed gray;margin: 0 0.4em 0.5em 0.4em;box-sizing: border-box;padding-bottom: 0.4em;background-color: white;}#sk-container-id-8 div.sk-label label {font-family: monospace;font-weight: bold;display: inline-block;line-height: 1.2em;}#sk-container-id-8 div.sk-label-container {text-align: center;}#sk-container-id-8 div.sk-container {/* jupyter's `normalize.less` sets `[hidden] { display: none; }` but bootstrap.min.css set `[hidden] { display: none !important; }` so we also need the `!important` here to be able to override the default hidden behavior on the sphinx rendered scikit-learn.org. See: https://github.com/scikit-learn/scikit-learn/issues/21755 */display: inline-block !important;position: relative;}#sk-container-id-8 div.sk-text-repr-fallback {display: none;}</style><div id=\"sk-container-id-8\" class=\"sk-top-container\"><div class=\"sk-text-repr-fallback\"><pre>Lasso()</pre><b>In a Jupyter environment, please rerun this cell to show the HTML representation or trust the notebook. <br />On GitHub, the HTML representation is unable to render, please try loading this page with nbviewer.org.</b></div><div class=\"sk-container\" hidden><div class=\"sk-item\"><div class=\"sk-estimator sk-toggleable\"><input class=\"sk-toggleable__control sk-hidden--visually\" id=\"sk-estimator-id-8\" type=\"checkbox\" checked><label for=\"sk-estimator-id-8\" class=\"sk-toggleable__label sk-toggleable__label-arrow\">Lasso</label><div class=\"sk-toggleable__content\"><pre>Lasso()</pre></div></div></div></div></div>"
      ],
      "text/plain": [
       "Lasso()"
      ]
     },
     "execution_count": 39,
     "metadata": {},
     "output_type": "execute_result"
    }
   ],
   "source": [
    "lasso_best_model=Lasso(alpha= 0.001)\n",
    "lasso_best_model.fit(X_train,y_train)\n",
    "\n",
    "lasso_model = Lasso()\n",
    "lasso_model.fit(X_train,y_train)"
   ]
  },
  {
   "cell_type": "code",
   "execution_count": 40,
   "id": "5bda6c8f-5098-4fb9-a375-036a2a60efe5",
   "metadata": {},
   "outputs": [],
   "source": [
    "#--------------------train set ----------------------------------------\n",
    "lasso_y_pred_default=lasso_model.predict(X_train)\n",
    "lasso_mse_default_train = mean_squared_error(y_train, lasso_y_pred_default)\n",
    "lasso_r2_default_train = r2_score(y_train, lasso_y_pred_default)\n",
    "\n",
    "lasso_y_pred = lasso_best_model.predict(X_train)\n",
    "lasso_mse_train = mean_squared_error(y_train, lasso_y_pred)\n",
    "lasso_r2_train = r2_score(y_train, lasso_y_pred)\n",
    "\n",
    "#--------------------test set ----------------------------------------\n",
    "lasso_y_pred_default=lasso_model.predict(X_test)\n",
    "lasso_mse_default = mean_squared_error(y_test, lasso_y_pred_default)\n",
    "lasso_r2_default = r2_score(y_test, lasso_y_pred_default)\n",
    "\n",
    "lasso_y_pred = lasso_best_model.predict(X_test)\n",
    "lasso_mse = mean_squared_error(y_test, lasso_y_pred)\n",
    "lasso_r2 = r2_score(y_test, lasso_y_pred)"
   ]
  },
  {
   "cell_type": "code",
   "execution_count": 41,
   "id": "0b03f307-8083-4e0d-8b3a-5502a686808b",
   "metadata": {},
   "outputs": [
    {
     "name": "stdout",
     "output_type": "stream",
     "text": [
      "Training scores\n",
      "R-squared  default score: 0.41\n",
      "mse dfault for DecisionTreeRegressor: 0.24\n",
      "R-squared score: 0.76\n",
      "Error for DecisionTreeRegressor: 0.10\n",
      "_______________________________________\n",
      "\n",
      "Testing scores\n",
      "R-squared  default score: 0.41\n",
      "mse dfault for DecisionTreeRegressor: 0.24\n",
      "R-squared score: 0.73\n",
      "mse for DecisionTreeRegressor: 0.11\n"
     ]
    }
   ],
   "source": [
    "#--------------------train set ----------------------------------------\n",
    "print(\"Training scores\")\n",
    "print(f\"R-squared  default score: {lasso_r2_default_train:.2f}\")\n",
    "print(f\"mse dfault for DecisionTreeRegressor: {lasso_mse_default_train:.2f}\")\n",
    "\n",
    "print(f\"R-squared score: {lasso_r2_train:.2f}\")\n",
    "print(f\"Error for DecisionTreeRegressor: {lasso_mse_train:.2f}\")\n",
    "\n",
    "print(\"_______________________________________\\n\")\n",
    "#--------------------test set ----------------------------------------\n",
    "print(\"Testing scores\")\n",
    "print(f\"R-squared  default score: {lasso_r2_default:.2f}\")\n",
    "print(f\"mse dfault for DecisionTreeRegressor: {lasso_mse_default:.2f}\")\n",
    "\n",
    "print(f\"R-squared score: {lasso_r2:.2f}\")\n",
    "print(f\"mse for DecisionTreeRegressor: {lasso_mse:.2f}\")"
   ]
  },
  {
   "cell_type": "markdown",
   "id": "56fd0a19-7cdf-425c-82be-9c2cdbaf3072",
   "metadata": {},
   "source": [
    "# Results & Comparing"
   ]
  },
  {
   "cell_type": "markdown",
   "id": "8ef0acbe-5f41-4c64-a5e8-0176adceb80d",
   "metadata": {},
   "source": [
    "## R2"
   ]
  },
  {
   "cell_type": "code",
   "execution_count": 42,
   "id": "931a8f9d-8a81-4be6-b53b-1d62052141ba",
   "metadata": {},
   "outputs": [
    {
     "name": "stderr",
     "output_type": "stream",
     "text": [
      "C:\\Users\\lokmane\\AppData\\Local\\Temp\\ipykernel_15912\\1697165883.py:26: FutureWarning: \n",
      "\n",
      "Passing `palette` without assigning `hue` is deprecated and will be removed in v0.14.0. Assign the `y` variable to `hue` and set `legend=False` for the same effect.\n",
      "\n",
      "  barplot = sns.barplot(x=results_df['Score'], y=results_df['Model'], palette=\"Set2\")\n",
      "No artists with labels found to put in legend.  Note that artists whose label start with an underscore are ignored when legend() is called with no argument.\n"
     ]
    },
    {
     "data": {
      "image/png": "[encoded data removed]",
      "text/plain": [
       "<Figure size 1000x500 with 1 Axes>"
      ]
     },
     "metadata": {},
     "output_type": "display_data"
    }
   ],
   "source": [
    "import pandas as pd\n",
    "import seaborn as sns\n",
    "import matplotlib.pyplot as plt\n",
    "\n",
    "results = {\n",
    "    'Linear Regression': LR_r2,\n",
    "    'Decision Tree': DT_r2,\n",
    "    'AdaBoostRegressor': ada_r2,\n",
    "    'Lasso':lasso_r2,\n",
    "    'GradientBoostingRegressor': gradianB_r2,\n",
    "    'XGBRegressor': xgb_r2,\n",
    "    'ElasticNet' : EN_r2,\n",
    "}   \n",
    "\n",
    "# Convert the dictionary to a pandas DataFrame\n",
    "results_df = pd.DataFrame(list(results.items()), columns=['Model', 'Score'])\n",
    "\n",
    "# Sort the results by Score\n",
    "results_df = results_df.sort_values(by='Score', ascending=False)\n",
    "\n",
    "# Set the style of the plot\n",
    "sns.set_theme(style=\"whitegrid\")\n",
    "\n",
    "# Create a seaborn barplot\n",
    "plt.figure(figsize=(10, 5))\n",
    "barplot = sns.barplot(x=results_df['Score'], y=results_df['Model'], palette=\"Set2\")\n",
    "\n",
    "# Add legend\n",
    "barplot.legend(title='R2 Score', title_fontsize='13', loc='lower right')\n",
    "\n",
    "# Add grid\n",
    "plt.grid(True)\n",
    "\n",
    "# Add labels and title\n",
    "plt.xlabel('Score R2', fontsize=12)\n",
    "plt.ylabel('Model', fontsize=12)\n",
    "plt.title('Model''s R2 Comparison ', fontsize=15)\n",
    "\n",
    "# Show the plot\n",
    "plt.show()\n"
   ]
  },
  {
   "cell_type": "markdown",
   "id": "452087d2-eb58-4485-b616-d010d733eb17",
   "metadata": {},
   "source": [
    "## MSE"
   ]
  },
  {
   "cell_type": "code",
   "execution_count": 43,
   "id": "8961e1fa-dbc8-4436-8dae-a327354b3310",
   "metadata": {},
   "outputs": [
    {
     "name": "stderr",
     "output_type": "stream",
     "text": [
      "C:\\Users\\lokmane\\AppData\\Local\\Temp\\ipykernel_15912\\2075405765.py:26: FutureWarning: \n",
      "\n",
      "Passing `palette` without assigning `hue` is deprecated and will be removed in v0.14.0. Assign the `y` variable to `hue` and set `legend=False` for the same effect.\n",
      "\n",
      "  barplot = sns.barplot(x=results_df['Score'], y=results_df['Model'], palette=\"Dark2\")\n",
      "No artists with labels found to put in legend.  Note that artists whose label start with an underscore are ignored when legend() is called with no argument.\n"
     ]
    },
    {
     "data": {
      "image/png": "[encoded data removed]",
      "text/plain": [
       "<Figure size 1000x500 with 1 Axes>"
      ]
     },
     "metadata": {},
     "output_type": "display_data"
    }
   ],
   "source": [
    "import pandas as pd\n",
    "import seaborn as sns\n",
    "import matplotlib.pyplot as plt\n",
    "\n",
    "results = {\n",
    "    'Linear Regression': LR_mse,\n",
    "    'Decision Tree': DT_mse,\n",
    "    'AdaBoostRegressor': ada_mse,\n",
    "    'Lasso':lasso_mse,\n",
    "    'GradientBoostingRegressor': gradianB_mse,\n",
    "    'XGBRegressor': xgb_mse,\n",
    "    'ElasticNet' : EN_mse,\n",
    "}   \n",
    "\n",
    "# Convert the dictionary to a pandas DataFrame\n",
    "results_df = pd.DataFrame(list(results.items()), columns=['Model', 'Score'])\n",
    "\n",
    "# Sort the results by Score\n",
    "results_df = results_df.sort_values(by='Score', ascending=False)\n",
    "\n",
    "# Set the style of the plot\n",
    "sns.set_theme(style=\"whitegrid\")\n",
    "\n",
    "# Create a seaborn barplot\n",
    "plt.figure(figsize=(10, 5))\n",
    "barplot = sns.barplot(x=results_df['Score'], y=results_df['Model'], palette=\"Dark2\")\n",
    "\n",
    "# Add legend\n",
    "barplot.legend(title='MSE', title_fontsize='13', loc='lower right')\n",
    "\n",
    "# Add grid\n",
    "plt.grid(True)\n",
    "\n",
    "# Add labels and title\n",
    "plt.xlabel('Score MSE', fontsize=12)\n",
    "plt.ylabel('Model', fontsize=12)\n",
    "plt.title('Model''s MSE Comparison ', fontsize=15)\n",
    "\n",
    "# Show the plot\n",
    "plt.show()\n"
   ]
  }
 ],
 "metadata": {
  "kernelspec": {
   "display_name": "Python 3 (ipykernel)",
   "language": "python",
   "name": "python3"
  },
  "language_info": {
   "codemirror_mode": {
    "name": "ipython",
    "version": 3
   },
   "file_extension": ".py",
   "mimetype": "text/x-python",
   "name": "python",
   "nbconvert_exporter": "python",
   "pygments_lexer": "ipython3",
   "version": "3.12.0"
  }
 },
 "nbformat": 4,
 "nbformat_minor": 5
}
