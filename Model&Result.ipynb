{
 "cells": [
  {
   "cell_type": "code",
   "execution_count": 46,
   "id": "c93deeb1-0372-4f5f-97a3-4fc2313aae7d",
   "metadata": {},
   "outputs": [],
   "source": [
    "from sklearn.linear_model import LinearRegression,Ridge,Lasso,ElasticNet\n",
    "from sklearn.neighbors import KNeighborsRegressor\n",
    "from sklearn.tree import DecisionTreeRegressor\n",
    "\n",
    "import matplotlib.pyplot as plt\n",
    "from sklearn.ensemble import RandomForestRegressor,GradientBoostingRegressor,AdaBoostRegressor,ExtraTreesRegressor\n",
    "from sklearn.svm import SVR\n",
    "from xgboost import XGBRegressor\n",
    "from sklearn.compose import ColumnTransformer\n",
    "from sklearn.pipeline import Pipeline\n",
    "from sklearn.model_selection import GridSearchCV\n",
    "from sklearn.metrics import r2_score,mean_absolute_error\n",
    "from sklearn.model_selection import train_test_split \n",
    "import numpy as np\n",
    "import pandas as pd"
   ]
  },
  {
   "cell_type": "code",
   "execution_count": 4,
   "id": "4003304e-83d4-4ae0-aba1-76172671abfa",
   "metadata": {},
   "outputs": [],
   "source": [
    "df = pd.read_csv(\"DATA/Final_data.csv\")"
   ]
  },
  {
   "cell_type": "code",
   "execution_count": 5,
   "id": "6f371dbe-9e03-4a5e-9d4d-d50d1db82ac4",
   "metadata": {},
   "outputs": [],
   "source": [
    "X = df.drop(columns=['PRIX'])\n",
    "y = np.log(df['PRIX'])"
   ]
  },
  {
   "cell_type": "code",
   "execution_count": 11,
   "id": "95ade4f4-7c2e-4142-8df3-486465033e4e",
   "metadata": {},
   "outputs": [],
   "source": [
    "X_train,X_test,y_train,y_test=train_test_split(X,y,test_size=0.2, random_state=2)"
   ]
  },
  {
   "cell_type": "markdown",
   "id": "6acbadd6-dd29-4d5d-878b-3f4d3b0f33b6",
   "metadata": {},
   "source": [
    "## SVR"
   ]
  },
  {
   "cell_type": "code",
   "execution_count": 12,
   "id": "e26c9abf-9c25-47bb-9709-3a18a04e1907",
   "metadata": {},
   "outputs": [
    {
     "name": "stdout",
     "output_type": "stream",
     "text": [
      "r2 Score  0.5130229263927067\n"
     ]
    }
   ],
   "source": [
    "model = SVR()\n",
    "model.fit(X_train,y_train)\n",
    "y_pred=model.predict(X_test)\n",
    "param_grid = { \n",
    "    'C': [0.1, 1, 10, 100, 1000], \n",
    "    'gamma': [1, 0.1, 0.01, 0.001, 0.0001],\n",
    "    'kernel': ['linear', 'rbf'] \n",
    "}\n",
    "\n",
    "grid_search = GridSearchCV(estimator=model, param_grid=param_grid, cv=10)\n",
    "grid_search.fit(X_train, y_train)\n"
   ]
  },
  {
   "cell_type": "code",
   "execution_count": null,
   "id": "8a8a138c-3109-4093-9223-9846b490fc19",
   "metadata": {},
   "outputs": [],
   "source": [
    "\n",
    "model = SVR()\n",
    "\n",
    "# Define the parameters for grid search\n",
    "param_grid = { 'C': [0.1, 1, 10, 100, 1000], 'gamma': [1, 0.1, 0.01, 0.001, 0.0001], 'kernel': ['linear', 'rbf'] }\n",
    "\n",
    "# Perform grid search\n",
    "grid_search = GridSearchCV(estimator=model, param_grid=param_grid, cv=5)\n",
    "grid_search.fit(X_train, y_train)\n",
    "\n",
    "# Print the best parameters and the best score\n",
    "print(f\"Best parameters for SVR: {grid_search.best_params_}\")\n",
    "print(f\"Best score for SVR: {grid_search.best_score_}\")\n",
    "\n",
    "# Predict on the test set and calculate the error\n",
    "y_pred = grid_search.predict(X_test)\n",
    "error = mean_squared_error(y_test, y_pred)\n",
    "print(f\"Error for SVR: {error}\")\n"
   ]
  },
  {
   "cell_type": "code",
   "execution_count": null,
   "id": "d41c80b4-0725-420d-8bfe-ca0b9d913440",
   "metadata": {},
   "outputs": [],
   "source": []
  },
  {
   "cell_type": "code",
   "execution_count": null,
   "id": "00f78e09-49dc-40fd-a7bb-e97e42687b22",
   "metadata": {},
   "outputs": [],
   "source": []
  },
  {
   "cell_type": "markdown",
   "id": "119ae905-9500-4517-85cf-95e6ca39d0e8",
   "metadata": {},
   "source": [
    "## Dicision Tree"
   ]
  },
  {
   "cell_type": "code",
   "execution_count": 17,
   "id": "27dfaf39-8e5f-489f-a0e2-8d62e60e8f76",
   "metadata": {},
   "outputs": [
    {
     "name": "stdout",
     "output_type": "stream",
     "text": [
      "Best parameters for DecisionTreeRegressor: {'max_depth': 10, 'min_samples_leaf': 2, 'min_samples_split': 10}\n",
      "Best score for DecisionTreeRegressor: 0.7910581035598546\n"
     ]
    }
   ],
   "source": [
    "model = DecisionTreeRegressor()\n",
    "\n",
    "# Define the parameters for grid search\n",
    "param_grid = { 'max_depth': [None, 10, 20, 30, 40], 'min_samples_split': [2, 5, 10], 'min_samples_leaf': [1, 2, 4] }\n",
    "\n",
    "# Perform grid search\n",
    "grid_search = GridSearchCV(estimator=model, param_grid=param_grid, cv=5)\n",
    "grid_search.fit(X_train, y_train)\n",
    "\n",
    "# Print the best parameters and the best score\n",
    "print(f\"Best parameters for DecisionTreeRegressor: {grid_search.best_params_}\")\n",
    "print(f\"Best score for DecisionTreeRegressor: {grid_search.best_score_}\")\n",
    "\n",
    "\n"
   ]
  },
  {
   "cell_type": "markdown",
   "id": "5cd31ea8-41e5-4b7e-8ddb-1835ab592db5",
   "metadata": {},
   "source": [
    "Train two models, one with the best parametres and onather one with default parametr and compare results"
   ]
  },
  {
   "cell_type": "code",
   "execution_count": 26,
   "id": "65cf328c-5348-41f7-ab42-abd44a48faa5",
   "metadata": {},
   "outputs": [
    {
     "data": {
      "text/html": [
       "<style>#sk-container-id-4 {color: black;}#sk-container-id-4 pre{padding: 0;}#sk-container-id-4 div.sk-toggleable {background-color: white;}#sk-container-id-4 label.sk-toggleable__label {cursor: pointer;display: block;width: 100%;margin-bottom: 0;padding: 0.3em;box-sizing: border-box;text-align: center;}#sk-container-id-4 label.sk-toggleable__label-arrow:before {content: \"▸\";float: left;margin-right: 0.25em;color: #696969;}#sk-container-id-4 label.sk-toggleable__label-arrow:hover:before {color: black;}#sk-container-id-4 div.sk-estimator:hover label.sk-toggleable__label-arrow:before {color: black;}#sk-container-id-4 div.sk-toggleable__content {max-height: 0;max-width: 0;overflow: hidden;text-align: left;background-color: #f0f8ff;}#sk-container-id-4 div.sk-toggleable__content pre {margin: 0.2em;color: black;border-radius: 0.25em;background-color: #f0f8ff;}#sk-container-id-4 input.sk-toggleable__control:checked~div.sk-toggleable__content {max-height: 200px;max-width: 100%;overflow: auto;}#sk-container-id-4 input.sk-toggleable__control:checked~label.sk-toggleable__label-arrow:before {content: \"▾\";}#sk-container-id-4 div.sk-estimator input.sk-toggleable__control:checked~label.sk-toggleable__label {background-color: #d4ebff;}#sk-container-id-4 div.sk-label input.sk-toggleable__control:checked~label.sk-toggleable__label {background-color: #d4ebff;}#sk-container-id-4 input.sk-hidden--visually {border: 0;clip: rect(1px 1px 1px 1px);clip: rect(1px, 1px, 1px, 1px);height: 1px;margin: -1px;overflow: hidden;padding: 0;position: absolute;width: 1px;}#sk-container-id-4 div.sk-estimator {font-family: monospace;background-color: #f0f8ff;border: 1px dotted black;border-radius: 0.25em;box-sizing: border-box;margin-bottom: 0.5em;}#sk-container-id-4 div.sk-estimator:hover {background-color: #d4ebff;}#sk-container-id-4 div.sk-parallel-item::after {content: \"\";width: 100%;border-bottom: 1px solid gray;flex-grow: 1;}#sk-container-id-4 div.sk-label:hover label.sk-toggleable__label {background-color: #d4ebff;}#sk-container-id-4 div.sk-serial::before {content: \"\";position: absolute;border-left: 1px solid gray;box-sizing: border-box;top: 0;bottom: 0;left: 50%;z-index: 0;}#sk-container-id-4 div.sk-serial {display: flex;flex-direction: column;align-items: center;background-color: white;padding-right: 0.2em;padding-left: 0.2em;position: relative;}#sk-container-id-4 div.sk-item {position: relative;z-index: 1;}#sk-container-id-4 div.sk-parallel {display: flex;align-items: stretch;justify-content: center;background-color: white;position: relative;}#sk-container-id-4 div.sk-item::before, #sk-container-id-4 div.sk-parallel-item::before {content: \"\";position: absolute;border-left: 1px solid gray;box-sizing: border-box;top: 0;bottom: 0;left: 50%;z-index: -1;}#sk-container-id-4 div.sk-parallel-item {display: flex;flex-direction: column;z-index: 1;position: relative;background-color: white;}#sk-container-id-4 div.sk-parallel-item:first-child::after {align-self: flex-end;width: 50%;}#sk-container-id-4 div.sk-parallel-item:last-child::after {align-self: flex-start;width: 50%;}#sk-container-id-4 div.sk-parallel-item:only-child::after {width: 0;}#sk-container-id-4 div.sk-dashed-wrapped {border: 1px dashed gray;margin: 0 0.4em 0.5em 0.4em;box-sizing: border-box;padding-bottom: 0.4em;background-color: white;}#sk-container-id-4 div.sk-label label {font-family: monospace;font-weight: bold;display: inline-block;line-height: 1.2em;}#sk-container-id-4 div.sk-label-container {text-align: center;}#sk-container-id-4 div.sk-container {/* jupyter's `normalize.less` sets `[hidden] { display: none; }` but bootstrap.min.css set `[hidden] { display: none !important; }` so we also need the `!important` here to be able to override the default hidden behavior on the sphinx rendered scikit-learn.org. See: https://github.com/scikit-learn/scikit-learn/issues/21755 */display: inline-block !important;position: relative;}#sk-container-id-4 div.sk-text-repr-fallback {display: none;}</style><div id=\"sk-container-id-4\" class=\"sk-top-container\"><div class=\"sk-text-repr-fallback\"><pre>DecisionTreeRegressor()</pre><b>In a Jupyter environment, please rerun this cell to show the HTML representation or trust the notebook. <br />On GitHub, the HTML representation is unable to render, please try loading this page with nbviewer.org.</b></div><div class=\"sk-container\" hidden><div class=\"sk-item\"><div class=\"sk-estimator sk-toggleable\"><input class=\"sk-toggleable__control sk-hidden--visually\" id=\"sk-estimator-id-4\" type=\"checkbox\" checked><label for=\"sk-estimator-id-4\" class=\"sk-toggleable__label sk-toggleable__label-arrow\">DecisionTreeRegressor</label><div class=\"sk-toggleable__content\"><pre>DecisionTreeRegressor()</pre></div></div></div></div></div>"
      ],
      "text/plain": [
       "DecisionTreeRegressor()"
      ]
     },
     "execution_count": 26,
     "metadata": {},
     "output_type": "execute_result"
    }
   ],
   "source": [
    "DT_best_model=DecisionTreeRegressor(max_depth= 10, min_samples_leaf=2,min_samples_split=10)\n",
    "DT_best_model.fit(X_train,y_train)\n",
    "\n",
    "model = DecisionTreeRegressor()\n",
    "model.fit(X_train,y_train)"
   ]
  },
  {
   "cell_type": "code",
   "execution_count": 27,
   "id": "81fe5248-6a93-4cf8-9f99-7952959ea307",
   "metadata": {},
   "outputs": [],
   "source": [
    "#--------------------train set ----------------------------------------\n",
    "y_pred_default=model.predict(X_train)\n",
    "mse_default_train = mean_squared_error(y_train, y_pred_default)\n",
    "r2_default_train = r2_score(y_train, y_pred_default)\n",
    "\n",
    "y_pred = DT_best_model.predict(X_train)\n",
    "mse_train = mean_squared_error(y_train, y_pred)\n",
    "r2_train = r2_score(y_train, y_pred)\n",
    "\n",
    "#--------------------test set ----------------------------------------\n",
    "y_pred_default=model.predict(X_test)\n",
    "mse_default = mean_squared_error(y_test, y_pred_default)\n",
    "r2_default = r2_score(y_test, y_pred_default)\n",
    "\n",
    "y_pred = DT_best_model.predict(X_test)\n",
    "mse = mean_squared_error(y_test, y_pred)\n",
    "r2 = r2_score(y_test, y_pred)\n"
   ]
  },
  {
   "cell_type": "code",
   "execution_count": 29,
   "id": "ef26ffd2-6257-4ba4-b344-ee1fa0c6d287",
   "metadata": {},
   "outputs": [
    {
     "name": "stdout",
     "output_type": "stream",
     "text": [
      "Training scores\n",
      "R-squared  default score: 0.9918106189325122\n",
      "mse dfault for DecisionTreeRegressor: 0.0033839684130369703\n",
      "R-squared score: 0.8920704279960154\n",
      "Error for DecisionTreeRegressor: 0.0445980299957058\n",
      "_______________________________________\n",
      "\n",
      "Testing scores\n",
      "R-squared  default score: 0.7074295580826679\n",
      "mse dfault for DecisionTreeRegressor: 0.11695480476008976\n",
      "R-squared score: 0.731722605225205\n",
      "mse for DecisionTreeRegressor: 0.10724367821236463\n"
     ]
    }
   ],
   "source": [
    "#--------------------train set ----------------------------------------\n",
    "print(\"Training scores\")\n",
    "print(f\"R-squared  default score: {r2_default_train}\")\n",
    "print(f\"mse dfault for DecisionTreeRegressor: {mse_default_train}\")\n",
    "\n",
    "print(f\"R-squared score: {r2_train}\")\n",
    "print(f\"Error for DecisionTreeRegressor: {mse_train}\")\n",
    "\n",
    "print(\"_______________________________________\\n\")\n",
    "#--------------------test set ----------------------------------------\n",
    "print(\"Testing scores\")\n",
    "print(f\"R-squared  default score: {r2_default}\")\n",
    "print(f\"mse dfault for DecisionTreeRegressor: {mse_default}\")\n",
    "\n",
    "print(f\"R-squared score: {r2}\")\n",
    "print(f\"mse for DecisionTreeRegressor: {mse}\")"
   ]
  },
  {
   "cell_type": "markdown",
   "id": "06073140-cc07-4928-8420-29c9db9dfb7d",
   "metadata": {},
   "source": [
    "## RandomForestRegressor"
   ]
  },
  {
   "cell_type": "code",
   "execution_count": 30,
   "id": "25527517-88a2-4816-aea7-080f18b07616",
   "metadata": {},
   "outputs": [
    {
     "name": "stdout",
     "output_type": "stream",
     "text": [
      "Best parameters for RandomForestRegressor: {'max_depth': 20, 'n_estimators': 100}\n",
      "Best score for RandomForestRegressor: 0.8445907350759001\n"
     ]
    }
   ],
   "source": [
    "\n",
    "model = RandomForestRegressor()\n",
    "\n",
    "param_grid = { 'n_estimators': [10, 50, 100], 'max_depth': [None, 10, 20, 30] }\n",
    "\n",
    "# Perform grid search\n",
    "grid_search = GridSearchCV(estimator=model, param_grid=param_grid, cv=5)\n",
    "grid_search.fit(X_train, y_train)\n",
    "\n",
    "# Print the best parameters and the best score\n",
    "print(f\"Best parameters for RandomForestRegressor: {grid_search.best_params_}\")\n",
    "print(f\"Best score for RandomForestRegressor: {grid_search.best_score_}\")\n",
    "\n"
   ]
  },
  {
   "cell_type": "code",
   "execution_count": 32,
   "id": "c3ba76e4-4e7b-4dcd-a37a-a272d318196b",
   "metadata": {},
   "outputs": [
    {
     "data": {
      "text/html": [
       "<style>#sk-container-id-5 {color: black;}#sk-container-id-5 pre{padding: 0;}#sk-container-id-5 div.sk-toggleable {background-color: white;}#sk-container-id-5 label.sk-toggleable__label {cursor: pointer;display: block;width: 100%;margin-bottom: 0;padding: 0.3em;box-sizing: border-box;text-align: center;}#sk-container-id-5 label.sk-toggleable__label-arrow:before {content: \"▸\";float: left;margin-right: 0.25em;color: #696969;}#sk-container-id-5 label.sk-toggleable__label-arrow:hover:before {color: black;}#sk-container-id-5 div.sk-estimator:hover label.sk-toggleable__label-arrow:before {color: black;}#sk-container-id-5 div.sk-toggleable__content {max-height: 0;max-width: 0;overflow: hidden;text-align: left;background-color: #f0f8ff;}#sk-container-id-5 div.sk-toggleable__content pre {margin: 0.2em;color: black;border-radius: 0.25em;background-color: #f0f8ff;}#sk-container-id-5 input.sk-toggleable__control:checked~div.sk-toggleable__content {max-height: 200px;max-width: 100%;overflow: auto;}#sk-container-id-5 input.sk-toggleable__control:checked~label.sk-toggleable__label-arrow:before {content: \"▾\";}#sk-container-id-5 div.sk-estimator input.sk-toggleable__control:checked~label.sk-toggleable__label {background-color: #d4ebff;}#sk-container-id-5 div.sk-label input.sk-toggleable__control:checked~label.sk-toggleable__label {background-color: #d4ebff;}#sk-container-id-5 input.sk-hidden--visually {border: 0;clip: rect(1px 1px 1px 1px);clip: rect(1px, 1px, 1px, 1px);height: 1px;margin: -1px;overflow: hidden;padding: 0;position: absolute;width: 1px;}#sk-container-id-5 div.sk-estimator {font-family: monospace;background-color: #f0f8ff;border: 1px dotted black;border-radius: 0.25em;box-sizing: border-box;margin-bottom: 0.5em;}#sk-container-id-5 div.sk-estimator:hover {background-color: #d4ebff;}#sk-container-id-5 div.sk-parallel-item::after {content: \"\";width: 100%;border-bottom: 1px solid gray;flex-grow: 1;}#sk-container-id-5 div.sk-label:hover label.sk-toggleable__label {background-color: #d4ebff;}#sk-container-id-5 div.sk-serial::before {content: \"\";position: absolute;border-left: 1px solid gray;box-sizing: border-box;top: 0;bottom: 0;left: 50%;z-index: 0;}#sk-container-id-5 div.sk-serial {display: flex;flex-direction: column;align-items: center;background-color: white;padding-right: 0.2em;padding-left: 0.2em;position: relative;}#sk-container-id-5 div.sk-item {position: relative;z-index: 1;}#sk-container-id-5 div.sk-parallel {display: flex;align-items: stretch;justify-content: center;background-color: white;position: relative;}#sk-container-id-5 div.sk-item::before, #sk-container-id-5 div.sk-parallel-item::before {content: \"\";position: absolute;border-left: 1px solid gray;box-sizing: border-box;top: 0;bottom: 0;left: 50%;z-index: -1;}#sk-container-id-5 div.sk-parallel-item {display: flex;flex-direction: column;z-index: 1;position: relative;background-color: white;}#sk-container-id-5 div.sk-parallel-item:first-child::after {align-self: flex-end;width: 50%;}#sk-container-id-5 div.sk-parallel-item:last-child::after {align-self: flex-start;width: 50%;}#sk-container-id-5 div.sk-parallel-item:only-child::after {width: 0;}#sk-container-id-5 div.sk-dashed-wrapped {border: 1px dashed gray;margin: 0 0.4em 0.5em 0.4em;box-sizing: border-box;padding-bottom: 0.4em;background-color: white;}#sk-container-id-5 div.sk-label label {font-family: monospace;font-weight: bold;display: inline-block;line-height: 1.2em;}#sk-container-id-5 div.sk-label-container {text-align: center;}#sk-container-id-5 div.sk-container {/* jupyter's `normalize.less` sets `[hidden] { display: none; }` but bootstrap.min.css set `[hidden] { display: none !important; }` so we also need the `!important` here to be able to override the default hidden behavior on the sphinx rendered scikit-learn.org. See: https://github.com/scikit-learn/scikit-learn/issues/21755 */display: inline-block !important;position: relative;}#sk-container-id-5 div.sk-text-repr-fallback {display: none;}</style><div id=\"sk-container-id-5\" class=\"sk-top-container\"><div class=\"sk-text-repr-fallback\"><pre>RandomForestRegressor()</pre><b>In a Jupyter environment, please rerun this cell to show the HTML representation or trust the notebook. <br />On GitHub, the HTML representation is unable to render, please try loading this page with nbviewer.org.</b></div><div class=\"sk-container\" hidden><div class=\"sk-item\"><div class=\"sk-estimator sk-toggleable\"><input class=\"sk-toggleable__control sk-hidden--visually\" id=\"sk-estimator-id-5\" type=\"checkbox\" checked><label for=\"sk-estimator-id-5\" class=\"sk-toggleable__label sk-toggleable__label-arrow\">RandomForestRegressor</label><div class=\"sk-toggleable__content\"><pre>RandomForestRegressor()</pre></div></div></div></div></div>"
      ],
      "text/plain": [
       "RandomForestRegressor()"
      ]
     },
     "execution_count": 32,
     "metadata": {},
     "output_type": "execute_result"
    }
   ],
   "source": [
    "RF_best_model=RandomForestRegressor(max_depth= 20, n_estimators=100)\n",
    "RF_best_model.fit(X_train,y_train)\n",
    "\n",
    "model = RandomForestRegressor()\n",
    "model.fit(X_train,y_train)"
   ]
  },
  {
   "cell_type": "code",
   "execution_count": 33,
   "id": "54a3bc4f-34e7-4566-879c-2882c554b5c1",
   "metadata": {},
   "outputs": [],
   "source": [
    "#--------------------train set ----------------------------------------\n",
    "y_pred_default=model.predict(X_train)\n",
    "mse_default_train = mean_squared_error(y_train, y_pred_default)\n",
    "r2_default_train = r2_score(y_train, y_pred_default)\n",
    "\n",
    "y_pred = RF_best_model.predict(X_train)\n",
    "mse_train = mean_squared_error(y_train, y_pred)\n",
    "r2_train = r2_score(y_train, y_pred)\n",
    "\n",
    "#--------------------test set ----------------------------------------\n",
    "y_pred_default=model.predict(X_test)\n",
    "mse_default = mean_squared_error(y_test, y_pred_default)\n",
    "r2_default = r2_score(y_test, y_pred_default)\n",
    "\n",
    "y_pred = RF_best_model.predict(X_test)\n",
    "mse = mean_squared_error(y_test, y_pred)\n",
    "r2 = r2_score(y_test, y_pred)\n"
   ]
  },
  {
   "cell_type": "code",
   "execution_count": 34,
   "id": "5b75db94-552a-4373-b745-341a4bf3f287",
   "metadata": {},
   "outputs": [
    {
     "name": "stdout",
     "output_type": "stream",
     "text": [
      "Training scores\n",
      "R-squared  default score: 0.9738176874598602\n",
      "mse dfault for DecisionTreeRegressor: 0.010818902904377205\n",
      "R-squared score: 0.9730386886263284\n",
      "Error for DecisionTreeRegressor: 0.011140796271499897\n",
      "_______________________________________\n",
      "\n",
      "Testing scores\n",
      "R-squared  default score: 0.821695422895458\n",
      "mse dfault for DecisionTreeRegressor: 0.07127711489387027\n",
      "R-squared score: 0.8265984765288982\n",
      "mse for DecisionTreeRegressor: 0.06931712304825088\n"
     ]
    }
   ],
   "source": [
    "#--------------------train set ----------------------------------------\n",
    "print(\"Training scores\")\n",
    "print(f\"R-squared  default score: {r2_default_train}\")\n",
    "print(f\"mse dfault for DecisionTreeRegressor: {mse_default_train}\")\n",
    "\n",
    "print(f\"R-squared score: {r2_train}\")\n",
    "print(f\"Error for DecisionTreeRegressor: {mse_train}\")\n",
    "\n",
    "print(\"_______________________________________\\n\")\n",
    "#--------------------test set ----------------------------------------\n",
    "print(\"Testing scores\")\n",
    "print(f\"R-squared  default score: {r2_default}\")\n",
    "print(f\"mse dfault for DecisionTreeRegressor: {mse_default}\")\n",
    "\n",
    "print(f\"R-squared score: {r2}\")\n",
    "print(f\"mse for DecisionTreeRegressor: {mse}\")"
   ]
  },
  {
   "cell_type": "markdown",
   "id": "72ef75f8-0444-4085-8827-841878b2718b",
   "metadata": {},
   "source": [
    "# GradientBoostingRegressor"
   ]
  },
  {
   "cell_type": "code",
   "execution_count": 35,
   "id": "0a577007-d335-44a1-8471-57987c281242",
   "metadata": {},
   "outputs": [
    {
     "name": "stdout",
     "output_type": "stream",
     "text": [
      "Best parameters for GradientBoostingRegressor: {'learning_rate': 0.1, 'n_estimators': 100}\n",
      "Best score for GradientBoostingRegressor: 0.8341538307905981\n"
     ]
    }
   ],
   "source": [
    "\n",
    "model = GradientBoostingRegressor()\n",
    "\n",
    "param_grid = { 'n_estimators': [10, 50, 100], 'learning_rate': [0.01, 0.1, 1] }\n",
    "\n",
    "grid_search = GridSearchCV(estimator=model, param_grid=param_grid, cv=5)\n",
    "grid_search.fit(X_train, y_train)\n",
    "\n",
    "print(f\"Best parameters for GradientBoostingRegressor: {grid_search.best_params_}\")\n",
    "print(f\"Best score for GradientBoostingRegressor: {grid_search.best_score_}\")\n",
    "\n"
   ]
  },
  {
   "cell_type": "code",
   "execution_count": 36,
   "id": "99569968-4265-440b-92c7-06406a677ccf",
   "metadata": {},
   "outputs": [
    {
     "data": {
      "text/html": [
       "<style>#sk-container-id-6 {color: black;}#sk-container-id-6 pre{padding: 0;}#sk-container-id-6 div.sk-toggleable {background-color: white;}#sk-container-id-6 label.sk-toggleable__label {cursor: pointer;display: block;width: 100%;margin-bottom: 0;padding: 0.3em;box-sizing: border-box;text-align: center;}#sk-container-id-6 label.sk-toggleable__label-arrow:before {content: \"▸\";float: left;margin-right: 0.25em;color: #696969;}#sk-container-id-6 label.sk-toggleable__label-arrow:hover:before {color: black;}#sk-container-id-6 div.sk-estimator:hover label.sk-toggleable__label-arrow:before {color: black;}#sk-container-id-6 div.sk-toggleable__content {max-height: 0;max-width: 0;overflow: hidden;text-align: left;background-color: #f0f8ff;}#sk-container-id-6 div.sk-toggleable__content pre {margin: 0.2em;color: black;border-radius: 0.25em;background-color: #f0f8ff;}#sk-container-id-6 input.sk-toggleable__control:checked~div.sk-toggleable__content {max-height: 200px;max-width: 100%;overflow: auto;}#sk-container-id-6 input.sk-toggleable__control:checked~label.sk-toggleable__label-arrow:before {content: \"▾\";}#sk-container-id-6 div.sk-estimator input.sk-toggleable__control:checked~label.sk-toggleable__label {background-color: #d4ebff;}#sk-container-id-6 div.sk-label input.sk-toggleable__control:checked~label.sk-toggleable__label {background-color: #d4ebff;}#sk-container-id-6 input.sk-hidden--visually {border: 0;clip: rect(1px 1px 1px 1px);clip: rect(1px, 1px, 1px, 1px);height: 1px;margin: -1px;overflow: hidden;padding: 0;position: absolute;width: 1px;}#sk-container-id-6 div.sk-estimator {font-family: monospace;background-color: #f0f8ff;border: 1px dotted black;border-radius: 0.25em;box-sizing: border-box;margin-bottom: 0.5em;}#sk-container-id-6 div.sk-estimator:hover {background-color: #d4ebff;}#sk-container-id-6 div.sk-parallel-item::after {content: \"\";width: 100%;border-bottom: 1px solid gray;flex-grow: 1;}#sk-container-id-6 div.sk-label:hover label.sk-toggleable__label {background-color: #d4ebff;}#sk-container-id-6 div.sk-serial::before {content: \"\";position: absolute;border-left: 1px solid gray;box-sizing: border-box;top: 0;bottom: 0;left: 50%;z-index: 0;}#sk-container-id-6 div.sk-serial {display: flex;flex-direction: column;align-items: center;background-color: white;padding-right: 0.2em;padding-left: 0.2em;position: relative;}#sk-container-id-6 div.sk-item {position: relative;z-index: 1;}#sk-container-id-6 div.sk-parallel {display: flex;align-items: stretch;justify-content: center;background-color: white;position: relative;}#sk-container-id-6 div.sk-item::before, #sk-container-id-6 div.sk-parallel-item::before {content: \"\";position: absolute;border-left: 1px solid gray;box-sizing: border-box;top: 0;bottom: 0;left: 50%;z-index: -1;}#sk-container-id-6 div.sk-parallel-item {display: flex;flex-direction: column;z-index: 1;position: relative;background-color: white;}#sk-container-id-6 div.sk-parallel-item:first-child::after {align-self: flex-end;width: 50%;}#sk-container-id-6 div.sk-parallel-item:last-child::after {align-self: flex-start;width: 50%;}#sk-container-id-6 div.sk-parallel-item:only-child::after {width: 0;}#sk-container-id-6 div.sk-dashed-wrapped {border: 1px dashed gray;margin: 0 0.4em 0.5em 0.4em;box-sizing: border-box;padding-bottom: 0.4em;background-color: white;}#sk-container-id-6 div.sk-label label {font-family: monospace;font-weight: bold;display: inline-block;line-height: 1.2em;}#sk-container-id-6 div.sk-label-container {text-align: center;}#sk-container-id-6 div.sk-container {/* jupyter's `normalize.less` sets `[hidden] { display: none; }` but bootstrap.min.css set `[hidden] { display: none !important; }` so we also need the `!important` here to be able to override the default hidden behavior on the sphinx rendered scikit-learn.org. See: https://github.com/scikit-learn/scikit-learn/issues/21755 */display: inline-block !important;position: relative;}#sk-container-id-6 div.sk-text-repr-fallback {display: none;}</style><div id=\"sk-container-id-6\" class=\"sk-top-container\"><div class=\"sk-text-repr-fallback\"><pre>GradientBoostingRegressor()</pre><b>In a Jupyter environment, please rerun this cell to show the HTML representation or trust the notebook. <br />On GitHub, the HTML representation is unable to render, please try loading this page with nbviewer.org.</b></div><div class=\"sk-container\" hidden><div class=\"sk-item\"><div class=\"sk-estimator sk-toggleable\"><input class=\"sk-toggleable__control sk-hidden--visually\" id=\"sk-estimator-id-6\" type=\"checkbox\" checked><label for=\"sk-estimator-id-6\" class=\"sk-toggleable__label sk-toggleable__label-arrow\">GradientBoostingRegressor</label><div class=\"sk-toggleable__content\"><pre>GradientBoostingRegressor()</pre></div></div></div></div></div>"
      ],
      "text/plain": [
       "GradientBoostingRegressor()"
      ]
     },
     "execution_count": 36,
     "metadata": {},
     "output_type": "execute_result"
    }
   ],
   "source": [
    "GB_best_model=GradientBoostingRegressor(learning_rate 0.1, n_estimators= 100)\n",
    "GB_best_model.fit(X_train,y_train)\n",
    "\n",
    "model = GradientBoostingRegressor()\n",
    "model.fit(X_train,y_train)"
   ]
  },
  {
   "cell_type": "code",
   "execution_count": 37,
   "id": "baed3941-17dc-4f5e-a164-ca620c5a4385",
   "metadata": {},
   "outputs": [],
   "source": [
    "#--------------------train set ----------------------------------------\n",
    "y_pred_default=model.predict(X_train)\n",
    "mse_default_train = mean_squared_error(y_train, y_pred_default)\n",
    "r2_default_train = r2_score(y_train, y_pred_default)\n",
    "\n",
    "y_pred = GB_best_model.predict(X_train)\n",
    "mse_train = mean_squared_error(y_train, y_pred)\n",
    "r2_train = r2_score(y_train, y_pred)\n",
    "\n",
    "#--------------------test set ----------------------------------------\n",
    "y_pred_default=model.predict(X_test)\n",
    "mse_default = mean_squared_error(y_test, y_pred_default)\n",
    "r2_default = r2_score(y_test, y_pred_default)\n",
    "\n",
    "y_pred = GB_best_model.predict(X_test)\n",
    "mse = mean_squared_error(y_test, y_pred)\n",
    "r2 = r2_score(y_test, y_pred)\n"
   ]
  },
  {
   "cell_type": "code",
   "execution_count": 38,
   "id": "dba961d6-4cdd-427d-95d2-d4fbc7ade70f",
   "metadata": {},
   "outputs": [
    {
     "name": "stdout",
     "output_type": "stream",
     "text": [
      "Training scores\n",
      "R-squared  default score: 0.8819706212474725\n",
      "mse dfault for DecisionTreeRegressor: 0.04877141339711239\n",
      "R-squared score: 0.8819706212474725\n",
      "Error for DecisionTreeRegressor: 0.048771413397112384\n",
      "_______________________________________\n",
      "\n",
      "Testing scores\n",
      "R-squared  default score: 0.8409611549957826\n",
      "mse dfault for DecisionTreeRegressor: 0.06357565359249137\n",
      "R-squared score: 0.8404287973669822\n",
      "mse for DecisionTreeRegressor: 0.06378846313719749\n"
     ]
    }
   ],
   "source": [
    "#--------------------train set ----------------------------------------\n",
    "print(\"Training scores\")\n",
    "print(f\"R-squared  default score: {r2_default_train}\")\n",
    "print(f\"mse dfault for DecisionTreeRegressor: {mse_default_train}\")\n",
    "\n",
    "print(f\"R-squared score: {r2_train}\")\n",
    "print(f\"Error for DecisionTreeRegressor: {mse_train}\")\n",
    "\n",
    "print(\"_______________________________________\\n\")\n",
    "#--------------------test set ----------------------------------------\n",
    "print(\"Testing scores\")\n",
    "print(f\"R-squared  default score: {r2_default}\")\n",
    "print(f\"mse dfault for DecisionTreeRegressor: {mse_default}\")\n",
    "\n",
    "print(f\"R-squared score: {r2}\")\n",
    "print(f\"mse for DecisionTreeRegressor: {mse}\")"
   ]
  },
  {
   "cell_type": "markdown",
   "id": "8790a073-91a2-4ae0-b8e3-eeaefc387277",
   "metadata": {},
   "source": [
    "# ElasticNet"
   ]
  },
  {
   "cell_type": "code",
   "execution_count": 40,
   "id": "884233f4-bff5-4a1e-984e-3270a5830dd0",
   "metadata": {},
   "outputs": [
    {
     "name": "stdout",
     "output_type": "stream",
     "text": [
      "Best parameters for ElasticNet: {'alpha': 0.1, 'l1_ratio': 0.1}\n",
      "Best score for ElasticNet: 0.6691849018104072\n"
     ]
    }
   ],
   "source": [
    "model = ElasticNet()\n",
    "\n",
    "param_grid = { 'alpha': [0.1, 0.5, 1, 2, 5], 'l1_ratio': [0.1, 0.3, 0.5, 0.7, 0.9] }\n",
    "\n",
    "grid_search = GridSearchCV(estimator=model, param_grid=param_grid, cv=5)\n",
    "grid_search.fit(X_train, y_train)\n",
    "\n",
    "print(f\"Best parameters for ElasticNet: {grid_search.best_params_}\")\n",
    "print(f\"Best score for ElasticNet: {grid_search.best_score_}\")\n",
    "\n"
   ]
  },
  {
   "cell_type": "code",
   "execution_count": 41,
   "id": "1080d08a-2622-4b2b-b780-d57ac44df060",
   "metadata": {},
   "outputs": [
    {
     "data": {
      "text/html": [
       "<style>#sk-container-id-7 {color: black;}#sk-container-id-7 pre{padding: 0;}#sk-container-id-7 div.sk-toggleable {background-color: white;}#sk-container-id-7 label.sk-toggleable__label {cursor: pointer;display: block;width: 100%;margin-bottom: 0;padding: 0.3em;box-sizing: border-box;text-align: center;}#sk-container-id-7 label.sk-toggleable__label-arrow:before {content: \"▸\";float: left;margin-right: 0.25em;color: #696969;}#sk-container-id-7 label.sk-toggleable__label-arrow:hover:before {color: black;}#sk-container-id-7 div.sk-estimator:hover label.sk-toggleable__label-arrow:before {color: black;}#sk-container-id-7 div.sk-toggleable__content {max-height: 0;max-width: 0;overflow: hidden;text-align: left;background-color: #f0f8ff;}#sk-container-id-7 div.sk-toggleable__content pre {margin: 0.2em;color: black;border-radius: 0.25em;background-color: #f0f8ff;}#sk-container-id-7 input.sk-toggleable__control:checked~div.sk-toggleable__content {max-height: 200px;max-width: 100%;overflow: auto;}#sk-container-id-7 input.sk-toggleable__control:checked~label.sk-toggleable__label-arrow:before {content: \"▾\";}#sk-container-id-7 div.sk-estimator input.sk-toggleable__control:checked~label.sk-toggleable__label {background-color: #d4ebff;}#sk-container-id-7 div.sk-label input.sk-toggleable__control:checked~label.sk-toggleable__label {background-color: #d4ebff;}#sk-container-id-7 input.sk-hidden--visually {border: 0;clip: rect(1px 1px 1px 1px);clip: rect(1px, 1px, 1px, 1px);height: 1px;margin: -1px;overflow: hidden;padding: 0;position: absolute;width: 1px;}#sk-container-id-7 div.sk-estimator {font-family: monospace;background-color: #f0f8ff;border: 1px dotted black;border-radius: 0.25em;box-sizing: border-box;margin-bottom: 0.5em;}#sk-container-id-7 div.sk-estimator:hover {background-color: #d4ebff;}#sk-container-id-7 div.sk-parallel-item::after {content: \"\";width: 100%;border-bottom: 1px solid gray;flex-grow: 1;}#sk-container-id-7 div.sk-label:hover label.sk-toggleable__label {background-color: #d4ebff;}#sk-container-id-7 div.sk-serial::before {content: \"\";position: absolute;border-left: 1px solid gray;box-sizing: border-box;top: 0;bottom: 0;left: 50%;z-index: 0;}#sk-container-id-7 div.sk-serial {display: flex;flex-direction: column;align-items: center;background-color: white;padding-right: 0.2em;padding-left: 0.2em;position: relative;}#sk-container-id-7 div.sk-item {position: relative;z-index: 1;}#sk-container-id-7 div.sk-parallel {display: flex;align-items: stretch;justify-content: center;background-color: white;position: relative;}#sk-container-id-7 div.sk-item::before, #sk-container-id-7 div.sk-parallel-item::before {content: \"\";position: absolute;border-left: 1px solid gray;box-sizing: border-box;top: 0;bottom: 0;left: 50%;z-index: -1;}#sk-container-id-7 div.sk-parallel-item {display: flex;flex-direction: column;z-index: 1;position: relative;background-color: white;}#sk-container-id-7 div.sk-parallel-item:first-child::after {align-self: flex-end;width: 50%;}#sk-container-id-7 div.sk-parallel-item:last-child::after {align-self: flex-start;width: 50%;}#sk-container-id-7 div.sk-parallel-item:only-child::after {width: 0;}#sk-container-id-7 div.sk-dashed-wrapped {border: 1px dashed gray;margin: 0 0.4em 0.5em 0.4em;box-sizing: border-box;padding-bottom: 0.4em;background-color: white;}#sk-container-id-7 div.sk-label label {font-family: monospace;font-weight: bold;display: inline-block;line-height: 1.2em;}#sk-container-id-7 div.sk-label-container {text-align: center;}#sk-container-id-7 div.sk-container {/* jupyter's `normalize.less` sets `[hidden] { display: none; }` but bootstrap.min.css set `[hidden] { display: none !important; }` so we also need the `!important` here to be able to override the default hidden behavior on the sphinx rendered scikit-learn.org. See: https://github.com/scikit-learn/scikit-learn/issues/21755 */display: inline-block !important;position: relative;}#sk-container-id-7 div.sk-text-repr-fallback {display: none;}</style><div id=\"sk-container-id-7\" class=\"sk-top-container\"><div class=\"sk-text-repr-fallback\"><pre>ElasticNet()</pre><b>In a Jupyter environment, please rerun this cell to show the HTML representation or trust the notebook. <br />On GitHub, the HTML representation is unable to render, please try loading this page with nbviewer.org.</b></div><div class=\"sk-container\" hidden><div class=\"sk-item\"><div class=\"sk-estimator sk-toggleable\"><input class=\"sk-toggleable__control sk-hidden--visually\" id=\"sk-estimator-id-7\" type=\"checkbox\" checked><label for=\"sk-estimator-id-7\" class=\"sk-toggleable__label sk-toggleable__label-arrow\">ElasticNet</label><div class=\"sk-toggleable__content\"><pre>ElasticNet()</pre></div></div></div></div></div>"
      ],
      "text/plain": [
       "ElasticNet()"
      ]
     },
     "execution_count": 41,
     "metadata": {},
     "output_type": "execute_result"
    }
   ],
   "source": [
    "EN_best_model=ElasticNet(alpha=0.1, l1_ratio= 0.1)\n",
    "EN_best_model.fit(X_train,y_train)\n",
    "\n",
    "model = ElasticNet()\n",
    "model.fit(X_train,y_train)"
   ]
  },
  {
   "cell_type": "code",
   "execution_count": 42,
   "id": "04613121-e131-44d8-932f-7903e5a899c3",
   "metadata": {},
   "outputs": [],
   "source": [
    "#--------------------train set ----------------------------------------\n",
    "y_pred_default=model.predict(X_train)\n",
    "mse_default_train = mean_squared_error(y_train, y_pred_default)\n",
    "r2_default_train = r2_score(y_train, y_pred_default)\n",
    "\n",
    "y_pred = EN_best_model.predict(X_train)\n",
    "mse_train = mean_squared_error(y_train, y_pred)\n",
    "r2_train = r2_score(y_train, y_pred)\n",
    "\n",
    "#--------------------test set ----------------------------------------\n",
    "y_pred_default=model.predict(X_test)\n",
    "mse_default = mean_squared_error(y_test, y_pred_default)\n",
    "r2_default = r2_score(y_test, y_pred_default)\n",
    "\n",
    "y_pred = EN_best_model.predict(X_test)\n",
    "mse = mean_squared_error(y_test, y_pred)\n",
    "r2 = r2_score(y_test, y_pred)"
   ]
  },
  {
   "cell_type": "code",
   "execution_count": 43,
   "id": "e06b2c88-ebf8-4560-9dab-503fa504640e",
   "metadata": {},
   "outputs": [
    {
     "name": "stdout",
     "output_type": "stream",
     "text": [
      "Training scores\n",
      "R-squared  default score: 0.43556465755329954\n",
      "mse dfault for DecisionTreeRegressor: 0.23323268929617436\n",
      "R-squared score: 0.6789257660496864\n",
      "Error for DecisionTreeRegressor: 0.1326724274977733\n",
      "_______________________________________\n",
      "\n",
      "Testing scores\n",
      "R-squared  default score: 0.43766420983533805\n",
      "mse dfault for DecisionTreeRegressor: 0.22479329120643723\n",
      "R-squared score: 0.660259535123003\n",
      "mse for DecisionTreeRegressor: 0.13581098445350998\n"
     ]
    }
   ],
   "source": [
    "#--------------------train set ----------------------------------------\n",
    "print(\"Training scores\")\n",
    "print(f\"R-squared  default score: {r2_default_train}\")\n",
    "print(f\"mse dfault for DecisionTreeRegressor: {mse_default_train}\")\n",
    "\n",
    "print(f\"R-squared score: {r2_train}\")\n",
    "print(f\"Error for DecisionTreeRegressor: {mse_train}\")\n",
    "\n",
    "print(\"_______________________________________\\n\")\n",
    "#--------------------test set ----------------------------------------\n",
    "print(\"Testing scores\")\n",
    "print(f\"R-squared  default score: {r2_default}\")\n",
    "print(f\"mse dfault for DecisionTreeRegressor: {mse_default}\")\n",
    "\n",
    "print(f\"R-squared score: {r2}\")\n",
    "print(f\"mse for DecisionTreeRegressor: {mse}\")"
   ]
  },
  {
   "cell_type": "code",
   "execution_count": 49,
   "id": "0bfd7500-e768-4e61-ba3b-d471b492ed6d",
   "metadata": {},
   "outputs": [
    {
     "data": {
      "image/png": "[encoded data removed]",
      "text/plain": [
       "<Figure size 640x480 with 1 Axes>"
      ]
     },
     "metadata": {},
     "output_type": "display_data"
    }
   ],
   "source": [
    "residuals = y_test - y_pred\n",
    "\n",
    "# Create a scatter plot of the residuals\n",
    "plt.scatter(y_test, residuals, color='blue')\n",
    "\n",
    "# Add labels and title\n",
    "plt.xlabel('Actual Values')\n",
    "plt.ylabel('Residuals')\n",
    "plt.title('Actual Values vs Residuals')\n",
    "\n",
    "# Show the plot\n",
    "plt.show()"
   ]
  },
  {
   "cell_type": "code",
   "execution_count": null,
   "id": "ea9a5f2a-fdb0-42da-b522-8a2eb4326038",
   "metadata": {},
   "outputs": [],
   "source": []
  },
  {
   "cell_type": "code",
   "execution_count": null,
   "id": "44b7a9d1-ea08-45bf-b56c-d40f2dbe067e",
   "metadata": {},
   "outputs": [],
   "source": []
  }
 ],
 "metadata": {
  "kernelspec": {
   "display_name": "Python 3 (ipykernel)",
   "language": "python",
   "name": "python3"
  },
  "language_info": {
   "codemirror_mode": {
    "name": "ipython",
    "version": 3
   },
   "file_extension": ".py",
   "mimetype": "text/x-python",
   "name": "python",
   "nbconvert_exporter": "python",
   "pygments_lexer": "ipython3",
   "version": "3.12.0"
  }
 },
 "nbformat": 4,
 "nbformat_minor": 5
}
