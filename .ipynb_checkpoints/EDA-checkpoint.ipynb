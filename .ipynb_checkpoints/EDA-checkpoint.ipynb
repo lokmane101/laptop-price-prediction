{
 "cells": [
  {
   "cell_type": "code",
   "execution_count": 1,
   "id": "67d1a68a",
   "metadata": {
    "tags": []
   },
   "outputs": [
    {
     "data": {
      "text/html": [
       "<div>\n",
       "<style scoped>\n",
       "    .dataframe tbody tr th:only-of-type {\n",
       "        vertical-align: middle;\n",
       "    }\n",
       "\n",
       "    .dataframe tbody tr th {\n",
       "        vertical-align: top;\n",
       "    }\n",
       "\n",
       "    .dataframe thead th {\n",
       "        text-align: right;\n",
       "    }\n",
       "</style>\n",
       "<table border=\"1\" class=\"dataframe\">\n",
       "  <thead>\n",
       "    <tr style=\"text-align: right;\">\n",
       "      <th></th>\n",
       "      <th>MARK</th>\n",
       "      <th>RAM</th>\n",
       "      <th>typeRam</th>\n",
       "      <th>CPU_Brand</th>\n",
       "      <th>CPU_Modifier</th>\n",
       "      <th>CPU_Generation</th>\n",
       "      <th>GPU</th>\n",
       "      <th>STOCKAGEHDD</th>\n",
       "      <th>STOCKAGESSD</th>\n",
       "      <th>TypeStockage</th>\n",
       "      <th>Stockage</th>\n",
       "      <th>COULEUR</th>\n",
       "      <th>POIDS</th>\n",
       "      <th>ECRAN</th>\n",
       "      <th>PRIX</th>\n",
       "      <th>RATE</th>\n",
       "    </tr>\n",
       "  </thead>\n",
       "  <tbody>\n",
       "    <tr>\n",
       "      <th>0</th>\n",
       "      <td>Lenovo</td>\n",
       "      <td>NaN</td>\n",
       "      <td>NaN</td>\n",
       "      <td>NaN</td>\n",
       "      <td>NaN</td>\n",
       "      <td>NaN</td>\n",
       "      <td>NaN</td>\n",
       "      <td>NaN</td>\n",
       "      <td>NaN</td>\n",
       "      <td>NaN</td>\n",
       "      <td>NaN</td>\n",
       "      <td>gris</td>\n",
       "      <td>1</td>\n",
       "      <td>6\"</td>\n",
       "      <td>175.00 Dhs</td>\n",
       "      <td>4.3 out of 5</td>\n",
       "    </tr>\n",
       "    <tr>\n",
       "      <th>1</th>\n",
       "      <td>DELL</td>\n",
       "      <td>4go</td>\n",
       "      <td>ddr3</td>\n",
       "      <td>intel</td>\n",
       "      <td>i3</td>\n",
       "      <td>4.0</td>\n",
       "      <td>: intel hd graphics family</td>\n",
       "      <td>NaN</td>\n",
       "      <td>NaN</td>\n",
       "      <td>NaN</td>\n",
       "      <td>NaN</td>\n",
       "      <td>noir</td>\n",
       "      <td>2.42</td>\n",
       "      <td>15pouce</td>\n",
       "      <td>1,499.00 Dhs</td>\n",
       "      <td>4.5 out of 5</td>\n",
       "    </tr>\n",
       "    <tr>\n",
       "      <th>2</th>\n",
       "      <td>Hp</td>\n",
       "      <td>8gb</td>\n",
       "      <td>ddr4</td>\n",
       "      <td>intel</td>\n",
       "      <td>i5</td>\n",
       "      <td>6.0</td>\n",
       "      <td>. intel hd graphics 520</td>\n",
       "      <td>NaN</td>\n",
       "      <td>256.0</td>\n",
       "      <td>ssd</td>\n",
       "      <td>NaN</td>\n",
       "      <td>gris</td>\n",
       "      <td>1.28</td>\n",
       "      <td>NaN</td>\n",
       "      <td>2,490.00 Dhs</td>\n",
       "      <td>3.7 out of 5</td>\n",
       "    </tr>\n",
       "    <tr>\n",
       "      <th>3</th>\n",
       "      <td>Hp</td>\n",
       "      <td>4go</td>\n",
       "      <td>NaN</td>\n",
       "      <td>NaN</td>\n",
       "      <td>NaN</td>\n",
       "      <td>NaN</td>\n",
       "      <td>NaN</td>\n",
       "      <td>NaN</td>\n",
       "      <td>NaN</td>\n",
       "      <td>NaN</td>\n",
       "      <td>500.0</td>\n",
       "      <td>NaN</td>\n",
       "      <td>1</td>\n",
       "      <td>6pouce</td>\n",
       "      <td>3,329.00 Dhs</td>\n",
       "      <td>0 out of 5</td>\n",
       "    </tr>\n",
       "    <tr>\n",
       "      <th>4</th>\n",
       "      <td>Hp</td>\n",
       "      <td>16gb</td>\n",
       "      <td>ddr4</td>\n",
       "      <td>intel</td>\n",
       "      <td>i5</td>\n",
       "      <td>6.0</td>\n",
       "      <td>. intel hd graphics 520</td>\n",
       "      <td>NaN</td>\n",
       "      <td>NaN</td>\n",
       "      <td>NaN</td>\n",
       "      <td>NaN</td>\n",
       "      <td>gris</td>\n",
       "      <td>1.5</td>\n",
       "      <td>NaN</td>\n",
       "      <td>2,899.00 Dhs</td>\n",
       "      <td>4 out of 5</td>\n",
       "    </tr>\n",
       "  </tbody>\n",
       "</table>\n",
       "</div>"
      ],
      "text/plain": [
       "     MARK   RAM typeRam CPU_Brand CPU_Modifier  CPU_Generation  \\\n",
       "0  Lenovo   NaN     NaN       NaN          NaN             NaN   \n",
       "1    DELL   4go    ddr3     intel           i3             4.0   \n",
       "2      Hp   8gb    ddr4     intel           i5             6.0   \n",
       "3      Hp   4go     NaN       NaN          NaN             NaN   \n",
       "4      Hp  16gb    ddr4     intel           i5             6.0   \n",
       "\n",
       "                           GPU  STOCKAGEHDD  STOCKAGESSD TypeStockage  \\\n",
       "0                          NaN          NaN          NaN          NaN   \n",
       "1   : intel hd graphics family          NaN          NaN          NaN   \n",
       "2      . intel hd graphics 520          NaN        256.0          ssd   \n",
       "3                          NaN          NaN          NaN          NaN   \n",
       "4      . intel hd graphics 520          NaN          NaN          NaN   \n",
       "\n",
       "   Stockage COULEUR POIDS    ECRAN          PRIX          RATE  \n",
       "0       NaN    gris     1       6\"    175.00 Dhs  4.3 out of 5  \n",
       "1       NaN    noir  2.42  15pouce  1,499.00 Dhs  4.5 out of 5  \n",
       "2       NaN    gris  1.28      NaN  2,490.00 Dhs  3.7 out of 5  \n",
       "3     500.0     NaN     1   6pouce  3,329.00 Dhs    0 out of 5  \n",
       "4       NaN    gris   1.5      NaN  2,899.00 Dhs    4 out of 5  "
      ]
     },
     "execution_count": 1,
     "metadata": {},
     "output_type": "execute_result"
    }
   ],
   "source": [
    "import pandas as pd\n",
    "from collections import Counter\n",
    "import matplotlib.pyplot as plt\n",
    "import seaborn as sns\n",
    "import numpy as np\n",
    "import re\n",
    "df=pd.read_csv('DATA/output1.csv')\n",
    "df.head()"
   ]
  },
  {
   "cell_type": "markdown",
   "id": "06a5f406-85b2-4716-be68-7f7645f9f822",
   "metadata": {},
   "source": [
    "## Visualisation & Cleaning"
   ]
  },
  {
   "cell_type": "markdown",
   "id": "cc5edc2e-e2c8-4d08-9c65-efd4c69864fc",
   "metadata": {},
   "source": [
    "after importing our data it's time to see summary of information about our dataframe and some statictics"
   ]
  },
  {
   "cell_type": "code",
   "execution_count": 2,
   "id": "7a27ef52-62a5-4534-982d-bad8eefdb622",
   "metadata": {
    "tags": []
   },
   "outputs": [
    {
     "name": "stdout",
     "output_type": "stream",
     "text": [
      " Basic Info\n",
      "\n",
      "<class 'pandas.core.frame.DataFrame'>\n",
      "RangeIndex: 626 entries, 0 to 625\n",
      "Data columns (total 16 columns):\n",
      " #   Column          Non-Null Count  Dtype  \n",
      "---  ------          --------------  -----  \n",
      " 0   MARK            626 non-null    object \n",
      " 1   RAM             601 non-null    object \n",
      " 2   typeRam         484 non-null    object \n",
      " 3   CPU_Brand       529 non-null    object \n",
      " 4   CPU_Modifier    491 non-null    object \n",
      " 5   CPU_Generation  529 non-null    float64\n",
      " 6   GPU             383 non-null    object \n",
      " 7   STOCKAGEHDD     23 non-null     float64\n",
      " 8   STOCKAGESSD     332 non-null    float64\n",
      " 9   TypeStockage    440 non-null    object \n",
      " 10  Stockage        122 non-null    float64\n",
      " 11  COULEUR         571 non-null    object \n",
      " 12  POIDS           599 non-null    object \n",
      " 13  ECRAN           332 non-null    object \n",
      " 14  PRIX            626 non-null    object \n",
      " 15  RATE            626 non-null    object \n",
      "dtypes: float64(4), object(12)\n",
      "memory usage: 78.4+ KB\n",
      "None\n",
      "\n",
      " Summary Statistics\n",
      "\n",
      "       CPU_Generation  STOCKAGEHDD  STOCKAGESSD      Stockage\n",
      "count      529.000000         23.0   332.000000  1.220000e+02\n",
      "mean         6.897921       1000.0   354.512048  1.165913e+06\n",
      "std          2.918232          0.0   274.882479  2.647748e+06\n",
      "min          3.000000       1000.0    32.000000  8.000000e+00\n",
      "25%          5.000000       1000.0   256.000000  2.560000e+02\n",
      "50%          6.000000       1000.0   256.000000  5.000000e+02\n",
      "75%          8.000000       1000.0   512.000000  5.120000e+02\n",
      "max         28.000000       1000.0  2512.000000  7.200000e+06\n",
      "\n",
      "Missing Values\n",
      "\n",
      "MARK                0\n",
      "RAM                25\n",
      "typeRam           142\n",
      "CPU_Brand          97\n",
      "CPU_Modifier      135\n",
      "CPU_Generation     97\n",
      "GPU               243\n",
      "STOCKAGEHDD       603\n",
      "STOCKAGESSD       294\n",
      "TypeStockage      186\n",
      "Stockage          504\n",
      "COULEUR            55\n",
      "POIDS              27\n",
      "ECRAN             294\n",
      "PRIX                0\n",
      "RATE                0\n",
      "dtype: int64\n"
     ]
    }
   ],
   "source": [
    "print(\" Basic Info\\n\")\n",
    "print(df.info())\n",
    "\n",
    "# Display summary statistics\n",
    "print(\"\\n Summary Statistics\\n\")\n",
    "print(df.describe())\n",
    "\n",
    "#Check for missing values\n",
    "print(\"\\nMissing Values\\n\")\n",
    "print(df.isnull().sum())"
   ]
  },
  {
   "cell_type": "code",
   "execution_count": 3,
   "id": "7356468e-7703-4ab2-bd07-7784fb78e48b",
   "metadata": {
    "tags": []
   },
   "outputs": [
    {
     "data": {
      "text/plain": [
       "26"
      ]
     },
     "execution_count": 3,
     "metadata": {},
     "output_type": "execute_result"
    }
   ],
   "source": [
    "df.duplicated().sum()"
   ]
  },
  {
   "cell_type": "code",
   "execution_count": 4,
   "id": "2ce6c398-0c79-45b0-9da6-09d2c84bef93",
   "metadata": {
    "tags": []
   },
   "outputs": [
    {
     "data": {
      "text/plain": [
       "MARK                0\n",
       "RAM                25\n",
       "typeRam           142\n",
       "CPU_Brand          97\n",
       "CPU_Modifier      135\n",
       "CPU_Generation     97\n",
       "GPU               243\n",
       "STOCKAGEHDD       603\n",
       "STOCKAGESSD       294\n",
       "TypeStockage      186\n",
       "Stockage          504\n",
       "COULEUR            55\n",
       "POIDS              27\n",
       "ECRAN             294\n",
       "PRIX                0\n",
       "RATE                0\n",
       "dtype: int64"
      ]
     },
     "execution_count": 4,
     "metadata": {},
     "output_type": "execute_result"
    }
   ],
   "source": [
    "df.isnull().sum()"
   ]
  },
  {
   "cell_type": "code",
   "execution_count": 5,
   "id": "c2317828",
   "metadata": {},
   "outputs": [],
   "source": [
    "df= df.drop_duplicates()"
   ]
  },
  {
   "cell_type": "markdown",
   "id": "0efcd973",
   "metadata": {},
   "source": [
    "# Mark"
   ]
  },
  {
   "cell_type": "code",
   "execution_count": 6,
   "id": "4e889e50",
   "metadata": {
    "tags": []
   },
   "outputs": [],
   "source": [
    "mark_counts = df['MARK'].value_counts()\n",
    "df = df[df['MARK'].isin(mark_counts.index[mark_counts >= 10])]\n",
    "df = pd.get_dummies(df, columns=['MARK'], prefix='')"
   ]
  },
  {
   "cell_type": "code",
   "execution_count": 7,
   "id": "58fbbeaf",
   "metadata": {},
   "outputs": [
    {
     "data": {
      "text/html": [
       "<div>\n",
       "<style scoped>\n",
       "    .dataframe tbody tr th:only-of-type {\n",
       "        vertical-align: middle;\n",
       "    }\n",
       "\n",
       "    .dataframe tbody tr th {\n",
       "        vertical-align: top;\n",
       "    }\n",
       "\n",
       "    .dataframe thead th {\n",
       "        text-align: right;\n",
       "    }\n",
       "</style>\n",
       "<table border=\"1\" class=\"dataframe\">\n",
       "  <thead>\n",
       "    <tr style=\"text-align: right;\">\n",
       "      <th></th>\n",
       "      <th>RAM</th>\n",
       "      <th>typeRam</th>\n",
       "      <th>CPU_Brand</th>\n",
       "      <th>CPU_Modifier</th>\n",
       "      <th>CPU_Generation</th>\n",
       "      <th>GPU</th>\n",
       "      <th>STOCKAGEHDD</th>\n",
       "      <th>STOCKAGESSD</th>\n",
       "      <th>TypeStockage</th>\n",
       "      <th>Stockage</th>\n",
       "      <th>COULEUR</th>\n",
       "      <th>POIDS</th>\n",
       "      <th>ECRAN</th>\n",
       "      <th>PRIX</th>\n",
       "      <th>RATE</th>\n",
       "      <th>_Asus</th>\n",
       "      <th>_DELL</th>\n",
       "      <th>_Hp</th>\n",
       "      <th>_Lenovo</th>\n",
       "    </tr>\n",
       "  </thead>\n",
       "  <tbody>\n",
       "    <tr>\n",
       "      <th>0</th>\n",
       "      <td>NaN</td>\n",
       "      <td>NaN</td>\n",
       "      <td>NaN</td>\n",
       "      <td>NaN</td>\n",
       "      <td>NaN</td>\n",
       "      <td>NaN</td>\n",
       "      <td>NaN</td>\n",
       "      <td>NaN</td>\n",
       "      <td>NaN</td>\n",
       "      <td>NaN</td>\n",
       "      <td>gris</td>\n",
       "      <td>1</td>\n",
       "      <td>6\"</td>\n",
       "      <td>175.00 Dhs</td>\n",
       "      <td>4.3 out of 5</td>\n",
       "      <td>False</td>\n",
       "      <td>False</td>\n",
       "      <td>False</td>\n",
       "      <td>True</td>\n",
       "    </tr>\n",
       "    <tr>\n",
       "      <th>1</th>\n",
       "      <td>4go</td>\n",
       "      <td>ddr3</td>\n",
       "      <td>intel</td>\n",
       "      <td>i3</td>\n",
       "      <td>4.0</td>\n",
       "      <td>: intel hd graphics family</td>\n",
       "      <td>NaN</td>\n",
       "      <td>NaN</td>\n",
       "      <td>NaN</td>\n",
       "      <td>NaN</td>\n",
       "      <td>noir</td>\n",
       "      <td>2.42</td>\n",
       "      <td>15pouce</td>\n",
       "      <td>1,499.00 Dhs</td>\n",
       "      <td>4.5 out of 5</td>\n",
       "      <td>False</td>\n",
       "      <td>True</td>\n",
       "      <td>False</td>\n",
       "      <td>False</td>\n",
       "    </tr>\n",
       "    <tr>\n",
       "      <th>2</th>\n",
       "      <td>8gb</td>\n",
       "      <td>ddr4</td>\n",
       "      <td>intel</td>\n",
       "      <td>i5</td>\n",
       "      <td>6.0</td>\n",
       "      <td>. intel hd graphics 520</td>\n",
       "      <td>NaN</td>\n",
       "      <td>256.0</td>\n",
       "      <td>ssd</td>\n",
       "      <td>NaN</td>\n",
       "      <td>gris</td>\n",
       "      <td>1.28</td>\n",
       "      <td>NaN</td>\n",
       "      <td>2,490.00 Dhs</td>\n",
       "      <td>3.7 out of 5</td>\n",
       "      <td>False</td>\n",
       "      <td>False</td>\n",
       "      <td>True</td>\n",
       "      <td>False</td>\n",
       "    </tr>\n",
       "    <tr>\n",
       "      <th>3</th>\n",
       "      <td>4go</td>\n",
       "      <td>NaN</td>\n",
       "      <td>NaN</td>\n",
       "      <td>NaN</td>\n",
       "      <td>NaN</td>\n",
       "      <td>NaN</td>\n",
       "      <td>NaN</td>\n",
       "      <td>NaN</td>\n",
       "      <td>NaN</td>\n",
       "      <td>500.0</td>\n",
       "      <td>NaN</td>\n",
       "      <td>1</td>\n",
       "      <td>6pouce</td>\n",
       "      <td>3,329.00 Dhs</td>\n",
       "      <td>0 out of 5</td>\n",
       "      <td>False</td>\n",
       "      <td>False</td>\n",
       "      <td>True</td>\n",
       "      <td>False</td>\n",
       "    </tr>\n",
       "    <tr>\n",
       "      <th>4</th>\n",
       "      <td>16gb</td>\n",
       "      <td>ddr4</td>\n",
       "      <td>intel</td>\n",
       "      <td>i5</td>\n",
       "      <td>6.0</td>\n",
       "      <td>. intel hd graphics 520</td>\n",
       "      <td>NaN</td>\n",
       "      <td>NaN</td>\n",
       "      <td>NaN</td>\n",
       "      <td>NaN</td>\n",
       "      <td>gris</td>\n",
       "      <td>1.5</td>\n",
       "      <td>NaN</td>\n",
       "      <td>2,899.00 Dhs</td>\n",
       "      <td>4 out of 5</td>\n",
       "      <td>False</td>\n",
       "      <td>False</td>\n",
       "      <td>True</td>\n",
       "      <td>False</td>\n",
       "    </tr>\n",
       "  </tbody>\n",
       "</table>\n",
       "</div>"
      ],
      "text/plain": [
       "    RAM typeRam CPU_Brand CPU_Modifier  CPU_Generation  \\\n",
       "0   NaN     NaN       NaN          NaN             NaN   \n",
       "1   4go    ddr3     intel           i3             4.0   \n",
       "2   8gb    ddr4     intel           i5             6.0   \n",
       "3   4go     NaN       NaN          NaN             NaN   \n",
       "4  16gb    ddr4     intel           i5             6.0   \n",
       "\n",
       "                           GPU  STOCKAGEHDD  STOCKAGESSD TypeStockage  \\\n",
       "0                          NaN          NaN          NaN          NaN   \n",
       "1   : intel hd graphics family          NaN          NaN          NaN   \n",
       "2      . intel hd graphics 520          NaN        256.0          ssd   \n",
       "3                          NaN          NaN          NaN          NaN   \n",
       "4      . intel hd graphics 520          NaN          NaN          NaN   \n",
       "\n",
       "   Stockage COULEUR POIDS    ECRAN          PRIX          RATE  _Asus  _DELL  \\\n",
       "0       NaN    gris     1       6\"    175.00 Dhs  4.3 out of 5  False  False   \n",
       "1       NaN    noir  2.42  15pouce  1,499.00 Dhs  4.5 out of 5  False   True   \n",
       "2       NaN    gris  1.28      NaN  2,490.00 Dhs  3.7 out of 5  False  False   \n",
       "3     500.0     NaN     1   6pouce  3,329.00 Dhs    0 out of 5  False  False   \n",
       "4       NaN    gris   1.5      NaN  2,899.00 Dhs    4 out of 5  False  False   \n",
       "\n",
       "     _Hp  _Lenovo  \n",
       "0  False     True  \n",
       "1  False    False  \n",
       "2   True    False  \n",
       "3   True    False  \n",
       "4   True    False  "
      ]
     },
     "execution_count": 7,
     "metadata": {},
     "output_type": "execute_result"
    }
   ],
   "source": [
    "df.head()"
   ]
  },
  {
   "cell_type": "markdown",
   "id": "5a9c8aeb",
   "metadata": {},
   "source": [
    "## Prix"
   ]
  },
  {
   "cell_type": "code",
   "execution_count": 8,
   "id": "40ab730b-2939-480f-9dc0-fe2dd4fd6b8d",
   "metadata": {
    "tags": []
   },
   "outputs": [
    {
     "data": {
      "text/plain": [
       "count              549\n",
       "unique             264\n",
       "top       1,999.00 Dhs\n",
       "freq                18\n",
       "Name: PRIX, dtype: object"
      ]
     },
     "execution_count": 8,
     "metadata": {},
     "output_type": "execute_result"
    }
   ],
   "source": [
    "df['PRIX'].describe()"
   ]
  },
  {
   "cell_type": "markdown",
   "id": "664d77d8",
   "metadata": {},
   "source": [
    "Now, let's prepare the 'PRIX' column by retaining only the numerical values representing the prices. To achieve this, we will remove any non-numeric characters, such as commas or 'Dhs', from the 'PRIX' column. The objective is to convert the 'PRIX' column into a numeric format, allowing for a more convenient analysis of laptop prices"
   ]
  },
  {
   "cell_type": "code",
   "execution_count": 9,
   "id": "d10b266d",
   "metadata": {},
   "outputs": [],
   "source": [
    "#cleaning price column \n",
    "df['PRIX'] = df['PRIX'].str.replace(' Dhs', '').str.replace(',', '').astype(float)"
   ]
  },
  {
   "cell_type": "code",
   "execution_count": 10,
   "id": "33abae97",
   "metadata": {},
   "outputs": [
    {
     "data": {
      "image/png": "[encoded data removed]",
      "text/plain": [
       "<Figure size 1000x600 with 1 Axes>"
      ]
     },
     "metadata": {},
     "output_type": "display_data"
    }
   ],
   "source": [
    "import matplotlib.pyplot as plt\n",
    "import seaborn as sns\n",
    "\n",
    "plt.figure(figsize=(10, 6))\n",
    "sns.histplot(df['PRIX'], bins=50, kde=True, color='skyblue')\n",
    "plt.title('Distribution of Prices')\n",
    "plt.xlabel('Price')\n",
    "plt.ylabel('Frequency')\n",
    "plt.show()"
   ]
  },
  {
   "cell_type": "markdown",
   "id": "fe63a4a1",
   "metadata": {
    "tags": []
   },
   "source": [
    "# Poids"
   ]
  },
  {
   "cell_type": "code",
   "execution_count": 11,
   "id": "67217822-9c70-4a08-9f4c-173f13b47f68",
   "metadata": {
    "tags": []
   },
   "outputs": [
    {
     "data": {
      "text/plain": [
       "POIDS\n",
       "2           93\n",
       "1.5         73\n",
       "1.6         50\n",
       "1           40\n",
       "1.28        22\n",
       "            ..\n",
       "1.64         1\n",
       ":1,48kg      1\n",
       ":1,78kg.     1\n",
       "3,4          1\n",
       "12           1\n",
       "Name: count, Length: 88, dtype: int64"
      ]
     },
     "execution_count": 11,
     "metadata": {},
     "output_type": "execute_result"
    }
   ],
   "source": [
    "df['POIDS'].value_counts()"
   ]
  },
  {
   "cell_type": "code",
   "execution_count": 12,
   "id": "658cb0db",
   "metadata": {},
   "outputs": [],
   "source": [
    "def extract_number(s):\n",
    "    return re.sub(r'\\D', '', str(s))\n",
    "\n",
    "df['POIDS'] = df['POIDS'].apply(extract_number)"
   ]
  },
  {
   "cell_type": "markdown",
   "id": "01308f38",
   "metadata": {},
   "source": [
    "# CPU_Brand\t CPU_Modifier\tCPU_Generation\t"
   ]
  },
  {
   "cell_type": "code",
   "execution_count": 13,
   "id": "54404520",
   "metadata": {},
   "outputs": [
    {
     "data": {
      "text/plain": [
       "CPU_Brand  CPU_Modifier  CPU_Generation\n",
       "intel      i5            6.0               108\n",
       "                         5.0                51\n",
       "                         4.0                37\n",
       "                         8.0                32\n",
       "           i3            6.0                23\n",
       "           i7            6.0                22\n",
       "           i3            4.0                18\n",
       "           i5            10.0               17\n",
       "                         11.0               17\n",
       "           i7            7.0                16\n",
       "           i5            7.0                15\n",
       "           i7            12.0               13\n",
       "           i3            11.0               11\n",
       "           i7            11.0                9\n",
       "           i5            12.0                9\n",
       "           i7            8.0                 8\n",
       "           i3            10.0                7\n",
       "           i7            10.0                5\n",
       "amd        3             3.0                 5\n",
       "           5             5.0                 5\n",
       "ryzen      5             5.0                 4\n",
       "intel      i5            13.0                3\n",
       "           i7            4.0                 2\n",
       "amd        7             5.0                 2\n",
       "intel      i7            13.0                2\n",
       "                         5.0                 1\n",
       "           i3            8.0                 1\n",
       "           i7            9.0                 1\n",
       "           i3            3.0                 1\n",
       "amd        7             6.0                 1\n",
       "Name: count, dtype: int64"
      ]
     },
     "execution_count": 13,
     "metadata": {},
     "output_type": "execute_result"
    }
   ],
   "source": [
    "df[['CPU_Brand','CPU_Modifier','CPU_Generation']].value_counts()"
   ]
  },
  {
   "cell_type": "markdown",
   "id": "eb166385",
   "metadata": {},
   "source": [
    "It seems like the three attributes are generally in good shape. The only necessary adjustments are to remove the ‘i’ characters from the ‘CPU_Modifier’ column and to transform the values in the ‘CPU_brand’ column into new separate columns"
   ]
  },
  {
   "cell_type": "code",
   "execution_count": 14,
   "id": "29a0f91b",
   "metadata": {},
   "outputs": [],
   "source": [
    "\n",
    "df['CPU_Brand'] = df['CPU_Brand'].replace(np.nan, '')\n",
    "\n",
    "# Remove 'i' from 'CPU_Modifier'\n",
    "df['CPU_Modifier'] = df['CPU_Modifier'].str.replace('i', '')\n",
    "\n",
    "# Get unique CPU brands\n",
    "unique_brands = df['CPU_Brand'].unique()\n",
    "\n",
    "# Create binary columns for each unique CPU brand\n",
    "for brand in unique_brands:\n",
    "    df[brand] = df['CPU_Brand'].apply(lambda x: 1 if brand.lower() in str(x).lower() else 0)\n"
   ]
  },
  {
   "cell_type": "code",
   "execution_count": 15,
   "id": "e6955bb4-421e-4a4f-8a83-8750934d4bac",
   "metadata": {
    "tags": []
   },
   "outputs": [
    {
     "data": {
      "text/plain": [
       "intel  amd\n",
       "1      0      462\n",
       "0      0       74\n",
       "       1       13\n",
       "Name: count, dtype: int64"
      ]
     },
     "execution_count": 15,
     "metadata": {},
     "output_type": "execute_result"
    }
   ],
   "source": [
    "df[['intel','amd']].value_counts()"
   ]
  },
  {
   "cell_type": "code",
   "execution_count": 16,
   "id": "177b1a63-92b9-4a3d-91de-447bf4ee57a8",
   "metadata": {
    "tags": []
   },
   "outputs": [
    {
     "data": {
      "text/plain": [
       "intel  amd\n",
       "1      0      462\n",
       "0      1       13\n",
       "Name: count, dtype: int64"
      ]
     },
     "execution_count": 16,
     "metadata": {},
     "output_type": "execute_result"
    }
   ],
   "source": [
    "df['intel'] = df['intel'].fillna(0)\n",
    "df['amd'] = df['amd'].fillna(0)\n",
    "\n",
    "# Delete rows where both 'Intel' and 'AMD' are 0\n",
    "df = df[(df['intel'] != 0) | (df['amd'] != 0)]\n",
    "df[['intel','amd']].value_counts()"
   ]
  },
  {
   "cell_type": "code",
   "execution_count": 17,
   "id": "177e7a41",
   "metadata": {},
   "outputs": [],
   "source": [
    "df = pd.get_dummies(df, columns=['CPU_Brand'], prefix='')"
   ]
  },
  {
   "cell_type": "markdown",
   "id": "a3153c3c",
   "metadata": {},
   "source": [
    "# ECRAN"
   ]
  },
  {
   "cell_type": "code",
   "execution_count": 18,
   "id": "7be93a90",
   "metadata": {},
   "outputs": [
    {
     "data": {
      "text/plain": [
       "ECRAN\n",
       "14\"        96\n",
       "6\"         42\n",
       "8cm        20\n",
       "6cm        18\n",
       "14pouce    18\n",
       "3pouce     11\n",
       "3\"         10\n",
       "5\"          9\n",
       "6pouce      7\n",
       "0\"          6\n",
       "15pouce     4\n",
       "cm          3\n",
       "13pouce     2\n",
       "5pouce      2\n",
       "1\"          1\n",
       "1pouce      1\n",
       "12pouce     1\n",
       "0pouce      1\n",
       "16\"         1\n",
       "33cm        1\n",
       "Name: count, dtype: int64"
      ]
     },
     "execution_count": 18,
     "metadata": {},
     "output_type": "execute_result"
    }
   ],
   "source": [
    "df['ECRAN'].value_counts()"
   ]
  },
  {
   "cell_type": "markdown",
   "id": "bfc8b3ce",
   "metadata": {},
   "source": [
    "Logiquement, les valeurs de la taille d'écran composées d'un seul chiffre ont un '1' au début, qui n'a pas été extrait lors du scrapping (je ne suis pas certain de la raison :) ). Nous allons donc ajouter un '1' à côté des chiffres isolés, suivis de l'unité 'pouces'"
   ]
  },
  {
   "cell_type": "code",
   "execution_count": 19,
   "id": "eea41bf8",
   "metadata": {},
   "outputs": [],
   "source": [
    "for index, row in df.iterrows():\n",
    "    \n",
    "    if re.search(r'^\\d(\"|pouce)',str(row['ECRAN'])):\n",
    "        df.at[index, 'ECRAN'] = re.sub(r'\\D*','',str(row['ECRAN']))\n",
    "        df.at[index, 'ECRAN'] =float(df.at[index, 'ECRAN'] )\n",
    "        try:\n",
    "            float_value=float('1'+re.sub(r'\\D*','',str(row['ECRAN'])))\n",
    "            df.at[index, 'ECRAN'] = float_value\n",
    "        except:\n",
    "            float_value=np.nan\n",
    "            df.at[index, 'ECRAN'] = float_value\n",
    "        \n",
    "    elif re.search(r'cm',str(row['ECRAN'])):\n",
    "        df.at[index, 'ECRAN'] = np.nan\n",
    "    else:\n",
    "        try:\n",
    "            df.at[index, 'ECRAN'] = float(re.sub(r'\\D*','',str(row['ECRAN'])))\n",
    "        except:\n",
    "            df.at[index, 'ECRAN']=np.nan \n",
    "    if df.at[index, 'ECRAN']in [30,0]:\n",
    "         df = df.drop(index, axis=0)\n"
   ]
  },
  {
   "cell_type": "code",
   "execution_count": 20,
   "id": "9aa3382d",
   "metadata": {},
   "outputs": [
    {
     "data": {
      "text/plain": [
       "ECRAN\n",
       "14.0    114\n",
       "16.0     50\n",
       "13.0     23\n",
       "15.0     15\n",
       "10.0      7\n",
       "11.0      2\n",
       "12.0      1\n",
       "Name: count, dtype: int64"
      ]
     },
     "execution_count": 20,
     "metadata": {},
     "output_type": "execute_result"
    }
   ],
   "source": [
    "df['ECRAN'].value_counts()"
   ]
  },
  {
   "cell_type": "markdown",
   "id": "487dc4f4",
   "metadata": {},
   "source": [
    "# Stockage"
   ]
  },
  {
   "cell_type": "code",
   "execution_count": 21,
   "id": "b26f4cc1",
   "metadata": {},
   "outputs": [
    {
     "data": {
      "text/plain": [
       "475"
      ]
     },
     "execution_count": 21,
     "metadata": {},
     "output_type": "execute_result"
    }
   ],
   "source": [
    "len(df)"
   ]
  },
  {
   "cell_type": "code",
   "execution_count": 22,
   "id": "49dafec7",
   "metadata": {},
   "outputs": [
    {
     "data": {
      "text/html": [
       "<div>\n",
       "<style scoped>\n",
       "    .dataframe tbody tr th:only-of-type {\n",
       "        vertical-align: middle;\n",
       "    }\n",
       "\n",
       "    .dataframe tbody tr th {\n",
       "        vertical-align: top;\n",
       "    }\n",
       "\n",
       "    .dataframe thead th {\n",
       "        text-align: right;\n",
       "    }\n",
       "</style>\n",
       "<table border=\"1\" class=\"dataframe\">\n",
       "  <thead>\n",
       "    <tr style=\"text-align: right;\">\n",
       "      <th></th>\n",
       "      <th>STOCKAGEHDD</th>\n",
       "      <th>STOCKAGESSD</th>\n",
       "      <th>Stockage</th>\n",
       "    </tr>\n",
       "  </thead>\n",
       "  <tbody>\n",
       "    <tr>\n",
       "      <th>count</th>\n",
       "      <td>23.0</td>\n",
       "      <td>262.000000</td>\n",
       "      <td>8.700000e+01</td>\n",
       "    </tr>\n",
       "    <tr>\n",
       "      <th>mean</th>\n",
       "      <td>1000.0</td>\n",
       "      <td>343.152672</td>\n",
       "      <td>1.572763e+06</td>\n",
       "    </tr>\n",
       "    <tr>\n",
       "      <th>std</th>\n",
       "      <td>0.0</td>\n",
       "      <td>257.084448</td>\n",
       "      <td>2.991768e+06</td>\n",
       "    </tr>\n",
       "    <tr>\n",
       "      <th>min</th>\n",
       "      <td>1000.0</td>\n",
       "      <td>32.000000</td>\n",
       "      <td>8.000000e+00</td>\n",
       "    </tr>\n",
       "    <tr>\n",
       "      <th>25%</th>\n",
       "      <td>1000.0</td>\n",
       "      <td>256.000000</td>\n",
       "      <td>2.560000e+02</td>\n",
       "    </tr>\n",
       "    <tr>\n",
       "      <th>50%</th>\n",
       "      <td>1000.0</td>\n",
       "      <td>256.000000</td>\n",
       "      <td>5.000000e+02</td>\n",
       "    </tr>\n",
       "    <tr>\n",
       "      <th>75%</th>\n",
       "      <td>1000.0</td>\n",
       "      <td>512.000000</td>\n",
       "      <td>1.000000e+03</td>\n",
       "    </tr>\n",
       "    <tr>\n",
       "      <th>max</th>\n",
       "      <td>1000.0</td>\n",
       "      <td>2512.000000</td>\n",
       "      <td>7.200000e+06</td>\n",
       "    </tr>\n",
       "  </tbody>\n",
       "</table>\n",
       "</div>"
      ],
      "text/plain": [
       "       STOCKAGEHDD  STOCKAGESSD      Stockage\n",
       "count         23.0   262.000000  8.700000e+01\n",
       "mean        1000.0   343.152672  1.572763e+06\n",
       "std            0.0   257.084448  2.991768e+06\n",
       "min         1000.0    32.000000  8.000000e+00\n",
       "25%         1000.0   256.000000  2.560000e+02\n",
       "50%         1000.0   256.000000  5.000000e+02\n",
       "75%         1000.0   512.000000  1.000000e+03\n",
       "max         1000.0  2512.000000  7.200000e+06"
      ]
     },
     "execution_count": 22,
     "metadata": {},
     "output_type": "execute_result"
    }
   ],
   "source": [
    "df[['STOCKAGEHDD', 'STOCKAGESSD', 'TypeStockage', 'Stockage']].describe()"
   ]
  },
  {
   "cell_type": "code",
   "execution_count": 23,
   "id": "a3ef628a",
   "metadata": {},
   "outputs": [
    {
     "data": {
      "text/plain": [
       "STOCKAGEHDD     452\n",
       "STOCKAGESSD     213\n",
       "TypeStockage    133\n",
       "Stockage        388\n",
       "dtype: int64"
      ]
     },
     "execution_count": 23,
     "metadata": {},
     "output_type": "execute_result"
    }
   ],
   "source": [
    "df[['STOCKAGEHDD', 'STOCKAGESSD', 'TypeStockage', 'Stockage']].isnull().sum()"
   ]
  },
  {
   "cell_type": "markdown",
   "id": "d6f7ede5",
   "metadata": {
    "tags": []
   },
   "source": [
    " We have decided to replace rows where the type of storage is not specified (i.e., 'TypeStockage' is None or null) with 'hdd.' This decision is based on considerations related to the nature of the data and the importance of having a consistent type of storage value for analysis. By assigning a default value of 'hdd' to rows with missing storage type information, we aim to enhance the integrity and uniformity of the dataset, ensuring more meaningful and reliable insights during subsequent analyses"
   ]
  },
  {
   "cell_type": "code",
   "execution_count": 24,
   "id": "2d3b0688-3709-4a5a-96d5-3b786527b1c5",
   "metadata": {
    "tags": []
   },
   "outputs": [],
   "source": [
    "def update_storage_columns(row):\n",
    "    if pd.notnull(row['TypeStockage']) and pd.notnull(row['Stockage']):\n",
    "        if row['TypeStockage'] == 'hdd':\n",
    "            row['STOCKAGEHDD'] = row['Stockage']\n",
    "        elif row['TypeStockage'] == 'ssd':\n",
    "            row['STOCKAGESSD'] = row['Stockage']\n",
    "    if pd.isnull(row['TypeStockage'])and pd.notnull(row['Stockage']):\n",
    "        row['STOCKAGEHDD'] = row['Stockage']\n",
    "    return row\n",
    "\n",
    "def fill_type(row):\n",
    "    if pd.isnull(row['TypeStockage'])and pd.notnull(row['Stockage']):\n",
    "        row['STOCKAGEHDD'] = row['Stockage']\n",
    "    return row\n",
    "\n",
    "df = df.apply(update_storage_columns, axis=1)\n",
    "df = df.apply(update_storage_columns, axis=1)"
   ]
  },
  {
   "cell_type": "markdown",
   "id": "ad91dd2f-22e6-4c74-b49e-1194e89db0f3",
   "metadata": {},
   "source": [
    "Now that we have utilized the information from the **'TypeStockage'** and **'Stockage'** columns to update **STOCKAGEHDD'** and **'STOCKAGESSD'**, these two columns have effectively replaced the role of the original columns. Therefore, to streamline our dataset and remove redundant information, we have decided to remove the **'TypeStockage'** and **'Stockage'** columns"
   ]
  },
  {
   "cell_type": "code",
   "execution_count": 25,
   "id": "dc4445eb-de22-4dc4-8cbc-f8a632be59ee",
   "metadata": {
    "tags": []
   },
   "outputs": [],
   "source": [
    "df.drop(['TypeStockage', 'Stockage'], axis=1, inplace=True)"
   ]
  },
  {
   "cell_type": "markdown",
   "id": "afe16c74",
   "metadata": {
    "tags": []
   },
   "source": [
    "we have addressed potential missing values in the 'STOCKAGEHDD' and 'STOCKAGESSD' columns. To ensure data completeness and facilitate subsequent analyses, any NaN values in these columns have been replaced with 0. This approach allows for a consistent representation of storage information, where a value of 0 signifies the absence of a specific storage type in the respective columns."
   ]
  },
  {
   "cell_type": "code",
   "execution_count": 26,
   "id": "ac822264-8bf3-4aff-bde0-930d70c32a1a",
   "metadata": {
    "tags": []
   },
   "outputs": [
    {
     "data": {
      "text/html": [
       "<div>\n",
       "<style scoped>\n",
       "    .dataframe tbody tr th:only-of-type {\n",
       "        vertical-align: middle;\n",
       "    }\n",
       "\n",
       "    .dataframe tbody tr th {\n",
       "        vertical-align: top;\n",
       "    }\n",
       "\n",
       "    .dataframe thead th {\n",
       "        text-align: right;\n",
       "    }\n",
       "</style>\n",
       "<table border=\"1\" class=\"dataframe\">\n",
       "  <thead>\n",
       "    <tr style=\"text-align: right;\">\n",
       "      <th></th>\n",
       "      <th>RAM</th>\n",
       "      <th>typeRam</th>\n",
       "      <th>CPU_Modifier</th>\n",
       "      <th>CPU_Generation</th>\n",
       "      <th>GPU</th>\n",
       "      <th>STOCKAGEHDD</th>\n",
       "      <th>STOCKAGESSD</th>\n",
       "      <th>COULEUR</th>\n",
       "      <th>POIDS</th>\n",
       "      <th>ECRAN</th>\n",
       "      <th>...</th>\n",
       "      <th>_Asus</th>\n",
       "      <th>_DELL</th>\n",
       "      <th>_Hp</th>\n",
       "      <th>_Lenovo</th>\n",
       "      <th></th>\n",
       "      <th>intel</th>\n",
       "      <th>amd</th>\n",
       "      <th>ryzen</th>\n",
       "      <th>_amd</th>\n",
       "      <th>_intel</th>\n",
       "    </tr>\n",
       "  </thead>\n",
       "  <tbody>\n",
       "    <tr>\n",
       "      <th>1</th>\n",
       "      <td>4go</td>\n",
       "      <td>ddr3</td>\n",
       "      <td>3</td>\n",
       "      <td>4.0</td>\n",
       "      <td>: intel hd graphics family</td>\n",
       "      <td>0.0</td>\n",
       "      <td>0.0</td>\n",
       "      <td>noir</td>\n",
       "      <td>242</td>\n",
       "      <td>15.0</td>\n",
       "      <td>...</td>\n",
       "      <td>False</td>\n",
       "      <td>True</td>\n",
       "      <td>False</td>\n",
       "      <td>False</td>\n",
       "      <td>1</td>\n",
       "      <td>1</td>\n",
       "      <td>0</td>\n",
       "      <td>0</td>\n",
       "      <td>False</td>\n",
       "      <td>True</td>\n",
       "    </tr>\n",
       "    <tr>\n",
       "      <th>2</th>\n",
       "      <td>8gb</td>\n",
       "      <td>ddr4</td>\n",
       "      <td>5</td>\n",
       "      <td>6.0</td>\n",
       "      <td>. intel hd graphics 520</td>\n",
       "      <td>0.0</td>\n",
       "      <td>256.0</td>\n",
       "      <td>gris</td>\n",
       "      <td>128</td>\n",
       "      <td>NaN</td>\n",
       "      <td>...</td>\n",
       "      <td>False</td>\n",
       "      <td>False</td>\n",
       "      <td>True</td>\n",
       "      <td>False</td>\n",
       "      <td>1</td>\n",
       "      <td>1</td>\n",
       "      <td>0</td>\n",
       "      <td>0</td>\n",
       "      <td>False</td>\n",
       "      <td>True</td>\n",
       "    </tr>\n",
       "    <tr>\n",
       "      <th>4</th>\n",
       "      <td>16gb</td>\n",
       "      <td>ddr4</td>\n",
       "      <td>5</td>\n",
       "      <td>6.0</td>\n",
       "      <td>. intel hd graphics 520</td>\n",
       "      <td>0.0</td>\n",
       "      <td>0.0</td>\n",
       "      <td>gris</td>\n",
       "      <td>15</td>\n",
       "      <td>NaN</td>\n",
       "      <td>...</td>\n",
       "      <td>False</td>\n",
       "      <td>False</td>\n",
       "      <td>True</td>\n",
       "      <td>False</td>\n",
       "      <td>1</td>\n",
       "      <td>1</td>\n",
       "      <td>0</td>\n",
       "      <td>0</td>\n",
       "      <td>False</td>\n",
       "      <td>True</td>\n",
       "    </tr>\n",
       "    <tr>\n",
       "      <th>8</th>\n",
       "      <td>8go</td>\n",
       "      <td>ddr3</td>\n",
       "      <td>5</td>\n",
       "      <td>4.0</td>\n",
       "      <td>contrôleur graphique\\tintel hd graphics 4600 (...</td>\n",
       "      <td>500.0</td>\n",
       "      <td>0.0</td>\n",
       "      <td>noir</td>\n",
       "      <td>2</td>\n",
       "      <td>14.0</td>\n",
       "      <td>...</td>\n",
       "      <td>False</td>\n",
       "      <td>False</td>\n",
       "      <td>True</td>\n",
       "      <td>False</td>\n",
       "      <td>1</td>\n",
       "      <td>1</td>\n",
       "      <td>0</td>\n",
       "      <td>0</td>\n",
       "      <td>False</td>\n",
       "      <td>True</td>\n",
       "    </tr>\n",
       "    <tr>\n",
       "      <th>9</th>\n",
       "      <td>8go</td>\n",
       "      <td>ddr3</td>\n",
       "      <td>3</td>\n",
       "      <td>4.0</td>\n",
       "      <td>contrôleur graphique\\tintel hd graphics 4600 (...</td>\n",
       "      <td>0.0</td>\n",
       "      <td>7200000.0</td>\n",
       "      <td>noir</td>\n",
       "      <td>2</td>\n",
       "      <td>14.0</td>\n",
       "      <td>...</td>\n",
       "      <td>False</td>\n",
       "      <td>False</td>\n",
       "      <td>True</td>\n",
       "      <td>False</td>\n",
       "      <td>1</td>\n",
       "      <td>1</td>\n",
       "      <td>0</td>\n",
       "      <td>0</td>\n",
       "      <td>False</td>\n",
       "      <td>True</td>\n",
       "    </tr>\n",
       "  </tbody>\n",
       "</table>\n",
       "<p>5 rows × 22 columns</p>\n",
       "</div>"
      ],
      "text/plain": [
       "    RAM typeRam CPU_Modifier  CPU_Generation  \\\n",
       "1   4go    ddr3            3             4.0   \n",
       "2   8gb    ddr4            5             6.0   \n",
       "4  16gb    ddr4            5             6.0   \n",
       "8   8go    ddr3            5             4.0   \n",
       "9   8go    ddr3            3             4.0   \n",
       "\n",
       "                                                 GPU  STOCKAGEHDD  \\\n",
       "1                         : intel hd graphics family          0.0   \n",
       "2                            . intel hd graphics 520          0.0   \n",
       "4                            . intel hd graphics 520          0.0   \n",
       "8  contrôleur graphique\\tintel hd graphics 4600 (...        500.0   \n",
       "9  contrôleur graphique\\tintel hd graphics 4600 (...          0.0   \n",
       "\n",
       "   STOCKAGESSD COULEUR POIDS  ECRAN  ...  _Asus  _DELL    _Hp  _Lenovo     \\\n",
       "1          0.0    noir   242   15.0  ...  False   True  False    False  1   \n",
       "2        256.0    gris   128    NaN  ...  False  False   True    False  1   \n",
       "4          0.0    gris    15    NaN  ...  False  False   True    False  1   \n",
       "8          0.0    noir     2   14.0  ...  False  False   True    False  1   \n",
       "9    7200000.0    noir     2   14.0  ...  False  False   True    False  1   \n",
       "\n",
       "   intel  amd  ryzen   _amd  _intel  \n",
       "1      1    0      0  False    True  \n",
       "2      1    0      0  False    True  \n",
       "4      1    0      0  False    True  \n",
       "8      1    0      0  False    True  \n",
       "9      1    0      0  False    True  \n",
       "\n",
       "[5 rows x 22 columns]"
      ]
     },
     "execution_count": 26,
     "metadata": {},
     "output_type": "execute_result"
    }
   ],
   "source": [
    "df['STOCKAGEHDD'].fillna(0, inplace=True)\n",
    "df['STOCKAGESSD'].fillna(0, inplace=True)\n",
    "df.head()"
   ]
  },
  {
   "cell_type": "code",
   "execution_count": 27,
   "id": "19e099fd-949e-4406-afdd-ee46d5fa5e62",
   "metadata": {
    "tags": []
   },
   "outputs": [
    {
     "data": {
      "image/png": "[encoded data removed]",
      "text/plain": [
       "<Figure size 1200x600 with 2 Axes>"
      ]
     },
     "metadata": {},
     "output_type": "display_data"
    }
   ],
   "source": [
    "\n",
    "# Assuming df['STOCKAGEHDD'] and df['STOCKAGESSD'] are numeric columns\n",
    "plt.figure(figsize=(12, 6))\n",
    "\n",
    "plt.subplot(1, 2, 1)\n",
    "sns.histplot(df['STOCKAGEHDD'].dropna(), bins=20, kde=True, color='orange')\n",
    "plt.title('Distribution of STOCKAGEHDD')\n",
    "plt.xlabel('STOCKAGEHDD')\n",
    "plt.ylabel('Frequency')\n",
    "\n",
    "plt.subplot(1, 2, 2)\n",
    "sns.histplot(df['STOCKAGESSD'].dropna(), bins=20, kde=True, color='green')\n",
    "plt.title('Distribution of STOCKAGESSD')\n",
    "plt.xlabel('STOCKAGESSD')\n",
    "plt.ylabel('Frequency')\n",
    "\n",
    "plt.tight_layout()\n",
    "plt.show()\n"
   ]
  },
  {
   "cell_type": "code",
   "execution_count": 28,
   "id": "d7db05bc",
   "metadata": {
    "tags": []
   },
   "outputs": [
    {
     "data": {
      "text/plain": [
       "STOCKAGESSD\n",
       "0.0          203\n",
       "256.0        153\n",
       "512.0         57\n",
       "128.0         18\n",
       "7200000.0     10\n",
       "1000.0         9\n",
       "240.0          6\n",
       "32.0           5\n",
       "500.0          4\n",
       "8.0            2\n",
       "840.0          2\n",
       "160.0          2\n",
       "2512.0         1\n",
       "250.0          1\n",
       "480.0          1\n",
       "2256.0         1\n",
       "Name: count, dtype: int64"
      ]
     },
     "execution_count": 28,
     "metadata": {},
     "output_type": "execute_result"
    }
   ],
   "source": [
    "df['STOCKAGESSD'].value_counts()"
   ]
  },
  {
   "cell_type": "markdown",
   "id": "7ccf06aa-16bf-476d-bf09-8d1a627f0853",
   "metadata": {},
   "source": [
    "The plot indicates a long tail in the distribution, suggesting the presence of a few laptops with exceptionally high SSD storage values, such as 7200000.0 GB. These values are likely outliers and significantly skew the distribution. To address this issue and ensure a more representative visualization, we will proceed to remove these outliers from the dataset"
   ]
  },
  {
   "cell_type": "code",
   "execution_count": 29,
   "id": "82a6b8c7-8051-4ff9-ba40-901f04723863",
   "metadata": {},
   "outputs": [],
   "source": [
    "df = df[(df['STOCKAGESSD'] <= 3000) & (df['STOCKAGEHDD'] <= 3000)]\n"
   ]
  },
  {
   "cell_type": "code",
   "execution_count": 30,
   "id": "8bc438af",
   "metadata": {},
   "outputs": [
    {
     "data": {
      "image/png": "[encoded data removed]",
      "text/plain": [
       "<Figure size 1200x600 with 2 Axes>"
      ]
     },
     "metadata": {},
     "output_type": "display_data"
    }
   ],
   "source": [
    "# Assuming df['STOCKAGEHDD'] and df['STOCKAGESSD'] are numeric columns\n",
    "plt.figure(figsize=(12, 6))\n",
    "\n",
    "plt.subplot(1, 2, 1)\n",
    "sns.histplot(df['STOCKAGEHDD'].dropna(), bins=20, kde=True, color='orange')\n",
    "plt.title('Distribution of STOCKAGEHDD')\n",
    "plt.xlabel('STOCKAGEHDD')\n",
    "plt.ylabel('Frequency')\n",
    "\n",
    "plt.subplot(1, 2, 2)\n",
    "sns.histplot(df['STOCKAGESSD'].dropna(), bins=20, kde=True, color='green')\n",
    "plt.title('Distribution of STOCKAGESSD')\n",
    "plt.xlabel('STOCKAGESSD')\n",
    "plt.ylabel('Frequency')\n",
    "\n",
    "plt.tight_layout()\n",
    "plt.show()\n"
   ]
  },
  {
   "cell_type": "markdown",
   "id": "2a92aac7",
   "metadata": {},
   "source": [
    "## GPU"
   ]
  },
  {
   "cell_type": "markdown",
   "id": "b93a4103",
   "metadata": {},
   "source": [
    "let's visualise the 'GPU' column values"
   ]
  },
  {
   "cell_type": "code",
   "execution_count": 31,
   "id": "2b53df52",
   "metadata": {
    "tags": []
   },
   "outputs": [
    {
     "name": "stdout",
     "output_type": "stream",
     "text": [
      ":\t:\t 200\n",
      "intel\t:\t 184\n",
      "hd\t:\t 157\n",
      "graphics\t:\t 193\n",
      "family\t:\t 5\n",
      ".\t:\t 30\n",
      "520\t:\t 85\n",
      "contrôleur\t:\t 34\n",
      "graphique\t:\t 178\n",
      "4600\t:\t 14\n",
      "(intégré\t:\t 16\n",
      "au\t:\t 17\n",
      "processeur)\t:\t 16\n",
      "graphique:\t:\t 32\n",
      "4400\t:\t 3\n",
      "carte\t:\t 178\n",
      "id\t:\t 3\n",
      "de\t:\t 16\n",
      "la\t:\t 9\n",
      "intégrée\t:\t 22\n",
      "0x1616\t:\t 3\n",
      "microprocesseur\t:\t 1\n",
      "processeur\t:\t 2\n",
      "amd\t:\t 12\n",
      "ryzen™\t:\t 1\n",
      "5\t:\t 1\n",
      "4500u\t:\t 1\n",
      "avec\t:\t 8\n",
      "radeon™\t:\t 6\n",
      "vega\t:\t 1\n",
      "8\t:\t 1\n",
      "(2,1\t:\t 1\n",
      "ghz\t:\t 2\n",
      "fréquence\t:\t 4\n",
      "base,\t:\t 1\n",
      "jusqu’à\t:\t 1\n",
      "3,7\t:\t 1\n",
      "rafale,\t:\t 1\n",
      "6\t:\t 2\n",
      "mo\t:\t 1\n",
      "mémoire\t:\t 1\n",
      "cache,\t:\t 1\n",
      "4\t:\t 7\n",
      "cœurs)\t:\t 1\n",
      "dynamique\t:\t 2\n",
      "(max)\t:\t 2\n",
      "1150\t:\t 2\n",
      "mhz\t:\t 2\n",
      "5500\t:\t 22\n",
      "intel®\t:\t 73\n",
      "uhd\t:\t 67\n",
      "600\t:\t 15\n",
      "sorties\t:\t 3\n",
      "prises\t:\t 3\n",
      "en\t:\t 3\n",
      "charge\t:\t 3\n",
      "displayport,\t:\t 1\n",
      "embedded\t:\t 3\n",
      "displayport\t:\t 1\n",
      "(edp),\t:\t 3\n",
      "hdmi\t:\t 7\n",
      "oui\t:\t 7\n",
      "620\t:\t 27\n",
      "display\t:\t 4\n",
      "port,\t:\t 2\n",
      "port\t:\t 16\n",
      "nvidia®\t:\t 2\n",
      "geforce®\t:\t 2\n",
      "mx330\t:\t 1\n",
      "2go\t:\t 1\n",
      "nvidia\t:\t 8\n",
      "ada\t:\t 1\n",
      "lovelace\t:\t 1\n",
      "geforce\t:\t 2\n",
      "rtx\t:\t 3\n",
      "4050\t:\t 1\n",
      "go\t:\t 4\n",
      "gddr6\t:\t 3\n",
      "dédiés,\t:\t 1\n",
      "iris\t:\t 17\n",
      "xe\t:\t 31\n",
      "et\t:\t 3\n",
      "optimus\t:\t 1\n",
      "résolution\t:\t 1\n",
      "maximum\t:\t 1\n",
      "(displayport)\t:\t 1\n",
      "4096\t:\t 1\n",
      "x\t:\t 1\n",
      "2304\t:\t 1\n",
      "pixels\t:\t 1\n",
      "description\t:\t 2\n",
      "integrated\t:\t 1\n",
      "iris®\t:\t 20\n",
      "functions\t:\t 1\n",
      "as\t:\t 1\n",
      "-\t:\t 4\n",
      "radeon\t:\t 6\n",
      "260\t:\t 2\n",
      "xᵉ\t:\t 6\n",
      "intégré\t:\t 6\n",
      "graphiques\t:\t 2\n",
      "graphique:intel\t:\t 1\n",
      "2\t:\t 6\n",
      "quadro\t:\t 3\n",
      "t1000\t:\t 2\n",
      "max-q\t:\t 1\n",
      "design\t:\t 1\n",
      "(4go)\t:\t 1\n",
      "pro\t:\t 2\n",
      "wx3100\t:\t 2\n",
      "mx350\t:\t 1\n",
      "2g\t:\t 1\n",
      "graphics.\t:\t 9\n",
      "wifi,\t:\t 1\n",
      "bluetooth\t:\t 1\n",
      "intégré:\t:\t 6\n",
      "graphircs\t:\t 1\n",
      "520®\t:\t 1\n",
      "m2000m\t:\t 1\n",
      "–\t:\t 1\n",
      "4go\t:\t 1\n",
      "gddr5\t:\t 2\n",
      "graphique:integrated\t:\t 1\n",
      "3050ti\t:\t 1\n",
      "ports\t:\t 4\n",
      "thunderbolt™\t:\t 2\n",
      "(usb-c™);\t:\t 2\n",
      "1\t:\t 14\n",
      "usb-c\t:\t 2\n",
      "3.2\t:\t 6\n",
      "gen\t:\t 6\n",
      "mode\t:\t 2\n",
      "alternatif\t:\t 2\n",
      "displayport;\t:\t 2\n",
      "usb\t:\t 4\n",
      "powershare;\t:\t 2\n",
      "1;\t:\t 2\n",
      "2.0a\t:\t 2\n",
      "(uma)/1\t:\t 2\n",
      "2.1\t:\t 2\n",
      "(d);\t:\t 2\n",
      "ethernet\t:\t 2\n",
      "rj45;\t:\t 2\n",
      "casque\t:\t 4\n",
      "(combiné\t:\t 2\n",
      "microphone).\t:\t 2\n",
      "rtx™\t:\t 1\n",
      "a1000\t:\t 1\n",
      "gb\t:\t 1\n",
      "&\t:\t 1\n",
      "3050\t:\t 1\n",
      "gddr6/intel®\t:\t 1\n",
      "680m\t:\t 1\n"
     ]
    }
   ],
   "source": [
    "\n",
    "word_counts = Counter()\n",
    "df['GPU'] = df['GPU'].str.lower()\n",
    "for _, row in df.iterrows():\n",
    "    if isinstance(row['GPU'], str):\n",
    "        #this if will help handling NaN\n",
    "        words = row['GPU'].split()\n",
    "        word_counts.update(words)\n",
    "\n",
    "for key,value in word_counts.items():\n",
    "    print(f'{key}\\t:\\t {value}')"
   ]
  },
  {
   "cell_type": "markdown",
   "id": "ab985fcc",
   "metadata": {},
   "source": [
    "After examining the values in the ‘GPU’ column, we notice the presence of non-word characters that are irrelevant in this context and could potentially cause issues later. Therefore, we should remove them."
   ]
  },
  {
   "cell_type": "code",
   "execution_count": 32,
   "id": "d3a98dd1",
   "metadata": {},
   "outputs": [],
   "source": [
    "\n",
    "df['GPU'] = df['GPU'].str.replace(r'[^\\w\\s]', '', regex=True)"
   ]
  },
  {
   "cell_type": "markdown",
   "id": "6421f3ff",
   "metadata": {},
   "source": [
    "Now, let’s examine the count of various words that constitute the values in the ‘GPU’ column"
   ]
  },
  {
   "cell_type": "code",
   "execution_count": 33,
   "id": "ab908474",
   "metadata": {},
   "outputs": [
    {
     "name": "stdout",
     "output_type": "stream",
     "text": [
      "['carte graphique nvidia geforce mx330 2go'\n",
      " 'carte graphique nvidia ada lovelace geforce rtx 4050 6 go gddr6 dédiés intel iris xe intégrée au processeur et nvidia optimus'\n",
      " 'carte graphique 2  nvidia\\xa0quadro t1000 maxq design 4go'\n",
      " 'carte graphique nvidia geforce mx350 2g'\n",
      " 'carte graphique\\xa02 \\xa0\\xa0nvidia quadro m2000m  4go gddr5'\n",
      " 'carte graphique nvidia quadro t1000  4 go gddr5'\n",
      " '\\xa0nvidia rtx 3050ti 4 go gddr6'\n",
      " 'carte graphique  nvidia rtx a1000 4 gb gddr6  intel iris xe graphics'\n",
      " 'carte graphique  nvidia geforce rtx 3050\\xa0 4 go gddr6intel iris xe graphics']\n"
     ]
    }
   ],
   "source": [
    "nvidia_gpu_values = df[df['GPU'].str.contains('nvidia', na=False)]['GPU'].unique()\n",
    "print(nvidia_gpu_values)\n"
   ]
  },
  {
   "cell_type": "code",
   "execution_count": 34,
   "id": "80493334",
   "metadata": {},
   "outputs": [],
   "source": [
    "df.loc[df['GPU'].str.contains('intel') & df['GPU'].str.contains('hd') & df['GPU'].str.contains('520'), 'GPU'] = 'intel hd 520'\n",
    "df.loc[df['GPU'].str.contains('intel') & df['GPU'].str.contains('hd') & df['GPU'].str.contains('530'), 'GPU'] = 'intel hd 530'\n",
    "df.loc[df['GPU'].str.contains('intel') & df['GPU'].str.contains('hd') & df['GPU'].str.contains('4400'), 'GPU'] = 'intel hd graphics 4400'\n",
    "df.loc[df['GPU'].str.contains('intel') & (df['GPU'].str.contains('uhd')|df['GPU'].str.contains('hd')) & (df['GPU'].str.contains('600')|df['GPU'].str.contains('6000')), 'GPU'] = 'intel uhd 600'\n",
    "\n",
    "df.loc[df['GPU'].str.contains('radeon') & df['GPU'].str.contains('vega') & df['GPU'].str.contains('8'), 'GPU'] = 'readon vega 8'\n",
    "df.loc[df['GPU'].str.contains('amd') & df['GPU'].str.contains('radeon') & (df['GPU'].str.contains('graphics')|df['GPU'].str.contains('graphique')), 'GPU'] = 'amd radeon graphique integré'\n",
    "df.loc[df['GPU'].str.contains('graphiques') & df['GPU'].str.contains('intégrés') , 'GPU'] = 'carte graphiques intégré'\n",
    "df.loc[df['GPU'].str.contains('graphique') & df['GPU'].str.contains('intégré')& df['GPU'].str.contains('4600') , 'GPU'] = 'carte graphique 4600 intégré' \n",
    "\n",
    "df.loc[df['GPU'].str.contains('graphique') & df['GPU'].str.contains('intégrée') , 'GPU'] = 'carte graphiques intégré'\n",
    "df['GPU'] = df['GPU'].apply(lambda x: 'Intel UHD Graphiques' if (isinstance(x, str) and 'intel' in x.lower() and 'uhd' in x.lower() and not any(char.isdigit() for char in x)) else x)\n",
    "df['GPU'] = df['GPU'].apply(lambda x: 'Intel HD Graphiques' if (isinstance(x, str) and 'intel' in x.lower() and 'hd' in x.lower() and not any(char.isdigit() for char in x)) else x)\n",
    "df.loc[df['GPU'].str.contains('intel') & df['GPU'].str.contains('hd') & df['GPU'].str.contains('5500'), 'GPU'] = 'intel hd graphics 5500'\n",
    "df.loc[df['GPU'].str.contains('intel') & df['GPU'].str.contains('hd') & df['GPU'].str.contains('620'), 'GPU'] = 'intel hd 620'\n",
    "df.loc[df['GPU'].str.contains('intel') & df['GPU'].str.contains('iris') & df['GPU'].str.contains('xe'), 'GPU'] = 'intel iris xe'\n",
    "df.loc[df['GPU'].str.contains('intel') & df['GPU'].str.contains('iris') & df['GPU'].str.contains('xᵉ'), 'GPU'] = 'intel iris xe'  \n",
    "df.loc[df['GPU'].str.contains('nvidia') & df['GPU'].str.contains('rtx') & df['GPU'].str.contains('3050'), 'GPU'] = 'nvidia rtx 3050 ti 4gb'\n",
    "df.loc[df['GPU'].str.contains('nvidia') & df['GPU'].str.contains('quadro') & df['GPU'].str.contains('t1000'), 'GPU'] = 'nvidia quadro t1000 4 go'\n",
    "df.loc[df['GPU'].str.contains('nvidia') & df['GPU'].str.contains('geforce') & df['GPU'].str.contains('mx3'), 'GPU'] = 'nvidia geforce 350 2 go'\n",
    "\n",
    "gpu_counts = df['GPU'].value_counts()\n",
    "\n",
    "# Create a mask where each 'GPU' value is repeated more than once\n",
    "mask = df['GPU'].isin(gpu_counts[gpu_counts > 2].index)\n",
    "\n",
    "# Apply the mask to the DataFrame\n",
    "df = df[mask]"
   ]
  },
  {
   "cell_type": "code",
   "execution_count": null,
   "id": "0b7b1c02",
   "metadata": {},
   "outputs": [],
   "source": []
  },
  {
   "cell_type": "code",
   "execution_count": 35,
   "id": "10575728",
   "metadata": {},
   "outputs": [
    {
     "data": {
      "text/plain": [
       "GPU\n",
       "intel hd 520                    86\n",
       "Intel HD Graphiques             54\n",
       "intel iris xe                   34\n",
       "intel uhd 600                   29\n",
       "intel hd 620                    25\n",
       "intel hd graphics 5500          22\n",
       "carte graphiques intégré        19\n",
       "amd radeon graphique integré     9\n",
       "intel hd graphics 4400           3\n",
       "Name: count, dtype: int64"
      ]
     },
     "execution_count": 35,
     "metadata": {},
     "output_type": "execute_result"
    }
   ],
   "source": [
    "df['GPU'].value_counts()"
   ]
  },
  {
   "cell_type": "code",
   "execution_count": 36,
   "id": "80aae65a",
   "metadata": {},
   "outputs": [
    {
     "data": {
      "text/plain": [
       "Text(0, 0.5, 'Frequency')"
      ]
     },
     "execution_count": 36,
     "metadata": {},
     "output_type": "execute_result"
    },
    {
     "data": {
      "image/png": "[encoded data removed]",
      "text/plain": [
       "<Figure size 640x480 with 1 Axes>"
      ]
     },
     "metadata": {},
     "output_type": "display_data"
    }
   ],
   "source": [
    "sns.histplot(df['GPU'].dropna(), bins=20, kde=True, color='green')\n",
    "plt.title('Distribution of GPU')\n",
    "plt.xlabel('GPU')\n",
    "plt.ylabel('Frequency')"
   ]
  },
  {
   "cell_type": "code",
   "execution_count": 37,
   "id": "a62c2099",
   "metadata": {},
   "outputs": [],
   "source": [
    "df = pd.get_dummies(df, columns=['GPU'], prefix='')"
   ]
  },
  {
   "cell_type": "markdown",
   "id": "e513fe51",
   "metadata": {},
   "source": [
    "## Rate"
   ]
  },
  {
   "cell_type": "code",
   "execution_count": 38,
   "id": "b8f65fbe",
   "metadata": {},
   "outputs": [],
   "source": [
    "df['RATE'] = df['RATE'].str.extract('(\\d+\\.?\\d*)').astype(float)\n"
   ]
  },
  {
   "cell_type": "code",
   "execution_count": 39,
   "id": "1c4fd12c-0371-4119-86e7-b3870efcdf83",
   "metadata": {},
   "outputs": [
    {
     "data": {
      "text/plain": [
       "RATE\n",
       "0.0    0.651246\n",
       "4.0    0.067616\n",
       "5.0    0.067616\n",
       "1.0    0.039146\n",
       "3.0    0.028470\n",
       "4.5    0.017794\n",
       "3.5    0.017794\n",
       "2.0    0.017794\n",
       "3.6    0.014235\n",
       "3.7    0.010676\n",
       "2.7    0.007117\n",
       "2.3    0.007117\n",
       "4.2    0.007117\n",
       "4.8    0.007117\n",
       "3.9    0.007117\n",
       "3.8    0.007117\n",
       "3.4    0.003559\n",
       "4.3    0.003559\n",
       "3.3    0.003559\n",
       "2.5    0.003559\n",
       "4.7    0.003559\n",
       "3.1    0.003559\n",
       "4.1    0.003559\n",
       "Name: count, dtype: float64"
      ]
     },
     "execution_count": 39,
     "metadata": {},
     "output_type": "execute_result"
    }
   ],
   "source": [
    "df['RATE'].value_counts()/len(df)"
   ]
  },
  {
   "cell_type": "markdown",
   "id": "a17040c0-bee2-4952-ab24-ec8e8a6b36d2",
   "metadata": {},
   "source": [
    "As observed in the previous steps, the 'RATE' column contains a substantial number of null values, with approximately +68% of the dataset having a rating of 0. Given the prevalence of missing or unrated values, and to simplify the analysis, we have decided to remove the entire 'RATE' column from the dataset. This is a strategic choice to address the high proportion of missing values and ensure a more focused and accurate analysis in subsequent steps"
   ]
  },
  {
   "cell_type": "code",
   "execution_count": 40,
   "id": "91a71a20-911a-45ce-9721-5cc9a43b6f83",
   "metadata": {},
   "outputs": [],
   "source": [
    "df.drop('RATE', axis=1, inplace=True)"
   ]
  },
  {
   "cell_type": "markdown",
   "id": "20c5fb21",
   "metadata": {},
   "source": [
    "## COULEUR"
   ]
  },
  {
   "cell_type": "markdown",
   "id": "06e7864a",
   "metadata": {},
   "source": [
    "In order to incorporate the categorical information of the 'COULEUR' (color) column into our machine learning model, we applied one-hot encoding. This technique transforms the categorical variable into a set of binary columns, each representing a distinct color category. The resulting one-hot encoded columns, such as 'COULEUR_red,' 'COULEUR_blue,' and 'COULEUR_green,' effectively capture the presence or absence of each color for every observation. By adopting one-hot encoding, we ensure that the categorical nature of colors is appropriately represented"
   ]
  },
  {
   "cell_type": "code",
   "execution_count": 41,
   "id": "95479a73",
   "metadata": {},
   "outputs": [
    {
     "data": {
      "text/plain": [
       "COULEUR\n",
       "noir                 124\n",
       "gris                  54\n",
       "argent                25\n",
       "noiretargent          13\n",
       "argentnoir            10\n",
       "argentetnoir           6\n",
       "grisnoir               3\n",
       "rose                   3\n",
       "bleu                   3\n",
       "argentcendréfoncé      3\n",
       "abyssblue              2\n",
       "noirargenté            2\n",
       "grismétallisé          1\n",
       "noirargentfoncé        1\n",
       "grey                   1\n",
       "grisfer                1\n",
       "grissidéral            1\n",
       "noirgris               1\n",
       "peacockblue            1\n",
       "duproduitargent        1\n",
       "Name: count, dtype: int64"
      ]
     },
     "execution_count": 41,
     "metadata": {},
     "output_type": "execute_result"
    }
   ],
   "source": [
    "df['COULEUR'].value_counts()"
   ]
  },
  {
   "cell_type": "code",
   "execution_count": 42,
   "id": "a8bedd76",
   "metadata": {},
   "outputs": [],
   "source": [
    "color_mapping = {\n",
    "    'noir': 'noir',\n",
    "    'gris': 'gris',\n",
    "    'argent': 'gris',\n",
    "    'noiretargent': 'noirgris', \n",
    "    'argentetnoir': 'noirgris',  \n",
    "    'argentnoir': 'noirgris',  \n",
    "    'argentcendréfoncé': 'gris',\n",
    "    'grisnoir': 'gris',\n",
    "    'grey': 'gris',\n",
    "    'grisfer': 'gris',\n",
    "    'grissidéral': 'gris',\n",
    "    'noire': 'noir',\n",
    "    'noirargent': 'noirgris',\n",
    "    'noirargenté': 'noir', \n",
    "    'noirargentfoncé': 'noirgris',\n",
    "    'grismétallisé': 'gris',\n",
    "    'duproduitargent':'gris',\n",
    "    'abyssblue':'bleu',\n",
    "    'peacockblue':'bleu',\n",
    "    'silver':'gris',\n",
    "    'noireargent' :'noirgris',\n",
    "    'grisnoir':'noirgris',\n",
    "}\n",
    "\n",
    "# Apply the mapping to the 'COULEUR' column\n",
    "df['COULEUR'] = df['COULEUR'].replace(color_mapping)"
   ]
  },
  {
   "cell_type": "code",
   "execution_count": 43,
   "id": "3aecbc08",
   "metadata": {},
   "outputs": [],
   "source": [
    "# df = pd.get_dummies(df, columns=['COULEUR'], prefix='COULEUR')\n",
    "df.drop('COULEUR', axis=1, inplace=True)"
   ]
  },
  {
   "cell_type": "markdown",
   "id": "80e56cfe",
   "metadata": {},
   "source": [
    "# RAM & TypeRam"
   ]
  },
  {
   "cell_type": "code",
   "execution_count": 44,
   "id": "9464a471",
   "metadata": {},
   "outputs": [
    {
     "data": {
      "text/plain": [
       "RAM\n",
       "8go     94\n",
       "16go    33\n",
       "4go     32\n",
       "16gb    28\n",
       "8gb     24\n",
       "4gb     23\n",
       "00go    11\n",
       "32go     8\n",
       "32gb     7\n",
       "12go     4\n",
       "64gb     4\n",
       "16       3\n",
       "8        3\n",
       "84       2\n",
       "12gb     2\n",
       "82       2\n",
       "32       1\n",
       "Name: count, dtype: int64"
      ]
     },
     "execution_count": 44,
     "metadata": {},
     "output_type": "execute_result"
    }
   ],
   "source": [
    "df['RAM'].value_counts()"
   ]
  },
  {
   "cell_type": "markdown",
   "id": "806746ec",
   "metadata": {},
   "source": [
    "Now, we will proceed with data cleaning by extracting only the numerical values from the 'RAM' column and removing any non-numeric characters"
   ]
  },
  {
   "cell_type": "code",
   "execution_count": 45,
   "id": "75e12c52",
   "metadata": {},
   "outputs": [
    {
     "data": {
      "text/plain": [
       "RAM\n",
       "8     121\n",
       "16     64\n",
       "4      55\n",
       "32     16\n",
       "00     11\n",
       "12      6\n",
       "64      4\n",
       "82      2\n",
       "84      2\n",
       "Name: count, dtype: int64"
      ]
     },
     "execution_count": 45,
     "metadata": {},
     "output_type": "execute_result"
    }
   ],
   "source": [
    "def extract_number(s):\n",
    "    return re.sub(r'\\D', '', str(s))\n",
    "\n",
    "df['RAM'] = df['RAM'].apply(extract_number)\n",
    "df['RAM'].value_counts()"
   ]
  },
  {
   "cell_type": "markdown",
   "id": "af06b374",
   "metadata": {},
   "source": [
    "Now, we proceed to remove outliers and replace missing values with the most redundant ones"
   ]
  },
  {
   "cell_type": "code",
   "execution_count": 46,
   "id": "9c7e6acb",
   "metadata": {},
   "outputs": [],
   "source": [
    "df['RAM'] = pd.to_numeric(df['RAM'])\n",
    "\n",
    "df = df[~df['RAM'].isin([82, 84])]\n",
    "\n",
    "for column in df.columns:\n",
    "    df['RAM'].fillna(df['RAM'].mode()[0], inplace=True)\n",
    "df['RAM'] = df['RAM'].replace(0, 8)"
   ]
  },
  {
   "cell_type": "code",
   "execution_count": 47,
   "id": "0dfcf2bf",
   "metadata": {},
   "outputs": [
    {
     "data": {
      "text/plain": [
       "typeRam\n",
       "ddr4    193\n",
       "ddr3     61\n",
       "Name: count, dtype: int64"
      ]
     },
     "execution_count": 47,
     "metadata": {},
     "output_type": "execute_result"
    }
   ],
   "source": [
    "df['typeRam'].value_counts()"
   ]
  },
  {
   "cell_type": "markdown",
   "id": "178780fc",
   "metadata": {},
   "source": [
    "\n",
    "Now, we will proceed with data cleaning by extracting only the numerical values from the 'typeRam' column and removing any non-numeric characters"
   ]
  },
  {
   "cell_type": "code",
   "execution_count": 48,
   "id": "969f8c2c",
   "metadata": {},
   "outputs": [],
   "source": [
    "df['typeRam'] = df['typeRam'].replace('ddr3',1)\n",
    "df['typeRam'] = df['typeRam'].replace('ddr4',2)"
   ]
  },
  {
   "cell_type": "code",
   "execution_count": 49,
   "id": "6ad6c717",
   "metadata": {},
   "outputs": [
    {
     "data": {
      "text/plain": [
       "typeRam\n",
       "2.0    193\n",
       "1.0     61\n",
       "Name: count, dtype: int64"
      ]
     },
     "execution_count": 49,
     "metadata": {},
     "output_type": "execute_result"
    }
   ],
   "source": [
    "df['typeRam'].value_counts()"
   ]
  },
  {
   "cell_type": "code",
   "execution_count": 50,
   "id": "37f711c4",
   "metadata": {},
   "outputs": [],
   "source": [
    "df.drop('typeRam', axis=1, inplace=True)"
   ]
  },
  {
   "cell_type": "markdown",
   "id": "bbce1663",
   "metadata": {},
   "source": [
    "# final result"
   ]
  },
  {
   "cell_type": "code",
   "execution_count": 51,
   "id": "6d6d8d87",
   "metadata": {},
   "outputs": [
    {
     "data": {
      "text/html": [
       "<div>\n",
       "<style scoped>\n",
       "    .dataframe tbody tr th:only-of-type {\n",
       "        vertical-align: middle;\n",
       "    }\n",
       "\n",
       "    .dataframe tbody tr th {\n",
       "        vertical-align: top;\n",
       "    }\n",
       "\n",
       "    .dataframe thead th {\n",
       "        text-align: right;\n",
       "    }\n",
       "</style>\n",
       "<table border=\"1\" class=\"dataframe\">\n",
       "  <thead>\n",
       "    <tr style=\"text-align: right;\">\n",
       "      <th></th>\n",
       "      <th>RAM</th>\n",
       "      <th>CPU_Modifier</th>\n",
       "      <th>CPU_Generation</th>\n",
       "      <th>STOCKAGEHDD</th>\n",
       "      <th>STOCKAGESSD</th>\n",
       "      <th>POIDS</th>\n",
       "      <th>ECRAN</th>\n",
       "      <th>PRIX</th>\n",
       "      <th>_Asus</th>\n",
       "      <th>_DELL</th>\n",
       "      <th>...</th>\n",
       "      <th>_intel</th>\n",
       "      <th>_Intel HD Graphiques</th>\n",
       "      <th>_amd radeon graphique integré</th>\n",
       "      <th>_carte graphiques intégré</th>\n",
       "      <th>_intel hd 520</th>\n",
       "      <th>_intel hd 620</th>\n",
       "      <th>_intel hd graphics 4400</th>\n",
       "      <th>_intel hd graphics 5500</th>\n",
       "      <th>_intel iris xe</th>\n",
       "      <th>_intel uhd 600</th>\n",
       "    </tr>\n",
       "  </thead>\n",
       "  <tbody>\n",
       "    <tr>\n",
       "      <th>581</th>\n",
       "      <td>16</td>\n",
       "      <td>5</td>\n",
       "      <td>8.0</td>\n",
       "      <td>0.0</td>\n",
       "      <td>256.0</td>\n",
       "      <td>15</td>\n",
       "      <td>14.0</td>\n",
       "      <td>3499.00</td>\n",
       "      <td>False</td>\n",
       "      <td>False</td>\n",
       "      <td>...</td>\n",
       "      <td>True</td>\n",
       "      <td>False</td>\n",
       "      <td>False</td>\n",
       "      <td>False</td>\n",
       "      <td>False</td>\n",
       "      <td>True</td>\n",
       "      <td>False</td>\n",
       "      <td>False</td>\n",
       "      <td>False</td>\n",
       "      <td>False</td>\n",
       "    </tr>\n",
       "    <tr>\n",
       "      <th>60</th>\n",
       "      <td>8</td>\n",
       "      <td>5</td>\n",
       "      <td>4.0</td>\n",
       "      <td>0.0</td>\n",
       "      <td>128.0</td>\n",
       "      <td>142</td>\n",
       "      <td>NaN</td>\n",
       "      <td>1999.00</td>\n",
       "      <td>False</td>\n",
       "      <td>False</td>\n",
       "      <td>...</td>\n",
       "      <td>True</td>\n",
       "      <td>False</td>\n",
       "      <td>False</td>\n",
       "      <td>False</td>\n",
       "      <td>False</td>\n",
       "      <td>False</td>\n",
       "      <td>False</td>\n",
       "      <td>True</td>\n",
       "      <td>False</td>\n",
       "      <td>False</td>\n",
       "    </tr>\n",
       "    <tr>\n",
       "      <th>483</th>\n",
       "      <td>4</td>\n",
       "      <td>NaN</td>\n",
       "      <td>4.0</td>\n",
       "      <td>0.0</td>\n",
       "      <td>0.0</td>\n",
       "      <td>13</td>\n",
       "      <td>10.0</td>\n",
       "      <td>2199.00</td>\n",
       "      <td>True</td>\n",
       "      <td>False</td>\n",
       "      <td>...</td>\n",
       "      <td>True</td>\n",
       "      <td>False</td>\n",
       "      <td>False</td>\n",
       "      <td>False</td>\n",
       "      <td>False</td>\n",
       "      <td>False</td>\n",
       "      <td>False</td>\n",
       "      <td>False</td>\n",
       "      <td>False</td>\n",
       "      <td>True</td>\n",
       "    </tr>\n",
       "    <tr>\n",
       "      <th>2</th>\n",
       "      <td>8</td>\n",
       "      <td>5</td>\n",
       "      <td>6.0</td>\n",
       "      <td>0.0</td>\n",
       "      <td>256.0</td>\n",
       "      <td>128</td>\n",
       "      <td>NaN</td>\n",
       "      <td>2490.00</td>\n",
       "      <td>False</td>\n",
       "      <td>False</td>\n",
       "      <td>...</td>\n",
       "      <td>True</td>\n",
       "      <td>False</td>\n",
       "      <td>False</td>\n",
       "      <td>False</td>\n",
       "      <td>True</td>\n",
       "      <td>False</td>\n",
       "      <td>False</td>\n",
       "      <td>False</td>\n",
       "      <td>False</td>\n",
       "      <td>False</td>\n",
       "    </tr>\n",
       "    <tr>\n",
       "      <th>279</th>\n",
       "      <td>4</td>\n",
       "      <td>3</td>\n",
       "      <td>10.0</td>\n",
       "      <td>0.0</td>\n",
       "      <td>0.0</td>\n",
       "      <td>4</td>\n",
       "      <td>16.0</td>\n",
       "      <td>4700.00</td>\n",
       "      <td>False</td>\n",
       "      <td>False</td>\n",
       "      <td>...</td>\n",
       "      <td>True</td>\n",
       "      <td>True</td>\n",
       "      <td>False</td>\n",
       "      <td>False</td>\n",
       "      <td>False</td>\n",
       "      <td>False</td>\n",
       "      <td>False</td>\n",
       "      <td>False</td>\n",
       "      <td>False</td>\n",
       "      <td>False</td>\n",
       "    </tr>\n",
       "    <tr>\n",
       "      <th>202</th>\n",
       "      <td>16</td>\n",
       "      <td>5</td>\n",
       "      <td>6.0</td>\n",
       "      <td>0.0</td>\n",
       "      <td>256.0</td>\n",
       "      <td>15</td>\n",
       "      <td>14.0</td>\n",
       "      <td>2490.00</td>\n",
       "      <td>False</td>\n",
       "      <td>False</td>\n",
       "      <td>...</td>\n",
       "      <td>True</td>\n",
       "      <td>False</td>\n",
       "      <td>False</td>\n",
       "      <td>False</td>\n",
       "      <td>True</td>\n",
       "      <td>False</td>\n",
       "      <td>False</td>\n",
       "      <td>False</td>\n",
       "      <td>False</td>\n",
       "      <td>False</td>\n",
       "    </tr>\n",
       "    <tr>\n",
       "      <th>321</th>\n",
       "      <td>4</td>\n",
       "      <td>3</td>\n",
       "      <td>11.0</td>\n",
       "      <td>1000.0</td>\n",
       "      <td>0.0</td>\n",
       "      <td>178</td>\n",
       "      <td>NaN</td>\n",
       "      <td>6500.00</td>\n",
       "      <td>False</td>\n",
       "      <td>True</td>\n",
       "      <td>...</td>\n",
       "      <td>True</td>\n",
       "      <td>True</td>\n",
       "      <td>False</td>\n",
       "      <td>False</td>\n",
       "      <td>False</td>\n",
       "      <td>False</td>\n",
       "      <td>False</td>\n",
       "      <td>False</td>\n",
       "      <td>False</td>\n",
       "      <td>False</td>\n",
       "    </tr>\n",
       "    <tr>\n",
       "      <th>143</th>\n",
       "      <td>8</td>\n",
       "      <td>5</td>\n",
       "      <td>6.0</td>\n",
       "      <td>0.0</td>\n",
       "      <td>840.0</td>\n",
       "      <td>1</td>\n",
       "      <td>14.0</td>\n",
       "      <td>2999.99</td>\n",
       "      <td>False</td>\n",
       "      <td>False</td>\n",
       "      <td>...</td>\n",
       "      <td>True</td>\n",
       "      <td>False</td>\n",
       "      <td>False</td>\n",
       "      <td>False</td>\n",
       "      <td>True</td>\n",
       "      <td>False</td>\n",
       "      <td>False</td>\n",
       "      <td>False</td>\n",
       "      <td>False</td>\n",
       "      <td>False</td>\n",
       "    </tr>\n",
       "    <tr>\n",
       "      <th>203</th>\n",
       "      <td>4</td>\n",
       "      <td>NaN</td>\n",
       "      <td>4.0</td>\n",
       "      <td>0.0</td>\n",
       "      <td>0.0</td>\n",
       "      <td>2</td>\n",
       "      <td>NaN</td>\n",
       "      <td>2090.00</td>\n",
       "      <td>True</td>\n",
       "      <td>False</td>\n",
       "      <td>...</td>\n",
       "      <td>True</td>\n",
       "      <td>False</td>\n",
       "      <td>False</td>\n",
       "      <td>False</td>\n",
       "      <td>False</td>\n",
       "      <td>False</td>\n",
       "      <td>False</td>\n",
       "      <td>False</td>\n",
       "      <td>False</td>\n",
       "      <td>True</td>\n",
       "    </tr>\n",
       "    <tr>\n",
       "      <th>354</th>\n",
       "      <td>8</td>\n",
       "      <td>5</td>\n",
       "      <td>4.0</td>\n",
       "      <td>0.0</td>\n",
       "      <td>256.0</td>\n",
       "      <td>2</td>\n",
       "      <td>14.0</td>\n",
       "      <td>2550.00</td>\n",
       "      <td>False</td>\n",
       "      <td>False</td>\n",
       "      <td>...</td>\n",
       "      <td>True</td>\n",
       "      <td>False</td>\n",
       "      <td>False</td>\n",
       "      <td>False</td>\n",
       "      <td>False</td>\n",
       "      <td>False</td>\n",
       "      <td>False</td>\n",
       "      <td>False</td>\n",
       "      <td>False</td>\n",
       "      <td>True</td>\n",
       "    </tr>\n",
       "    <tr>\n",
       "      <th>566</th>\n",
       "      <td>8</td>\n",
       "      <td>5</td>\n",
       "      <td>5.0</td>\n",
       "      <td>0.0</td>\n",
       "      <td>0.0</td>\n",
       "      <td>22</td>\n",
       "      <td>NaN</td>\n",
       "      <td>1999.00</td>\n",
       "      <td>False</td>\n",
       "      <td>False</td>\n",
       "      <td>...</td>\n",
       "      <td>True</td>\n",
       "      <td>False</td>\n",
       "      <td>False</td>\n",
       "      <td>False</td>\n",
       "      <td>True</td>\n",
       "      <td>False</td>\n",
       "      <td>False</td>\n",
       "      <td>False</td>\n",
       "      <td>False</td>\n",
       "      <td>False</td>\n",
       "    </tr>\n",
       "    <tr>\n",
       "      <th>28</th>\n",
       "      <td>8</td>\n",
       "      <td>5</td>\n",
       "      <td>5.0</td>\n",
       "      <td>500.0</td>\n",
       "      <td>0.0</td>\n",
       "      <td>16</td>\n",
       "      <td>NaN</td>\n",
       "      <td>1999.00</td>\n",
       "      <td>False</td>\n",
       "      <td>False</td>\n",
       "      <td>...</td>\n",
       "      <td>True</td>\n",
       "      <td>False</td>\n",
       "      <td>False</td>\n",
       "      <td>True</td>\n",
       "      <td>False</td>\n",
       "      <td>False</td>\n",
       "      <td>False</td>\n",
       "      <td>False</td>\n",
       "      <td>False</td>\n",
       "      <td>False</td>\n",
       "    </tr>\n",
       "    <tr>\n",
       "      <th>146</th>\n",
       "      <td>8</td>\n",
       "      <td>7</td>\n",
       "      <td>6.0</td>\n",
       "      <td>0.0</td>\n",
       "      <td>256.0</td>\n",
       "      <td>16</td>\n",
       "      <td>NaN</td>\n",
       "      <td>2735.00</td>\n",
       "      <td>False</td>\n",
       "      <td>False</td>\n",
       "      <td>...</td>\n",
       "      <td>True</td>\n",
       "      <td>False</td>\n",
       "      <td>False</td>\n",
       "      <td>False</td>\n",
       "      <td>True</td>\n",
       "      <td>False</td>\n",
       "      <td>False</td>\n",
       "      <td>False</td>\n",
       "      <td>False</td>\n",
       "      <td>False</td>\n",
       "    </tr>\n",
       "    <tr>\n",
       "      <th>491</th>\n",
       "      <td>8</td>\n",
       "      <td>5</td>\n",
       "      <td>5.0</td>\n",
       "      <td>0.0</td>\n",
       "      <td>256.0</td>\n",
       "      <td>119</td>\n",
       "      <td>NaN</td>\n",
       "      <td>2790.00</td>\n",
       "      <td>False</td>\n",
       "      <td>True</td>\n",
       "      <td>...</td>\n",
       "      <td>True</td>\n",
       "      <td>False</td>\n",
       "      <td>False</td>\n",
       "      <td>True</td>\n",
       "      <td>False</td>\n",
       "      <td>False</td>\n",
       "      <td>False</td>\n",
       "      <td>False</td>\n",
       "      <td>False</td>\n",
       "      <td>False</td>\n",
       "    </tr>\n",
       "    <tr>\n",
       "      <th>160</th>\n",
       "      <td>8</td>\n",
       "      <td>5</td>\n",
       "      <td>4.0</td>\n",
       "      <td>0.0</td>\n",
       "      <td>0.0</td>\n",
       "      <td>15</td>\n",
       "      <td>16.0</td>\n",
       "      <td>2799.00</td>\n",
       "      <td>False</td>\n",
       "      <td>False</td>\n",
       "      <td>...</td>\n",
       "      <td>True</td>\n",
       "      <td>True</td>\n",
       "      <td>False</td>\n",
       "      <td>False</td>\n",
       "      <td>False</td>\n",
       "      <td>False</td>\n",
       "      <td>False</td>\n",
       "      <td>False</td>\n",
       "      <td>False</td>\n",
       "      <td>False</td>\n",
       "    </tr>\n",
       "    <tr>\n",
       "      <th>462</th>\n",
       "      <td>8</td>\n",
       "      <td>5</td>\n",
       "      <td>4.0</td>\n",
       "      <td>500.0</td>\n",
       "      <td>0.0</td>\n",
       "      <td>16</td>\n",
       "      <td>14.0</td>\n",
       "      <td>1899.00</td>\n",
       "      <td>False</td>\n",
       "      <td>False</td>\n",
       "      <td>...</td>\n",
       "      <td>True</td>\n",
       "      <td>False</td>\n",
       "      <td>False</td>\n",
       "      <td>False</td>\n",
       "      <td>False</td>\n",
       "      <td>False</td>\n",
       "      <td>False</td>\n",
       "      <td>False</td>\n",
       "      <td>False</td>\n",
       "      <td>True</td>\n",
       "    </tr>\n",
       "    <tr>\n",
       "      <th>93</th>\n",
       "      <td>16</td>\n",
       "      <td>5</td>\n",
       "      <td>8.0</td>\n",
       "      <td>0.0</td>\n",
       "      <td>512.0</td>\n",
       "      <td>128</td>\n",
       "      <td>13.0</td>\n",
       "      <td>4700.00</td>\n",
       "      <td>False</td>\n",
       "      <td>False</td>\n",
       "      <td>...</td>\n",
       "      <td>True</td>\n",
       "      <td>False</td>\n",
       "      <td>False</td>\n",
       "      <td>False</td>\n",
       "      <td>False</td>\n",
       "      <td>True</td>\n",
       "      <td>False</td>\n",
       "      <td>False</td>\n",
       "      <td>False</td>\n",
       "      <td>False</td>\n",
       "    </tr>\n",
       "    <tr>\n",
       "      <th>528</th>\n",
       "      <td>8</td>\n",
       "      <td>5</td>\n",
       "      <td>10.0</td>\n",
       "      <td>0.0</td>\n",
       "      <td>256.0</td>\n",
       "      <td>182</td>\n",
       "      <td>NaN</td>\n",
       "      <td>7170.00</td>\n",
       "      <td>False</td>\n",
       "      <td>True</td>\n",
       "      <td>...</td>\n",
       "      <td>True</td>\n",
       "      <td>False</td>\n",
       "      <td>False</td>\n",
       "      <td>False</td>\n",
       "      <td>False</td>\n",
       "      <td>True</td>\n",
       "      <td>False</td>\n",
       "      <td>False</td>\n",
       "      <td>False</td>\n",
       "      <td>False</td>\n",
       "    </tr>\n",
       "    <tr>\n",
       "      <th>271</th>\n",
       "      <td>4</td>\n",
       "      <td>5</td>\n",
       "      <td>4.0</td>\n",
       "      <td>0.0</td>\n",
       "      <td>128.0</td>\n",
       "      <td>142</td>\n",
       "      <td>NaN</td>\n",
       "      <td>1999.00</td>\n",
       "      <td>False</td>\n",
       "      <td>False</td>\n",
       "      <td>...</td>\n",
       "      <td>True</td>\n",
       "      <td>False</td>\n",
       "      <td>False</td>\n",
       "      <td>False</td>\n",
       "      <td>False</td>\n",
       "      <td>False</td>\n",
       "      <td>False</td>\n",
       "      <td>True</td>\n",
       "      <td>False</td>\n",
       "      <td>False</td>\n",
       "    </tr>\n",
       "    <tr>\n",
       "      <th>211</th>\n",
       "      <td>8</td>\n",
       "      <td>5</td>\n",
       "      <td>6.0</td>\n",
       "      <td>0.0</td>\n",
       "      <td>0.0</td>\n",
       "      <td>125</td>\n",
       "      <td>15.0</td>\n",
       "      <td>2700.00</td>\n",
       "      <td>False</td>\n",
       "      <td>True</td>\n",
       "      <td>...</td>\n",
       "      <td>True</td>\n",
       "      <td>True</td>\n",
       "      <td>False</td>\n",
       "      <td>False</td>\n",
       "      <td>False</td>\n",
       "      <td>False</td>\n",
       "      <td>False</td>\n",
       "      <td>False</td>\n",
       "      <td>False</td>\n",
       "      <td>False</td>\n",
       "    </tr>\n",
       "  </tbody>\n",
       "</table>\n",
       "<p>20 rows × 27 columns</p>\n",
       "</div>"
      ],
      "text/plain": [
       "     RAM CPU_Modifier  CPU_Generation  STOCKAGEHDD  STOCKAGESSD POIDS  ECRAN  \\\n",
       "581   16            5             8.0          0.0        256.0    15   14.0   \n",
       "60     8            5             4.0          0.0        128.0   142    NaN   \n",
       "483    4          NaN             4.0          0.0          0.0    13   10.0   \n",
       "2      8            5             6.0          0.0        256.0   128    NaN   \n",
       "279    4            3            10.0          0.0          0.0     4   16.0   \n",
       "202   16            5             6.0          0.0        256.0    15   14.0   \n",
       "321    4            3            11.0       1000.0          0.0   178    NaN   \n",
       "143    8            5             6.0          0.0        840.0     1   14.0   \n",
       "203    4          NaN             4.0          0.0          0.0     2    NaN   \n",
       "354    8            5             4.0          0.0        256.0     2   14.0   \n",
       "566    8            5             5.0          0.0          0.0    22    NaN   \n",
       "28     8            5             5.0        500.0          0.0    16    NaN   \n",
       "146    8            7             6.0          0.0        256.0    16    NaN   \n",
       "491    8            5             5.0          0.0        256.0   119    NaN   \n",
       "160    8            5             4.0          0.0          0.0    15   16.0   \n",
       "462    8            5             4.0        500.0          0.0    16   14.0   \n",
       "93    16            5             8.0          0.0        512.0   128   13.0   \n",
       "528    8            5            10.0          0.0        256.0   182    NaN   \n",
       "271    4            5             4.0          0.0        128.0   142    NaN   \n",
       "211    8            5             6.0          0.0          0.0   125   15.0   \n",
       "\n",
       "        PRIX  _Asus  _DELL  ...  _intel  _Intel HD Graphiques  \\\n",
       "581  3499.00  False  False  ...    True                 False   \n",
       "60   1999.00  False  False  ...    True                 False   \n",
       "483  2199.00   True  False  ...    True                 False   \n",
       "2    2490.00  False  False  ...    True                 False   \n",
       "279  4700.00  False  False  ...    True                  True   \n",
       "202  2490.00  False  False  ...    True                 False   \n",
       "321  6500.00  False   True  ...    True                  True   \n",
       "143  2999.99  False  False  ...    True                 False   \n",
       "203  2090.00   True  False  ...    True                 False   \n",
       "354  2550.00  False  False  ...    True                 False   \n",
       "566  1999.00  False  False  ...    True                 False   \n",
       "28   1999.00  False  False  ...    True                 False   \n",
       "146  2735.00  False  False  ...    True                 False   \n",
       "491  2790.00  False   True  ...    True                 False   \n",
       "160  2799.00  False  False  ...    True                  True   \n",
       "462  1899.00  False  False  ...    True                 False   \n",
       "93   4700.00  False  False  ...    True                 False   \n",
       "528  7170.00  False   True  ...    True                 False   \n",
       "271  1999.00  False  False  ...    True                 False   \n",
       "211  2700.00  False   True  ...    True                  True   \n",
       "\n",
       "     _amd radeon graphique integré  _carte graphiques intégré  _intel hd 520  \\\n",
       "581                          False                      False          False   \n",
       "60                           False                      False          False   \n",
       "483                          False                      False          False   \n",
       "2                            False                      False           True   \n",
       "279                          False                      False          False   \n",
       "202                          False                      False           True   \n",
       "321                          False                      False          False   \n",
       "143                          False                      False           True   \n",
       "203                          False                      False          False   \n",
       "354                          False                      False          False   \n",
       "566                          False                      False           True   \n",
       "28                           False                       True          False   \n",
       "146                          False                      False           True   \n",
       "491                          False                       True          False   \n",
       "160                          False                      False          False   \n",
       "462                          False                      False          False   \n",
       "93                           False                      False          False   \n",
       "528                          False                      False          False   \n",
       "271                          False                      False          False   \n",
       "211                          False                      False          False   \n",
       "\n",
       "     _intel hd 620  _intel hd graphics 4400  _intel hd graphics 5500  \\\n",
       "581           True                    False                    False   \n",
       "60           False                    False                     True   \n",
       "483          False                    False                    False   \n",
       "2            False                    False                    False   \n",
       "279          False                    False                    False   \n",
       "202          False                    False                    False   \n",
       "321          False                    False                    False   \n",
       "143          False                    False                    False   \n",
       "203          False                    False                    False   \n",
       "354          False                    False                    False   \n",
       "566          False                    False                    False   \n",
       "28           False                    False                    False   \n",
       "146          False                    False                    False   \n",
       "491          False                    False                    False   \n",
       "160          False                    False                    False   \n",
       "462          False                    False                    False   \n",
       "93            True                    False                    False   \n",
       "528           True                    False                    False   \n",
       "271          False                    False                     True   \n",
       "211          False                    False                    False   \n",
       "\n",
       "     _intel iris xe  _intel uhd 600  \n",
       "581           False           False  \n",
       "60            False           False  \n",
       "483           False            True  \n",
       "2             False           False  \n",
       "279           False           False  \n",
       "202           False           False  \n",
       "321           False           False  \n",
       "143           False           False  \n",
       "203           False            True  \n",
       "354           False            True  \n",
       "566           False           False  \n",
       "28            False           False  \n",
       "146           False           False  \n",
       "491           False           False  \n",
       "160           False           False  \n",
       "462           False            True  \n",
       "93            False           False  \n",
       "528           False           False  \n",
       "271           False           False  \n",
       "211           False           False  \n",
       "\n",
       "[20 rows x 27 columns]"
      ]
     },
     "execution_count": 51,
     "metadata": {},
     "output_type": "execute_result"
    }
   ],
   "source": [
    "df.sample(20)"
   ]
  },
  {
   "cell_type": "code",
   "execution_count": 52,
   "id": "3601a4ad",
   "metadata": {},
   "outputs": [],
   "source": [
    "def convert_boolean_to_binary(df):\n",
    "    for column in df.columns:\n",
    "        if df[column].dtype == bool:\n",
    "            df[column] = df[column].astype(int)\n",
    "    return df\n",
    "df = convert_boolean_to_binary(df)\n"
   ]
  },
  {
   "cell_type": "code",
   "execution_count": 53,
   "id": "98041d43",
   "metadata": {},
   "outputs": [],
   "source": [
    "# Assuming df is your final DataFrame\n",
    "df.to_csv('Cleaned_data.csv', index=False)\n"
   ]
  },
  {
   "cell_type": "code",
   "execution_count": 54,
   "id": "142878a8",
   "metadata": {
    "tags": []
   },
   "outputs": [
    {
     "data": {
      "text/plain": [
       "277"
      ]
     },
     "execution_count": 54,
     "metadata": {},
     "output_type": "execute_result"
    }
   ],
   "source": [
    "len(df)"
   ]
  }
 ],
 "metadata": {
  "kernelspec": {
   "display_name": "Python 3 (ipykernel)",
   "language": "python",
   "name": "python3"
  },
  "language_info": {
   "codemirror_mode": {
    "name": "ipython",
    "version": 3
   },
   "file_extension": ".py",
   "mimetype": "text/x-python",
   "name": "python",
   "nbconvert_exporter": "python",
   "pygments_lexer": "ipython3",
   "version": "3.11.5"
  }
 },
 "nbformat": 4,
 "nbformat_minor": 5
}
