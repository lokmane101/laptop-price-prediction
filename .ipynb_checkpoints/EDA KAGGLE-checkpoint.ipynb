{
 "cells": [
  {
   "cell_type": "code",
   "execution_count": 1,
   "id": "f8c2e66a",
   "metadata": {},
   "outputs": [],
   "source": [
    "import pandas as pd\n",
    "import numpy as np\n",
    "import re\n",
    "data1=pd.read_csv('DATA/laptop_data.csv')"
   ]
  },
  {
   "cell_type": "markdown",
   "id": "cf5e8b92",
   "metadata": {},
   "source": [
    "# Data1"
   ]
  },
  {
   "cell_type": "code",
   "execution_count": 2,
   "id": "9d2e801c",
   "metadata": {},
   "outputs": [
    {
     "data": {
      "text/plain": [
       "1303"
      ]
     },
     "execution_count": 2,
     "metadata": {},
     "output_type": "execute_result"
    }
   ],
   "source": [
    "len(data1)"
   ]
  },
  {
   "cell_type": "code",
   "execution_count": 3,
   "id": "0f3375a9",
   "metadata": {},
   "outputs": [
    {
     "data": {
      "text/html": [
       "<div>\n",
       "<style scoped>\n",
       "    .dataframe tbody tr th:only-of-type {\n",
       "        vertical-align: middle;\n",
       "    }\n",
       "\n",
       "    .dataframe tbody tr th {\n",
       "        vertical-align: top;\n",
       "    }\n",
       "\n",
       "    .dataframe thead th {\n",
       "        text-align: right;\n",
       "    }\n",
       "</style>\n",
       "<table border=\"1\" class=\"dataframe\">\n",
       "  <thead>\n",
       "    <tr style=\"text-align: right;\">\n",
       "      <th></th>\n",
       "      <th>Unnamed: 0</th>\n",
       "      <th>Company</th>\n",
       "      <th>TypeName</th>\n",
       "      <th>Inches</th>\n",
       "      <th>ScreenResolution</th>\n",
       "      <th>Cpu</th>\n",
       "      <th>Ram</th>\n",
       "      <th>Memory</th>\n",
       "      <th>Gpu</th>\n",
       "      <th>OpSys</th>\n",
       "      <th>Weight</th>\n",
       "      <th>Price</th>\n",
       "    </tr>\n",
       "  </thead>\n",
       "  <tbody>\n",
       "    <tr>\n",
       "      <th>0</th>\n",
       "      <td>0</td>\n",
       "      <td>Apple</td>\n",
       "      <td>Ultrabook</td>\n",
       "      <td>13.3</td>\n",
       "      <td>IPS Panel Retina Display 2560x1600</td>\n",
       "      <td>Intel Core i5 2.3GHz</td>\n",
       "      <td>8GB</td>\n",
       "      <td>128GB SSD</td>\n",
       "      <td>Intel Iris Plus Graphics 640</td>\n",
       "      <td>macOS</td>\n",
       "      <td>1.37kg</td>\n",
       "      <td>71378.6832</td>\n",
       "    </tr>\n",
       "    <tr>\n",
       "      <th>1</th>\n",
       "      <td>1</td>\n",
       "      <td>Apple</td>\n",
       "      <td>Ultrabook</td>\n",
       "      <td>13.3</td>\n",
       "      <td>1440x900</td>\n",
       "      <td>Intel Core i5 1.8GHz</td>\n",
       "      <td>8GB</td>\n",
       "      <td>128GB Flash Storage</td>\n",
       "      <td>Intel HD Graphics 6000</td>\n",
       "      <td>macOS</td>\n",
       "      <td>1.34kg</td>\n",
       "      <td>47895.5232</td>\n",
       "    </tr>\n",
       "    <tr>\n",
       "      <th>2</th>\n",
       "      <td>2</td>\n",
       "      <td>HP</td>\n",
       "      <td>Notebook</td>\n",
       "      <td>15.6</td>\n",
       "      <td>Full HD 1920x1080</td>\n",
       "      <td>Intel Core i5 7200U 2.5GHz</td>\n",
       "      <td>8GB</td>\n",
       "      <td>256GB SSD</td>\n",
       "      <td>Intel HD Graphics 620</td>\n",
       "      <td>No OS</td>\n",
       "      <td>1.86kg</td>\n",
       "      <td>30636.0000</td>\n",
       "    </tr>\n",
       "    <tr>\n",
       "      <th>3</th>\n",
       "      <td>3</td>\n",
       "      <td>Apple</td>\n",
       "      <td>Ultrabook</td>\n",
       "      <td>15.4</td>\n",
       "      <td>IPS Panel Retina Display 2880x1800</td>\n",
       "      <td>Intel Core i7 2.7GHz</td>\n",
       "      <td>16GB</td>\n",
       "      <td>512GB SSD</td>\n",
       "      <td>AMD Radeon Pro 455</td>\n",
       "      <td>macOS</td>\n",
       "      <td>1.83kg</td>\n",
       "      <td>135195.3360</td>\n",
       "    </tr>\n",
       "    <tr>\n",
       "      <th>4</th>\n",
       "      <td>4</td>\n",
       "      <td>Apple</td>\n",
       "      <td>Ultrabook</td>\n",
       "      <td>13.3</td>\n",
       "      <td>IPS Panel Retina Display 2560x1600</td>\n",
       "      <td>Intel Core i5 3.1GHz</td>\n",
       "      <td>8GB</td>\n",
       "      <td>256GB SSD</td>\n",
       "      <td>Intel Iris Plus Graphics 650</td>\n",
       "      <td>macOS</td>\n",
       "      <td>1.37kg</td>\n",
       "      <td>96095.8080</td>\n",
       "    </tr>\n",
       "  </tbody>\n",
       "</table>\n",
       "</div>"
      ],
      "text/plain": [
       "   Unnamed: 0 Company   TypeName  Inches                    ScreenResolution  \\\n",
       "0           0   Apple  Ultrabook    13.3  IPS Panel Retina Display 2560x1600   \n",
       "1           1   Apple  Ultrabook    13.3                            1440x900   \n",
       "2           2      HP   Notebook    15.6                   Full HD 1920x1080   \n",
       "3           3   Apple  Ultrabook    15.4  IPS Panel Retina Display 2880x1800   \n",
       "4           4   Apple  Ultrabook    13.3  IPS Panel Retina Display 2560x1600   \n",
       "\n",
       "                          Cpu   Ram               Memory  \\\n",
       "0        Intel Core i5 2.3GHz   8GB            128GB SSD   \n",
       "1        Intel Core i5 1.8GHz   8GB  128GB Flash Storage   \n",
       "2  Intel Core i5 7200U 2.5GHz   8GB            256GB SSD   \n",
       "3        Intel Core i7 2.7GHz  16GB            512GB SSD   \n",
       "4        Intel Core i5 3.1GHz   8GB            256GB SSD   \n",
       "\n",
       "                            Gpu  OpSys  Weight        Price  \n",
       "0  Intel Iris Plus Graphics 640  macOS  1.37kg   71378.6832  \n",
       "1        Intel HD Graphics 6000  macOS  1.34kg   47895.5232  \n",
       "2         Intel HD Graphics 620  No OS  1.86kg   30636.0000  \n",
       "3            AMD Radeon Pro 455  macOS  1.83kg  135195.3360  \n",
       "4  Intel Iris Plus Graphics 650  macOS  1.37kg   96095.8080  "
      ]
     },
     "execution_count": 3,
     "metadata": {},
     "output_type": "execute_result"
    }
   ],
   "source": [
    "data1.head()"
   ]
  },
  {
   "cell_type": "code",
   "execution_count": 4,
   "id": "a32c7a23",
   "metadata": {},
   "outputs": [],
   "source": [
    "data1.drop('TypeName', axis=1, inplace=True)"
   ]
  },
  {
   "cell_type": "code",
   "execution_count": 5,
   "id": "2deb6a23",
   "metadata": {},
   "outputs": [],
   "source": [
    "data1.drop('ScreenResolution', axis=1, inplace=True)"
   ]
  },
  {
   "cell_type": "code",
   "execution_count": 6,
   "id": "3d4c60ed",
   "metadata": {},
   "outputs": [],
   "source": [
    "data1.drop('OpSys', axis=1, inplace=True)"
   ]
  },
  {
   "cell_type": "code",
   "execution_count": 7,
   "id": "6c717a2e",
   "metadata": {},
   "outputs": [],
   "source": [
    "data1.drop('Unnamed: 0', axis=1, inplace=True)"
   ]
  },
  {
   "cell_type": "code",
   "execution_count": null,
   "id": "0d77c180",
   "metadata": {},
   "outputs": [],
   "source": []
  },
  {
   "cell_type": "code",
   "execution_count": 19,
   "id": "ea98d9a5",
   "metadata": {},
   "outputs": [],
   "source": [
    "def cleanRAM(value):\n",
    "    return re.sub(r'\\D*','',value)\n",
    "def cleanWeight(value):\n",
    "    return re.sub(r'\\D*','',value)\n",
    "\n",
    "data1['Ram']=data1['Ram'].apply(cleanWeight)\n",
    "data1['Weight']=data1['Weight'].apply(cleanWeight)"
   ]
  },
  {
   "cell_type": "code",
   "execution_count": 9,
   "id": "635711d5",
   "metadata": {},
   "outputs": [
    {
     "data": {
      "text/plain": [
       "Memory\n",
       "256GB SSD                        412\n",
       "1TB HDD                          223\n",
       "500GB HDD                        132\n",
       "512GB SSD                        118\n",
       "128GB SSD +  1TB HDD              94\n",
       "128GB SSD                         76\n",
       "256GB SSD +  1TB HDD              73\n",
       "32GB Flash Storage                38\n",
       "2TB HDD                           16\n",
       "64GB Flash Storage                15\n",
       "512GB SSD +  1TB HDD              14\n",
       "1TB SSD                           14\n",
       "256GB SSD +  2TB HDD              10\n",
       "1.0TB Hybrid                       9\n",
       "256GB Flash Storage                8\n",
       "16GB Flash Storage                 7\n",
       "32GB SSD                           6\n",
       "180GB SSD                          5\n",
       "128GB Flash Storage                4\n",
       "512GB SSD +  2TB HDD               3\n",
       "16GB SSD                           3\n",
       "512GB Flash Storage                2\n",
       "1TB SSD +  1TB HDD                 2\n",
       "256GB SSD +  500GB HDD             2\n",
       "128GB SSD +  2TB HDD               2\n",
       "256GB SSD +  256GB SSD             2\n",
       "512GB SSD +  256GB SSD             1\n",
       "512GB SSD +  512GB SSD             1\n",
       "64GB Flash Storage +  1TB HDD      1\n",
       "1TB HDD +  1TB HDD                 1\n",
       "32GB HDD                           1\n",
       "64GB SSD                           1\n",
       "128GB HDD                          1\n",
       "240GB SSD                          1\n",
       "8GB SSD                            1\n",
       "508GB Hybrid                       1\n",
       "1.0TB HDD                          1\n",
       "512GB SSD +  1.0TB Hybrid          1\n",
       "256GB SSD +  1.0TB Hybrid          1\n",
       "Name: count, dtype: int64"
      ]
     },
     "execution_count": 9,
     "metadata": {},
     "output_type": "execute_result"
    }
   ],
   "source": [
    "data1['Memory'].value_counts()"
   ]
  },
  {
   "cell_type": "code",
   "execution_count": 10,
   "id": "0db6bf93",
   "metadata": {},
   "outputs": [],
   "source": [
    "data1['STOCKAGESSD'] = None\n",
    "data1['STOCKAGEHDD'] = None\n",
    "data1['STOCKAGEFlash'] = None\n",
    "\n",
    "# Define a function to extract memory values\n",
    "def extract_memory(row):\n",
    "    if 'Hybrid' in row['Memory']:\n",
    "        return row\n",
    "    if 'SSD' in row['Memory']:\n",
    "        row['STOCKAGESSD'] = re.search(r'(\\d+)(GB|TB) SSD', row['Memory']).group()\n",
    "    if 'HDD' in row['Memory']:\n",
    "        row['STOCKAGEHDD'] = re.search(r'(\\d+)(GB|TB) HDD', row['Memory']).group()\n",
    "    if 'Flash Storage' in row['Memory']:\n",
    "        row['STOCKAGEFlash'] = re.search(r'(\\d+)(GB|TB) Flash Storage', row['Memory']).group()\n",
    "    return row\n",
    "data1 = data1.apply(extract_memory, axis=1)\n",
    "\n",
    "# Drop rows with 'Hybrid' in 'Memory'\n",
    "data1 = data1[~data1['Memory'].str.contains('Hybrid')]"
   ]
  },
  {
   "cell_type": "code",
   "execution_count": 11,
   "id": "47a07a01",
   "metadata": {},
   "outputs": [
    {
     "data": {
      "text/plain": [
       "1291"
      ]
     },
     "execution_count": 11,
     "metadata": {},
     "output_type": "execute_result"
    }
   ],
   "source": [
    "data1[['STOCKAGEHDD', 'STOCKAGESSD', 'STOCKAGEFlash']] = data1[['STOCKAGEHDD', 'STOCKAGESSD', 'STOCKAGEFlash']].fillna(0)\n",
    "len(data1)"
   ]
  },
  {
   "cell_type": "markdown",
   "id": "df583f69",
   "metadata": {},
   "source": [
    "Now that we have completed the Memory column, we will proceed to STOCKAGE HDD, STOCKAGE SSD, STOCKAGE Flash, and prepare them"
   ]
  },
  {
   "cell_type": "code",
   "execution_count": 12,
   "id": "db835db9",
   "metadata": {},
   "outputs": [],
   "source": [
    "data1.drop('Memory', axis=1, inplace=True)"
   ]
  },
  {
   "cell_type": "code",
   "execution_count": 13,
   "id": "3ad2e6eb",
   "metadata": {},
   "outputs": [],
   "source": [
    "def clean_memory(row):\n",
    "    if re.search(r'TB',str(row['STOCKAGESSD'])):\n",
    "        row['STOCKAGESSD']=re.sub(r' SSD','',str(row['STOCKAGESSD']))\n",
    "        row['STOCKAGESSD']=float(re.sub(r'TB','',str(row['STOCKAGESSD'])))*1000\n",
    "    if re.search(r'TB',str(row['STOCKAGEHDD'])):\n",
    "        row['STOCKAGEHDD']=re.sub(r' HDD','',str(row['STOCKAGEHDD']))\n",
    "        row['STOCKAGEHDD']=float(re.sub(r'TB','',str(row['STOCKAGEHDD'])))*1000\n",
    "    if re.search(r'TB',str(row['STOCKAGEFlash'])):\n",
    "        row['STOCKAGEFlash']=re.sub(r' Flash Storage','',str(row['STOCKAGEFlash']))\n",
    "        row['STOCKAGEFlash']=float(re.sub(r'TB','',str(row['STOCKAGEFlash'])))*1000\n",
    "    if re.search(r'GB',str(row['STOCKAGESSD'])):\n",
    "        row['STOCKAGESSD']=re.sub(r' SSD','',str(row['STOCKAGESSD']))\n",
    "        row['STOCKAGESSD']=float(re.sub(r'GB','',str(row['STOCKAGESSD'])))\n",
    "    if re.search(r'GB',str(row['STOCKAGEHDD'])):\n",
    "        row['STOCKAGEHDD']=re.sub(r' HDD','',str(row['STOCKAGEHDD']))\n",
    "        row['STOCKAGEHDD']=float(re.sub(r'GB','',str(row['STOCKAGEHDD'])))\n",
    "    if re.search(r'GB',str(row['STOCKAGEFlash'])):\n",
    "        row['STOCKAGEFlash']=re.sub(r' Flash Storage','',str(row['STOCKAGEFlash']))\n",
    "        row['STOCKAGEFlash']=float(re.sub(r'GB','',str(row['STOCKAGEFlash'])))\n",
    "    return row\n",
    "data1 = data1.apply(clean_memory, axis=1)"
   ]
  },
  {
   "cell_type": "code",
   "execution_count": 14,
   "id": "ec6b0f0b",
   "metadata": {},
   "outputs": [
    {
     "name": "stdout",
     "output_type": "stream",
     "text": [
      "Number of rows where STOCKAGESSD is not 0: 841\n"
     ]
    }
   ],
   "source": [
    "count_zero_ssd = (data1['STOCKAGESSD'] != 0).sum()\n",
    "\n",
    "# Display the count\n",
    "print(f\"Number of rows where STOCKAGESSD is not 0: {count_zero_ssd}\")"
   ]
  },
  {
   "cell_type": "code",
   "execution_count": 15,
   "id": "7c78965f",
   "metadata": {},
   "outputs": [
    {
     "name": "stdout",
     "output_type": "stream",
     "text": [
      "Number of rows where STOCKAGEHDD is not 0: 575\n"
     ]
    }
   ],
   "source": [
    "count_zero_ssd = (data1['STOCKAGEHDD'] != 0).sum()\n",
    "\n",
    "# Display the count\n",
    "print(f\"Number of rows where STOCKAGEHDD is not 0: {count_zero_ssd}\")"
   ]
  },
  {
   "cell_type": "code",
   "execution_count": 16,
   "id": "d921d376",
   "metadata": {},
   "outputs": [
    {
     "name": "stdout",
     "output_type": "stream",
     "text": [
      "Number of rows where STOCKAGEFlash is not 0: 75\n"
     ]
    }
   ],
   "source": [
    "count_zero_ssd = (data1['STOCKAGEFlash'] != 0).sum()\n",
    "\n",
    "# Display the count\n",
    "print(f\"Number of rows where STOCKAGEFlash is not 0: {count_zero_ssd}\")"
   ]
  },
  {
   "cell_type": "code",
   "execution_count": 20,
   "id": "6221782e",
   "metadata": {},
   "outputs": [
    {
     "data": {
      "text/html": [
       "<div>\n",
       "<style scoped>\n",
       "    .dataframe tbody tr th:only-of-type {\n",
       "        vertical-align: middle;\n",
       "    }\n",
       "\n",
       "    .dataframe tbody tr th {\n",
       "        vertical-align: top;\n",
       "    }\n",
       "\n",
       "    .dataframe thead th {\n",
       "        text-align: right;\n",
       "    }\n",
       "</style>\n",
       "<table border=\"1\" class=\"dataframe\">\n",
       "  <thead>\n",
       "    <tr style=\"text-align: right;\">\n",
       "      <th></th>\n",
       "      <th>Inches</th>\n",
       "      <th>Cpu</th>\n",
       "      <th>Ram</th>\n",
       "      <th>Gpu</th>\n",
       "      <th>Weight</th>\n",
       "      <th>Price</th>\n",
       "      <th>STOCKAGESSD</th>\n",
       "      <th>STOCKAGEHDD</th>\n",
       "      <th>STOCKAGEFlash</th>\n",
       "      <th>_Acer</th>\n",
       "      <th>_Apple</th>\n",
       "      <th>_Asus</th>\n",
       "      <th>_Dell</th>\n",
       "      <th>_HP</th>\n",
       "      <th>_Lenovo</th>\n",
       "      <th>_MSI</th>\n",
       "      <th>_Toshiba</th>\n",
       "    </tr>\n",
       "  </thead>\n",
       "  <tbody>\n",
       "    <tr>\n",
       "      <th>0</th>\n",
       "      <td>13.3</td>\n",
       "      <td>Intel Core i5 2.3GHz</td>\n",
       "      <td>8</td>\n",
       "      <td>Intel Iris Plus Graphics 640</td>\n",
       "      <td>137</td>\n",
       "      <td>71378.6832</td>\n",
       "      <td>128.0</td>\n",
       "      <td>0.0</td>\n",
       "      <td>0.0</td>\n",
       "      <td>False</td>\n",
       "      <td>True</td>\n",
       "      <td>False</td>\n",
       "      <td>False</td>\n",
       "      <td>False</td>\n",
       "      <td>False</td>\n",
       "      <td>False</td>\n",
       "      <td>False</td>\n",
       "    </tr>\n",
       "    <tr>\n",
       "      <th>1</th>\n",
       "      <td>13.3</td>\n",
       "      <td>Intel Core i5 1.8GHz</td>\n",
       "      <td>8</td>\n",
       "      <td>Intel HD Graphics 6000</td>\n",
       "      <td>134</td>\n",
       "      <td>47895.5232</td>\n",
       "      <td>0.0</td>\n",
       "      <td>0.0</td>\n",
       "      <td>128.0</td>\n",
       "      <td>False</td>\n",
       "      <td>True</td>\n",
       "      <td>False</td>\n",
       "      <td>False</td>\n",
       "      <td>False</td>\n",
       "      <td>False</td>\n",
       "      <td>False</td>\n",
       "      <td>False</td>\n",
       "    </tr>\n",
       "    <tr>\n",
       "      <th>2</th>\n",
       "      <td>15.6</td>\n",
       "      <td>Intel Core i5 7200U 2.5GHz</td>\n",
       "      <td>8</td>\n",
       "      <td>Intel HD Graphics 620</td>\n",
       "      <td>186</td>\n",
       "      <td>30636.0000</td>\n",
       "      <td>256.0</td>\n",
       "      <td>0.0</td>\n",
       "      <td>0.0</td>\n",
       "      <td>False</td>\n",
       "      <td>False</td>\n",
       "      <td>False</td>\n",
       "      <td>False</td>\n",
       "      <td>True</td>\n",
       "      <td>False</td>\n",
       "      <td>False</td>\n",
       "      <td>False</td>\n",
       "    </tr>\n",
       "    <tr>\n",
       "      <th>3</th>\n",
       "      <td>15.4</td>\n",
       "      <td>Intel Core i7 2.7GHz</td>\n",
       "      <td>16</td>\n",
       "      <td>AMD Radeon Pro 455</td>\n",
       "      <td>183</td>\n",
       "      <td>135195.3360</td>\n",
       "      <td>512.0</td>\n",
       "      <td>0.0</td>\n",
       "      <td>0.0</td>\n",
       "      <td>False</td>\n",
       "      <td>True</td>\n",
       "      <td>False</td>\n",
       "      <td>False</td>\n",
       "      <td>False</td>\n",
       "      <td>False</td>\n",
       "      <td>False</td>\n",
       "      <td>False</td>\n",
       "    </tr>\n",
       "    <tr>\n",
       "      <th>4</th>\n",
       "      <td>13.3</td>\n",
       "      <td>Intel Core i5 3.1GHz</td>\n",
       "      <td>8</td>\n",
       "      <td>Intel Iris Plus Graphics 650</td>\n",
       "      <td>137</td>\n",
       "      <td>96095.8080</td>\n",
       "      <td>256.0</td>\n",
       "      <td>0.0</td>\n",
       "      <td>0.0</td>\n",
       "      <td>False</td>\n",
       "      <td>True</td>\n",
       "      <td>False</td>\n",
       "      <td>False</td>\n",
       "      <td>False</td>\n",
       "      <td>False</td>\n",
       "      <td>False</td>\n",
       "      <td>False</td>\n",
       "    </tr>\n",
       "  </tbody>\n",
       "</table>\n",
       "</div>"
      ],
      "text/plain": [
       "   Inches                         Cpu Ram                           Gpu  \\\n",
       "0    13.3        Intel Core i5 2.3GHz   8  Intel Iris Plus Graphics 640   \n",
       "1    13.3        Intel Core i5 1.8GHz   8        Intel HD Graphics 6000   \n",
       "2    15.6  Intel Core i5 7200U 2.5GHz   8         Intel HD Graphics 620   \n",
       "3    15.4        Intel Core i7 2.7GHz  16            AMD Radeon Pro 455   \n",
       "4    13.3        Intel Core i5 3.1GHz   8  Intel Iris Plus Graphics 650   \n",
       "\n",
       "  Weight        Price  STOCKAGESSD  STOCKAGEHDD  STOCKAGEFlash  _Acer  _Apple  \\\n",
       "0    137   71378.6832        128.0          0.0            0.0  False    True   \n",
       "1    134   47895.5232          0.0          0.0          128.0  False    True   \n",
       "2    186   30636.0000        256.0          0.0            0.0  False   False   \n",
       "3    183  135195.3360        512.0          0.0            0.0  False    True   \n",
       "4    137   96095.8080        256.0          0.0            0.0  False    True   \n",
       "\n",
       "   _Asus  _Dell    _HP  _Lenovo   _MSI  _Toshiba  \n",
       "0  False  False  False    False  False     False  \n",
       "1  False  False  False    False  False     False  \n",
       "2  False  False   True    False  False     False  \n",
       "3  False  False  False    False  False     False  \n",
       "4  False  False  False    False  False     False  "
      ]
     },
     "execution_count": 20,
     "metadata": {},
     "output_type": "execute_result"
    }
   ],
   "source": [
    "data1.head()"
   ]
  },
  {
   "cell_type": "code",
   "execution_count": 18,
   "id": "ab431bcb",
   "metadata": {},
   "outputs": [],
   "source": [
    "mark_counts = data1['Company'].value_counts()\n",
    "data1 = data1[data1['Company'].isin(mark_counts.index[mark_counts >= 10])]\n",
    "data1 = pd.get_dummies(data1, columns=['Company'], prefix='')"
   ]
  },
  {
   "cell_type": "code",
   "execution_count": null,
   "id": "4073f7a2",
   "metadata": {},
   "outputs": [],
   "source": [
    "CPU_patternn = r'((\\d{4,6})|(\\d{1,2}th)|(\\d{1,2}(e|è|é)me)|(i\\d-?\\d{4,6}?))'\n",
    "        cpu_brand_pattern = r'(intel|amd|ryzen)'\n",
    "        cpu_modifier_pattern = r'i[3579]'\n",
    "        if (re.search(CPU_patternn,text)):\n",
    "            print(text)\n",
    "            if re.search(cpu_brand_pattern, text):\n",
    "                AttrAndValue['CPU_Brand'] = re.search(cpu_brand_pattern, text).group()\n",
    "                print(AttrAndValue['CPU_Brand'])\n",
    "                if AttrAndValue['CPU_Brand'] in ['amd', 'ryzen']:\n",
    "                    CPU_serie = re.search(r'\\d{4,5}(u|r|x)', text)\n",
    "                    CPU_amd_gen=re.search(r'^\\d{3}',CPU_serie.group(0))\n",
    "                    AttrAndValue['CPU_Modifier'] = CPU_serie.group(0)[0]\n",
    "\n",
    "                    if CPU_amd_gen.group(0)[1] in ['3', '4', '5', '6', '7', '8', '9']:\n",
    "                        AttrAndValue['CPU_Generation'] = int(CPU_serie.group(0)[0])\n",
    "                    else:\n",
    "                        AttrAndValue['CPU_Generation'] = int(CPU_serie.group(0)[0:1])\n",
    "                    if re.search(r'\\dpro',text):\n",
    "                        AttrAndValue['CPU_Modifier'] = re.search(r'\\dpro',text).group(0)[0]\n",
    "                elif AttrAndValue['CPU_Brand']=='intel':\n",
    "                    CPU_intel=re.search(r'(i\\d-?\\d{4,6}?)', text)\n",
    "                    generation = re.search(r'(\\d{4,6})|(\\d{1,2}th)|(\\d{1,2}(e|è|é)me)', text)\n",
    "                    \n",
    "                    if generation.group(0)[0] in ['3', '4', '5', '6', '7', '8', '9']:\n",
    "                        AttrAndValue['CPU_Generation'] = int(generation.group(0)[0])\n",
    "                    else:\n",
    "                        AttrAndValue['CPU_Generation'] = int(generation.group(0)[0:2])\n",
    "\n",
    "                    if re.search(cpu_modifier_pattern, text):\n",
    "                        AttrAndValue['CPU_Modifier'] = re.search(cpu_modifier_pattern, text).group().lower()"
   ]
  }
 ],
 "metadata": {
  "kernelspec": {
   "display_name": "Python 3 (ipykernel)",
   "language": "python",
   "name": "python3"
  },
  "language_info": {
   "codemirror_mode": {
    "name": "ipython",
    "version": 3
   },
   "file_extension": ".py",
   "mimetype": "text/x-python",
   "name": "python",
   "nbconvert_exporter": "python",
   "pygments_lexer": "ipython3",
   "version": "3.11.5"
  }
 },
 "nbformat": 4,
 "nbformat_minor": 5
}
