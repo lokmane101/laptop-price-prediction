{
 "cells": [
  {
   "cell_type": "code",
   "execution_count": 2,
   "metadata": {},
   "outputs": [
    {
     "data": {
      "text/plain": [
       "Index(['Ville', 'Prix', 'Surface', 'Nombre De Pièces', 'Nombre De Chambres',\n",
       "       'Nombre De Salles De Bain', 'Etat De Location', 'Age De Location',\n",
       "       'Nombre D’Étages', 'Orientation', 'Jardin', 'Terrasse', 'Garage',\n",
       "       'Ascenseur', 'Piscine', 'Concierge', 'Meublé', 'Salon Marocain',\n",
       "       'Salon européen', 'Climatisation', 'Sécurité', 'Cuisine équipée',\n",
       "       'Réfrigérateur', 'Four', 'TV', 'Machine à laver', 'Micro-ondes'],\n",
       "      dtype='object')"
      ]
     },
     "execution_count": 2,
     "metadata": {},
     "output_type": "execute_result"
    }
   ],
   "source": [
    "import pandas as pd\n",
    "df = pd.read_csv('chambre_descriptions.csv')\n",
    "df.shape"
   ]
  },
  {
   "cell_type": "code",
   "execution_count": null,
   "metadata": {},
   "outputs": [],
   "source": []
  }
 ],
 "metadata": {
  "kernelspec": {
   "display_name": "Python 3 (ipykernel)",
   "language": "python",
   "name": "python3"
  },
  "language_info": {
   "codemirror_mode": {
    "name": "ipython",
    "version": 3
   },
   "file_extension": ".py",
   "mimetype": "text/x-python",
   "name": "python",
   "nbconvert_exporter": "python",
   "pygments_lexer": "ipython3",
   "version": "3.12.0"
  }
 },
 "nbformat": 4,
 "nbformat_minor": 4
}
